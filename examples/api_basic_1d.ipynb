{
 "cells": [
  {
   "cell_type": "markdown",
   "metadata": {},
   "source": [
    "# Basic API for qttpdesolver package (1D case).\n",
    "\n",
    "For illustration, we consider below the following solvers \n",
    "\n",
    "- Solver-FS (a new Finite Sum solver)\n",
    "\n",
    "- Solver-FD (a Finite Difference solver) \n",
    "\n",
    "for 1D stationary diffusion type PDE with scalar coefficient."
   ]
  },
  {
   "cell_type": "markdown",
   "metadata": {},
   "source": [
    "### First of all, we have to import  the main classes, functions and constants:\n",
    "\n",
    "- Pde - is a class that represent equation. It collect benchmarks (prepared model PDEs), coefficients and parameters of calculation. The calculation results are also stored (automatically) in the instance of this class.\n",
    "\n",
    "- create_solver - is a function for construction of the Solver class instance according to selected solver type and calculation mode.\n",
    "\n",
    "- auto_solve - is a very usefull function that perfom all required steps to solve PDE and prepare results (if it is not used, then special functions like prep_solution, prep_derivative, prep_uu and prep_uf should be called explicitly).\n",
    "\n",
    "- MODE_NP, MODE_TT, MODE_SP - are the constants that indicate the mode of calculation (numpy or tensor train or scipy sparse respectively). Note: MODE_SP is not available for the SolverFs. \n",
    "\n",
    "- SOLVER_FS, SOLVER_FD - are the constants that indicate the solver type."
   ]
  },
  {
   "cell_type": "code",
   "execution_count": 1,
   "metadata": {
    "collapsed": false
   },
   "outputs": [],
   "source": [
    "%matplotlib inline\n",
    "import numpy as np\n",
    "\n",
    "from qttpdesolver import Pde, create_solver, auto_solve\n",
    "from qttpdesolver import MODE_NP, MODE_TT, MODE_SP, SOLVER_FS, SOLVER_FD"
   ]
  },
  {
   "cell_type": "markdown",
   "metadata": {},
   "source": [
    "### We'll also import some additional functions (only for test perposes):\n",
    "\n",
    "(this functions are called from auto_solve function automatically)"
   ]
  },
  {
   "cell_type": "code",
   "execution_count": 2,
   "metadata": {
    "collapsed": false
   },
   "outputs": [],
   "source": [
    "from qttpdesolver.solve import prep_solution, prep_derivative, prep_uu, prep_uf"
   ]
  },
  {
   "cell_type": "markdown",
   "metadata": {},
   "source": [
    "### Now we'll construct a PDE:\n",
    "\n",
    "(model parameters should be set explicitly)"
   ]
  },
  {
   "cell_type": "code",
   "execution_count": 3,
   "metadata": {
    "collapsed": false
   },
   "outputs": [
    {
     "name": "stdout",
     "output_type": "stream",
     "text": [
      "PDE:        Simple 1D PDE for test\n",
      "Parameters: w1 [=6.2832  ]\n",
      "k  = 1+x\n",
      "f  = w_1^2 (1+x) sin(w_1 x) - w_1 cos(w_1 x)\n",
      "u  = sin(w_1 x)\n",
      "ux = w_1 cos(w_1 x)\n",
      "\n"
     ]
    }
   ],
   "source": [
    "PDE = Pde()\n",
    "PDE.txt = 'Simple 1D PDE for test' # It will be used in results representation\n",
    "PDE.dim = 1                        # Dimension of the spatial variable\n",
    "PDE.L   = 1.                       # Domain size (this variable is not used in current version: L=1 always)\n",
    " \n",
    "# We set functions for coefficient k, rhs\n",
    "# and analytic solution and derivatives of the model PDE (-1.)*div (k grad u) = f\n",
    "# (all functions should have the same arguments)\n",
    "\n",
    "def k_func(x, w1):\n",
    "    return 1. + x\n",
    "\n",
    "def f_func(x, w1):\n",
    "    s1 = np.sin(w1*x)\n",
    "    c1 = np.cos(w1*x)\n",
    "    return w1*w1*(1.+x)*s1 - w1*c1\n",
    "\n",
    "def u_func(x, w1):\n",
    "    return np.sin(w1*x)\n",
    "\n",
    "def ux_func(x, w1):\n",
    "    return w1*np.cos(w1*x)\n",
    "\n",
    "# And now we set this functions as parameters of PDE class instance\n",
    "# (txt descriptions will be used for output)\n",
    "\n",
    "PDE.k_txt = 'k  = 1+x'\n",
    "PDE.k = k_func\n",
    "\n",
    "PDE.f_txt = 'f  = w_1^2 (1+x) sin(w_1 x) - w_1 cos(w_1 x)'\n",
    "PDE.f = f_func\n",
    "\n",
    "PDE.u_txt = 'u  = sin(w_1 x)'\n",
    "PDE.u = u_func   # analytical solution\n",
    "\n",
    "PDE.ux_txt = 'ux = w_1 cos(w_1 x)'\n",
    "PDE.ux = ux_func # analytical du/dx\n",
    "\n",
    "# We also set parameters values and text description\n",
    "PDE.params_txt = 'w1 [=%-8.4f]'\n",
    "PDE.set_params([np.pi/PDE.L * 2])\n",
    "\n",
    "# This function present current model\n",
    "PDE.present_model()"
   ]
  },
  {
   "cell_type": "markdown",
   "metadata": {},
   "source": [
    "### Compact form\n",
    "\n",
    "The code from the previous cell may be rewritten in a more compact form if we use a model from gallery:"
   ]
  },
  {
   "cell_type": "code",
   "execution_count": 4,
   "metadata": {
    "collapsed": false
   },
   "outputs": [
    {
     "name": "stdout",
     "output_type": "stream",
     "text": [
      "The following models are available:\n",
      "Model # 0. Name: |Simple. Analyt 1D diffusion PDE|\n",
      "   -div(k grad u) = f in [0, 1]; u_d = 0; u is known\n",
      "Model # 1. Name: |Simple. Analyt 2D diffusion PDE|\n",
      "   -div(k grad u) = f in [0, 1]^2; u_d = 0; u is known\n",
      "Model # 2. Name: |Simple. Analyt 3D diffusion PDE|\n",
      "   -div(k grad u) = f in [0, 1]^3; u_d = 0; u is known\n",
      "Model # 3. Name: |Simple. Msc 1D diffusion PDE|\n",
      "   -div(k grad u) = f in [0, 1]; u_d = 0; k - 1d multiscale coeff.\n",
      "Model # 4. Name: |Simple. Msc 2D diffusion PDE|\n",
      "   -div(k grad u) = f in [0, 1]^2; u_d = 0; k - 2d multiscale coeff.\n",
      "Model # 5. Name: |Simple. Msc 3D diffusion PDE|\n",
      "   -div(k grad u) = f in [0, 1]^3; u_d = 0; k - 3d multiscale coeff.\n",
      "Model # 6. Name: |Simple. 1D diffusion PDE with rhs=1|\n",
      "   -div(k grad u) = f in [0, 1]; u_d = 0; f=1\n",
      "Model # 7. Name: |Simple. 2D diffusion PDE with rhs=1|\n",
      "   -div(k grad u) = f in [0, 1]^2; u_d = 0; f=1\n",
      "Model # 8. Name: |Simple. 3D diffusion PDE with rhs=1|\n",
      "   -div(k grad u) = f in [0, 1]^3; u_d = 0; f=1\n",
      "Model # 9. Name: |Simple. 1D Helmholtz PDE wuth rhs=0|\n",
      "   -delta u - k^2 u = f; in [0, 1]; u(0)=1; u_x(1)=iku(1); f=0\n",
      "Model #10. Name: |Simple. 1D Helmholtz PDE with rhs=-1|\n",
      "   -delta u - k^2 u = f; in [0, 1]; u(0)=0; u_x(1)=iku(1); f=-1\n",
      "Model #11. Name: |2D diffusion PDE with 4 point sources as rhs|\n",
      "   -div(k grad u) = f in [0, 1]^2; u_d = 0; f - 4 point sources near corners\n",
      "\n",
      "--------------------------------------------------\n",
      "PDE:        -div(k grad u) = f in [0, 1]; u_d = 0; u is known\n",
      "Parameters: w1 [=6.2832  ]\n",
      "k  = 1+x\n",
      "f  = w_1^2 (1+x) sin(w_1 x) - w_1 cos(w_1 x)\n",
      "u  = sin(w_1 x)\n",
      "ux = w_1 cos(w_1 x)\n",
      "\n"
     ]
    }
   ],
   "source": [
    "PDE = Pde()\n",
    "PDE.present_models()\n",
    "print '-'*50\n",
    "PDE.set_model('Simple. Analyt 1D diffusion PDE') # number (0) or name of the model may be used\n",
    "PDE.set_params([np.pi*2])                        # default values of parameters can be changed\n",
    "PDE.present_model()"
   ]
  },
  {
   "cell_type": "markdown",
   "metadata": {},
   "source": [
    "### Next, we have to set parameters of the calculation:"
   ]
  },
  {
   "cell_type": "code",
   "execution_count": 5,
   "metadata": {
    "collapsed": false
   },
   "outputs": [
    {
     "name": "stdout",
     "output_type": "stream",
     "text": [
      "__________________General parameters\n",
      "Mode          : tt\n",
      "Solver        : fs\n",
      "Model num     : 0 \n",
      "Parameters    : w1 [=6.2832  ]\n",
      "__________________Verbosity parameters\n",
      "verb_gen      : True\n",
      "verb_crs      : False\n",
      "verb_lss      : False\n",
      "print_to_std  : True\n",
      "print_to_file : False\n",
      "__________________TT parameters\n",
      "tau           : 1.00e-10\n",
      "eps_lss       : 1.00e-10\n",
      "tau_lss       : 1.00e-10\n",
      "tau_real      : 1.00e-12\n",
      "lss: nswp     : 20  \n",
      "lss: kickrank : 4   \n",
      "lss: use sol0 : False\n",
      "\n"
     ]
    }
   ],
   "source": [
    "PDE.set_mode(MODE_TT)            # Calculation mode ('np': numpy, 'tt':tensor train or 'sp': scipy sparse)\n",
    "                                 # (Note: MODE_SP is not available for Solver-FS)\n",
    "PDE.set_solver_txt(SOLVER_FS)    # Name of the solver (SOLVER_FS='fs' or SOLVER_FD='fd')\n",
    "                                 # (if auto_solve is used then solver will be selected from this var.\n",
    "PDE.set_verb(verb_gen=True,      # If is True then general info will be printed\n",
    "             verb_crs=False,     # If is True then cross approximation info will be printed\n",
    "             verb_lss=False)     # If is True then lin. syst. solver info will be printed\n",
    "PDE.set_tau(tau=1.E-10,          # Accuracy for tt-representation\n",
    "            eps_lss=1.E-10,      # Accuracy for linear system solver iterations, \n",
    "            tau_lss=1.E-10)      # Accuracy for linear system solver resulting rounding\n",
    "                                 # (if tau_lss is None, then real accurace of solver will be used)\n",
    "                                 # There is one more parameter tau_real (=tau*1.E-2 by default),\n",
    "                                 # that is the accuracy for construction of analytical solution\n",
    "PDE.set_lss_params(nswp=20,      # Settings for linear system solver\n",
    "                   kickrank=4, \n",
    "                   local_prec='n', \n",
    "                   local_iters=2,\n",
    "                   local_restart=20, \n",
    "                   trunc_norm=1, \n",
    "                   max_full_size=100)\n",
    "PDE.present_info()               # This function prints current settings"
   ]
  },
  {
   "cell_type": "markdown",
   "metadata": {},
   "source": [
    "### PDE solution:"
   ]
  },
  {
   "cell_type": "code",
   "execution_count": 7,
   "metadata": {
    "collapsed": false
   },
   "outputs": [
    {
     "name": "stdout",
     "output_type": "stream",
     "text": [
      "Time of coeffs.  generation: 0.1848  \n",
      "Time of matrices generation: 0.0043  \n",
      "Time of system generation  : 0.0000  \n",
      "Time of system solving     : 0.0141  \n",
      "d=20|fs-tt|er=3.1e-12 |erdx=4.7e-11 |T=0.203  |R=2.0  |It=0 \n"
     ]
    }
   ],
   "source": [
    "# We set value of d. This function also recalculates\n",
    "# n=2**d (a number of grid nodes along one axis) and h=L/n (grid step) (L=1).\n",
    "PDE.update_d(20)\n",
    "\n",
    "# We remove results of the previous calculations (it's necessary only for the case\n",
    "# then the same PDE instance is used for several calculations):\n",
    "PDE.clean()\n",
    "\n",
    "# We create solver class instance and explicitly call 4 main functions:\n",
    "PDESolver = create_solver(PDE)\n",
    "PDESolver.gen_coefficients()\n",
    "PDESolver.gen_matrices()\n",
    "PDESolver.gen_system()\n",
    "PDESolver.gen_solution()\n",
    "# We can call only one function instead gen_* functions:\n",
    "#PDESolver.solve() \n",
    "\n",
    "# This functions calculate errors, eranks, derivatives and so on:\n",
    "prep_solution(PDE)\n",
    "prep_derivative(PDE)\n",
    "prep_uu(PDE)\n",
    "prep_uf(PDE, PDESolver)\n",
    "    \n",
    "# This function presents result in a one string mode:\n",
    "PDE.present_res_1s()"
   ]
  },
  {
   "cell_type": "markdown",
   "metadata": {},
   "source": [
    "### Compact form:\n",
    "\n",
    "The code from the previous cell may be rewritten in a more compact form if we use an auto_solve function:"
   ]
  },
  {
   "cell_type": "code",
   "execution_count": 8,
   "metadata": {
    "collapsed": false
   },
   "outputs": [
    {
     "name": "stdout",
     "output_type": "stream",
     "text": [
      "Time of coeffs.  generation: 0.2456  \n",
      "Time of matrices generation: 0.0040  \n",
      "Time of system generation  : 0.0000  \n",
      "Time of system solving     : 0.0155  \n",
      "Time of additional calcs.  : 0.2427  \n",
      "d=20|fs-tt|er=3.1e-12 |erdx=4.7e-11 |T=0.265  |R=2.0  |It=0 \n"
     ]
    }
   ],
   "source": [
    "PDE.update_d(20)\n",
    "PDE.set_verb(verb_gen=True, verb_crs=False, verb_lss=True) \n",
    "PDESolver = auto_solve(PDE, return_solver=True)"
   ]
  },
  {
   "cell_type": "markdown",
   "metadata": {},
   "source": [
    "### The output in the 1-string mode has the following sense:\n",
    "- d=20 - is a factor of grid size (n=2^d),\n",
    "- fs-tt - is a name of the used solver and a calculation mode,\n",
    "- er=3.1e-12 - is the error of solution vs analytical (if it's known),\n",
    "- erdx=4.7e-11 - is the error of x-derivative vs analytical (if it's known),\n",
    "- T=0.265 - is the time of calculation in seconds (an exact numerical values may depend on work station, which is used for computations),\n",
    "- R=2.0 - is the e-rank of the calculated solution (since random restart in AMEn-solver is used, the rank can vary within a small range),\n",
    "- It=0 - is a number of AMEn iterations (FS-QTT-Solver in 1D don't use AMEn solver, since explicit formula is available),"
   ]
  },
  {
   "cell_type": "markdown",
   "metadata": {},
   "source": [
    "### Then we can present the calculation results:"
   ]
  },
  {
   "cell_type": "code",
   "execution_count": 9,
   "metadata": {
    "collapsed": false
   },
   "outputs": [
    {
     "name": "stdout",
     "output_type": "stream",
     "text": [
      "PDE                : -div(k grad u) = f in [0, 1]; u_d = 0; u is known\n",
      "PDE mode           : tt\n",
      "Used PDE solver    : fs\n",
      "PDE dimension      : 1   \n",
      "Value of d         : 20  \n",
      "Mesh 1D size       : 1048576\n",
      "Solution erank     : 1.96  \n",
      "Analit. sol. erank : 1.96  \n",
      "Solution error     : 3.07e-12\n",
      "X-derivative error : 4.72e-11\n",
      "(u, f) real        : 29.6088132033   \n",
      "(u, f) calc        : 29.6088132034   \n",
      "(u, f) err         : 3.00e-12\n",
      "Solver iterations  : 0   \n",
      "Time: coeff.   (s.): 0.2456  \n",
      "Time: matrices (s.): 0.0040  \n",
      "Time: system   (s.): 0.0000  \n",
      "Time: system   (s.): 0.0155  \n",
      "Total time     (s.): 0.2651  \n",
      "*Time: prep.   (s.): 0.2427  \n",
      "\n"
     ]
    },
    {
     "data": {
      "image/png": "[encoded data removed]",
      "text/plain": [
       "<matplotlib.figure.Figure at 0x7f28b450a6d0>"
      ]
     },
     "metadata": {},
     "output_type": "display_data"
    },
    {
     "data": {
      "image/png": "[encoded data removed]",
      "text/plain": [
       "<matplotlib.figure.Figure at 0x7f2884e09890>"
      ]
     },
     "metadata": {},
     "output_type": "display_data"
    }
   ],
   "source": [
    "PDE.present_res()\n",
    "PDE.plot_res()"
   ]
  },
  {
   "cell_type": "markdown",
   "metadata": {},
   "source": [
    "### The following variables and values are saved in Pde class instance after calculation (some of them may be None):\n",
    "\n",
    "- Linear system solver parameters (iters and so on) (for SOLVER_FD in MODE_TT)\n",
    "- Effective ranks of the main vectors and matrices: r['A'], r['rhs'], ... (in MODE_TT)\n",
    "- Calculated solution: u_calc, u_calc_ranks (for MODE_TT)\n",
    "- Analytical solution: u_real, u_real_ranks (for MODE_TT)  and the error u_err\n",
    "- Calculated derivative: ux_calc\n",
    "- Analytical derivative: ux_real and the error ux_err\n",
    "- Functional (u, u): uu_calc, uu_real, uu_err\n",
    "- Functional (u, f): uf_calc, uf_real, uf_err\n",
    "- Times of the main operations (t['cgen'], ...) and t_full"
   ]
  },
  {
   "cell_type": "code",
   "execution_count": 11,
   "metadata": {
    "collapsed": false
   },
   "outputs": [
    {
     "name": "stdout",
     "output_type": "stream",
     "text": [
      " tt-vector |u_calc|             [tau=1.00e-10] {d=20} (erank=  2.0)\n",
      " tt-vector |u_real|             [tau=1.00e-10] {d=20} (erank=  2.0)\n",
      " tt-vector |ux_calc|            [tau=1.00e-10] {d=20} (erank=  3.2)\n",
      " tt-vector |ux_real|            [tau=1.00e-10] {d=20} (erank=  2.0)\n",
      "0.500000000003\n"
     ]
    }
   ],
   "source": [
    "print PDE.u_calc\n",
    "print PDE.u_real\n",
    "print PDE.ux_calc\n",
    "print PDE.ux_real\n",
    "print PDE.uu_calc"
   ]
  },
  {
   "cell_type": "markdown",
   "metadata": {},
   "source": [
    "### The following variables are saved in PDESolver class instance (for Solver_FS) after calculation:"
   ]
  },
  {
   "cell_type": "code",
   "execution_count": 12,
   "metadata": {
    "collapsed": false
   },
   "outputs": [
    {
     "name": "stdout",
     "output_type": "stream",
     "text": [
      " tt-vector |f|                  [tau=1.00e-10] {d=20} (erank=  3.3)\n",
      " tt-matrix |iKx|                [tau=1.00e-10] {d=20} (erank=  3.0)\n",
      " tt-matrix |Bx|                 [tau=1.00e-10] {d=20} (erank=  2.0)\n"
     ]
    }
   ],
   "source": [
    "print PDESolver.f\n",
    "print PDESolver.iKx\n",
    "print PDESolver.Bx"
   ]
  },
  {
   "cell_type": "markdown",
   "metadata": {},
   "source": [
    "### Note that all variables have type Vector or Matrix from subpackage tensor_wrapper.\n",
    "\n",
    "This is format-free representation of arrays (operations in MODE_NP, MODE_TT and MODE_SP have the same form in this format). \n",
    "\n",
    "If one needs numpy array, then to_np property should be called (it works only for moderate d values).\n",
    "\n",
    "Property to_tt converts Vector or Matrix class instance to tt-format. \n",
    "\n",
    "Otherwise the .x property may be used - it contains the np.ndarray or tt.vector or tt.matrix or scipy.sparse scr matrix."
   ]
  },
  {
   "cell_type": "code",
   "execution_count": 13,
   "metadata": {
    "collapsed": false
   },
   "outputs": [
    {
     "name": "stdout",
     "output_type": "stream",
     "text": [
      "<class 'qttpdesolver.tensor_wrapper.vector.Vector'>\n",
      "<class 'tt.core.vector.vector'>\n",
      "<type 'numpy.ndarray'>\n",
      "(1048576,)\n",
      "<class 'tt.core.vector.vector'>\n"
     ]
    }
   ],
   "source": [
    "print type(PDESolver.f)\n",
    "f_tt = PDESolver.f.to_tt\n",
    "print type(f_tt)\n",
    "f_np = PDESolver.f.to_np\n",
    "print type(f_np)\n",
    "print f_np.shape\n",
    "print type(PDESolver.f.x)"
   ]
  },
  {
   "cell_type": "markdown",
   "metadata": {
    "collapsed": true
   },
   "source": [
    "### And now let perform the same calculation for Solver-FD in MODE_TT in a compact form\n",
    "\n",
    "Note, SOLVER_FD is not accurate for huge d values. So, for the selected d(=20) we have the higher error of the solution, than for the case of the SOLVER_FS."
   ]
  },
  {
   "cell_type": "code",
   "execution_count": 1,
   "metadata": {
    "collapsed": true
   },
   "outputs": [],
   "source": [
    "%matplotlib inline\n",
    "import numpy as np\n",
    "\n",
    "from qttpdesolver import Pde, auto_solve\n",
    "from qttpdesolver import MODE_NP, MODE_TT, MODE_SP, SOLVER_FS, SOLVER_FD"
   ]
  },
  {
   "cell_type": "code",
   "execution_count": 2,
   "metadata": {
    "collapsed": false
   },
   "outputs": [
    {
     "name": "stdout",
     "output_type": "stream",
     "text": [
      "  Construction of Kx\n",
      "=multifuncrs= sweep 1{2}, max_dy: 6.547e-01, erank: 6.245\n",
      "=multifuncrs= sweep 2{1}, max_dy: 5.493e-16, erank: 6.245\n",
      "  Construction of f\n",
      "=multifuncrs= sweep 1{2}, max_dy: 1.013e+00, erank: 6.245\n",
      "=multifuncrs= sweep 2{1}, max_dy: 1.352e-11, erank: 7.54983\n",
      "Time of coeffs.  generation: 0.1927  \n",
      "Time of matrices generation: 0.0069  \n",
      "Time of system generation  : 0.0127  \n",
      "amen_solve: swp=1, max_dx= 4.486E+04, max_res= 3.138E+08, max_rank=9\n",
      "amen_solve: swp=2, max_dx= 7.041E-06, max_res= 7.552E-03, max_rank=13\n",
      "amen_solve: swp=3, max_dx= 9.827E-06, max_res= 3.851E-04, max_rank=17\n",
      "amen_solve: swp=4, max_dx= 1.809E-05, max_res= 4.052E-04, max_rank=21\n",
      "amen_solve: swp=5, max_dx= 6.961E-06, max_res= 2.215E-04, max_rank=25\n",
      "amen_solve: swp=6, max_dx= 1.087E-05, max_res= 5.308E-04, max_rank=29\n",
      "amen_solve: swp=7, max_dx= 9.272E-06, max_res= 2.720E-04, max_rank=33\n",
      "amen_solve: swp=8, max_dx= 3.843E-06, max_res= 3.268E-04, max_rank=37\n",
      "amen_solve: swp=9, max_dx= 8.205E-06, max_res= 4.165E-04, max_rank=41\n",
      "amen_solve: swp=10, max_dx= 6.300E-06, max_res= 2.778E-04, max_rank=45\n",
      "amen_solve: swp=11, max_dx= 8.858E-06, max_res= 2.962E-04, max_rank=49\n",
      "amen_solve: swp=12, max_dx= 3.708E-06, max_res= 3.841E-04, max_rank=53\n",
      "amen_solve: swp=13, max_dx= 2.065E-06, max_res= 1.413E-04, max_rank=57\n",
      "amen_solve: swp=14, max_dx= 6.761E-06, max_res= 3.216E-04, max_rank=61\n",
      "amen_solve: swp=15, max_dx= 1.698E-05, max_res= 2.652E-04, max_rank=65\n",
      "amen_solve: swp=16, max_dx= 9.102E-06, max_res= 3.300E-04, max_rank=69\n",
      "amen_solve: swp=17, max_dx= 1.241E-05, max_res= 4.778E-04, max_rank=73\n",
      "amen_solve: swp=18, max_dx= 1.498E-05, max_res= 5.676E-04, max_rank=77\n",
      "amen_solve: swp=19, max_dx= 6.601E-06, max_res= 4.160E-04, max_rank=80\n",
      "amen_solve: swp=20, max_dx= 5.647E-06, max_res= 1.578E-04, max_rank=84\n",
      "Time of system solving     : 6.9168  \n",
      "  Construction of u_real\n",
      "=multifuncrs= sweep 1{2}, max_dy: 1.669e+05, erank: 6.245\n",
      "=multifuncrs= sweep 2{1}, max_dy: 4.210e-15, erank: 6.245\n",
      "  Construction of ux_real\n",
      "=multifuncrs= sweep 1{2}, max_dy: 1.013e+00, erank: 6.245\n",
      "=multifuncrs= sweep 2{1}, max_dy: 3.368e-15, erank: 6.245\n",
      "Time of additional calcs.  : 0.1859  \n",
      "d=20|fd-tt|er=7.3e-05 |erdx=5.2e-02 |T=7.129  |R=4.0  |It=20\n"
     ]
    }
   ],
   "source": [
    "PDE = Pde()\n",
    "\n",
    "PDE.set_model('Simple. Analyt 1D diffusion PDE')\n",
    "PDE.set_params([np.pi*2])\n",
    "PDE.set_mode(MODE_TT)\n",
    "PDE.set_solver_txt(SOLVER_FD)\n",
    "PDE.set_verb(True, True, True)\n",
    "PDE.set_tau(tau=1.E-10, eps_lss=1.E-10, tau_lss=1.E-10)\n",
    "PDE.set_lss_params(nswp=20, kickrank=4, local_prec='n', local_iters=2,\n",
    "                   local_restart=20, trunc_norm=1, max_full_size=100)\n",
    "PDE.update_d(20)\n",
    "PDESolver = auto_solve(PDE, return_solver=True)"
   ]
  },
  {
   "cell_type": "code",
   "execution_count": 3,
   "metadata": {
    "collapsed": false
   },
   "outputs": [
    {
     "name": "stdout",
     "output_type": "stream",
     "text": [
      "PDE                : -div(k grad u) = f in [0, 1]; u_d = 0; u is known\n",
      "PDE mode           : tt\n",
      "Used PDE solver    : fd\n",
      "PDE dimension      : 1   \n",
      "Value of d         : 20  \n",
      "Mesh 1D size       : 1048576\n",
      "Solution erank     : 4.01  \n",
      "Analit. sol. erank : 1.96  \n",
      "Solution error     : 7.28e-05\n",
      "X-derivative error : 5.23e-02\n",
      "(u, f) real        : 29.6088132033   \n",
      "(u, f) calc        : 29.6087587280   \n",
      "(u, f) err         : 1.84e-06\n",
      "Solver iterations  : 20  \n",
      "Matrix A erank     : 4   \n",
      "Vector rhs erank   : 4   \n",
      "Time: coeff.   (s.): 0.1927  \n",
      "Time: matrices (s.): 0.0069  \n",
      "Time: system   (s.): 0.0127  \n",
      "Time: system   (s.): 6.9168  \n",
      "Total time     (s.): 7.1291  \n",
      "*Time: prep.   (s.): 0.1859  \n",
      "\n"
     ]
    },
    {
     "data": {
      "image/png": "[encoded data removed]",
      "text/plain": [
       "<matplotlib.figure.Figure at 0x7f6975735410>"
      ]
     },
     "metadata": {},
     "output_type": "display_data"
    },
    {
     "data": {
      "image/png": "[encoded data removed]",
      "text/plain": [
       "<matplotlib.figure.Figure at 0x7f6968cf07d0>"
      ]
     },
     "metadata": {},
     "output_type": "display_data"
    }
   ],
   "source": [
    "PDE.present_res()\n",
    "PDE.plot_res()"
   ]
  },
  {
   "cell_type": "code",
   "execution_count": null,
   "metadata": {
    "collapsed": true
   },
   "outputs": [],
   "source": []
  }
 ],
 "metadata": {
  "anaconda-cloud": {},
  "kernelspec": {
   "display_name": "Python [default]",
   "language": "python",
   "name": "python2"
  },
  "language_info": {
   "codemirror_mode": {
    "name": "ipython",
    "version": 2
   },
   "file_extension": ".py",
   "mimetype": "text/x-python",
   "name": "python",
   "nbconvert_exporter": "python",
   "pygments_lexer": "ipython2",
   "version": "2.7.12"
  }
 },
 "nbformat": 4,
 "nbformat_minor": 0
}
