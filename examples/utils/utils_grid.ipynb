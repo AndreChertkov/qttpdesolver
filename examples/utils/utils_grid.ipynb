{
 "cells": [
  {
   "cell_type": "markdown",
   "metadata": {},
   "source": [
    "# Examples for functions from utils.grid module."
   ]
  },
  {
   "cell_type": "code",
   "execution_count": 1,
   "metadata": {
    "collapsed": true
   },
   "outputs": [],
   "source": [
    "import numpy as np\n",
    "\n",
    "import tt\n",
    "\n",
    "from qttpdesolver.utils.general import MODE_NP, MODE_TT\n",
    "from qttpdesolver.utils.grid import quan_on_grid, coord2ind, delta_on_grid, deltas_on_grid"
   ]
  },
  {
   "cell_type": "markdown",
   "metadata": {},
   "source": [
    "## Vectors and matrices for examples\n",
    "\n",
    "The vectors and matrices are constructed here in numpy format and then are transformed to [quantized] tensor train format (the last ones are named according to mask *_tt)."
   ]
  },
  {
   "cell_type": "code",
   "execution_count": 2,
   "metadata": {
    "collapsed": true
   },
   "outputs": [],
   "source": [
    "d = 4\n",
    "n = 2**d\n",
    "h = 1./n\n",
    "tau = 1.E-8\n",
    "eps = 1.E-8\n",
    "\n",
    "def func_1d(x):\n",
    "    return x*x+1./(x+2.)\n",
    "\n",
    "def func_1d_tt(x):\n",
    "    return x*x+1./(x+2.)\n",
    "\n",
    "def func_2d(x, y):\n",
    "    return x*y*y+y/(x+2.)\n",
    "\n",
    "def func_2d_tt(r):\n",
    "    x, y = r[:, 0], r[:, 1]\n",
    "    return x*y*y+y/(x+2.)\n",
    "\n",
    "def func_3d(x, y, z):\n",
    "    return x*y*z*z+z/(x+y+2.)\n",
    "\n",
    "def func_3d_tt(r):\n",
    "    x, y, z = r[:, 0], r[:, 1], r[:, 2]\n",
    "    return x*y*z*z+z/(x+y+2.)"
   ]
  },
  {
   "cell_type": "markdown",
   "metadata": {},
   "source": [
    "## Examples 1D"
   ]
  },
  {
   "cell_type": "code",
   "execution_count": 3,
   "metadata": {
    "collapsed": false
   },
   "outputs": [
    {
     "name": "stdout",
     "output_type": "stream",
     "text": [
      "  Construction of F\n",
      "=multifuncrs= sweep 1{2}, max_dy: 3.343e-01, erank: 2.64575\n",
      "=multifuncrs= sweep 2{1}, max_dy: 4.546e-16, erank: 2.64575\n",
      "0.486401002799 0.486401002799 0.486401002799\n",
      "  Construction of F\n",
      "=multifuncrs= sweep 1{2}, max_dy: 3.753e-01, erank: 2.64575\n",
      "=multifuncrs= sweep 2{1}, max_dy: 2.622e-15, erank: 2.64575\n",
      "0.488754734848 0.488754734848 0.488754734848\n",
      "  Construction of F\n",
      "=multifuncrs= sweep 1{2}, max_dy: 3.134e-01, erank: 2.64575\n",
      "=multifuncrs= sweep 2{1}, max_dy: 7.918e-16, erank: 2.64575\n",
      "0.486213235294 0.486213235294 0.486213235294\n",
      "  Construction of F\n",
      "=multifuncrs= sweep 1{2}, max_dy: 3.343e-01, erank: 2.64575\n",
      "=multifuncrs= sweep 2{1}, max_dy: 4.546e-16, erank: 2.64575\n",
      "0.486401002799 0.486401002799 0.486401002799\n"
     ]
    }
   ],
   "source": [
    "f1 = quan_on_grid(func_1d, d, 1, tau, eps, MODE_NP, \n",
    "                  grid='cell centers', name='F', verb=False)\n",
    "f1_tt = quan_on_grid(func_1d_tt, d, 1, tau, eps, MODE_TT, \n",
    "                     grid='cc', name='F', verb=True)\n",
    "print f1[1], f1_tt.full().flatten('F')[1], func_1d(3.*h/2.)\n",
    "\n",
    "f1 = quan_on_grid(func_1d, d, 1, tau, eps, MODE_NP, \n",
    "                  grid='left corners', name='F', verb=False)\n",
    "f1_tt = quan_on_grid(func_1d_tt, d, 1, tau, eps, MODE_TT, \n",
    "                     grid='lc', name='F', verb=True)\n",
    "print f1[1], f1_tt.full().flatten('F')[1], func_1d(h)\n",
    "\n",
    "f1 = quan_on_grid(func_1d, d, 1, tau, eps, MODE_NP, \n",
    "                  grid='right corners', name='F', verb=False)\n",
    "f1_tt = quan_on_grid(func_1d_tt, d, 1, tau, eps, MODE_TT, \n",
    "                     grid='rc', name='F', verb=True)\n",
    "print f1[1], f1_tt.full().flatten('F')[1], func_1d(2*h)\n",
    "\n",
    "f1 = quan_on_grid(func_1d, d, 1, tau, eps, MODE_NP, \n",
    "                  grid='upper-x edge midpoints', name='F', verb=False)\n",
    "f1_tt = quan_on_grid(func_1d_tt, d, 1, tau, eps, MODE_TT, \n",
    "                     grid='uxe', name='F', verb=True)\n",
    "# Is the same as 'cell centers' for 1D case.\n",
    "print f1[1], f1_tt.full().flatten('F')[1], func_1d(3.*h/2.)"
   ]
  },
  {
   "cell_type": "code",
   "execution_count": 4,
   "metadata": {
    "collapsed": false
   },
   "outputs": [
    {
     "name": "stdout",
     "output_type": "stream",
     "text": [
      "  Construction of F\n",
      "=multifuncrs= sweep 1{2}, max_dy: 7.879e-01, erank: 2.64575\n",
      "=multifuncrs= sweep 2{1}, max_dy: 6.619e-15, erank: 2.64575\n",
      "2.055916814 2.055916814 2.055916814\n"
     ]
    }
   ],
   "source": [
    "f1 = quan_on_grid(func_1d, d, 1, tau, eps, MODE_NP, \n",
    "                  grid='upper-x edge midpoints', name='F', verb=False, inv=True)\n",
    "f1_tt = quan_on_grid(func_1d_tt, d, 1, tau, eps, MODE_TT, \n",
    "                     grid='uxe', name='F', verb=True, inv=True)\n",
    "# Is the same as 'cell centers' for 1D case.\n",
    "print f1[1], f1_tt.full().flatten('F')[1], 1./func_1d(3.*h/2.)"
   ]
  },
  {
   "cell_type": "markdown",
   "metadata": {},
   "source": [
    "## Examples 2D"
   ]
  },
  {
   "cell_type": "code",
   "execution_count": 5,
   "metadata": {
    "collapsed": false
   },
   "outputs": [
    {
     "name": "stdout",
     "output_type": "stream",
     "text": [
      "  Construction of F\n",
      "=multifuncrs= sweep 1{2}, max_dy: 2.404e+00, erank: 4.69042\n",
      "=multifuncrs= sweep 2{1}, max_dy: 7.474e-16, erank: 5.47723\n",
      "0.0150169258687 0.0150169258687 0.0150169258687\n",
      "  Construction of F\n",
      "=multifuncrs= sweep 1{2}, max_dy: 2.665e+00, erank: 4.69042\n",
      "=multifuncrs= sweep 2{1}, max_dy: 8.902e-16, erank: 5.47723\n",
      "0.0 -1.17961196366e-16 0.0\n",
      "  Construction of F\n",
      "=multifuncrs= sweep 1{2}, max_dy: 2.169e+00, erank: 4.69042\n",
      "=multifuncrs= sweep 2{1}, max_dy: 8.690e-16, erank: 5.47723\n",
      "0.0299000459559 0.0299000459559 0.0299000459559\n",
      "  Construction of F\n",
      "=multifuncrs= sweep 1{2}, max_dy: 2.126e+00, erank: 4.69042\n",
      "=multifuncrs= sweep 2{1}, max_dy: 6.515e-16, erank: 5.47723\n",
      "0.0302169572062 0.0302169572062 0.0302169572062\n",
      "  Construction of F\n",
      "=multifuncrs= sweep 1{2}, max_dy: 2.453e+00, erank: 4.69042\n",
      "=multifuncrs= sweep 2{1}, max_dy: 1.007e-15, erank: 5.47723\n",
      "0.0148279526654 0.0148279526654 0.0148279526654\n"
     ]
    }
   ],
   "source": [
    "f1 = quan_on_grid(func_2d, d, 2, tau, eps, MODE_NP, \n",
    "                  grid='cell centers', name='F', verb=False)\n",
    "f1_tt = quan_on_grid(func_2d_tt, d, 2, tau, eps, MODE_TT, \n",
    "                     grid='cc', name='F', verb=True)\n",
    "print f1[1], f1_tt.full().flatten('F')[1], func_2d(3.*h/2., h/2.)\n",
    "\n",
    "f1 = quan_on_grid(func_2d, d, 2, tau, eps, MODE_NP, \n",
    "                  grid='left corners', name='F', verb=False)\n",
    "f1_tt = quan_on_grid(func_2d_tt, d, 2, tau, eps, MODE_TT, \n",
    "                     grid='lc', name='F', verb=True)\n",
    "print f1[1], f1_tt.full().flatten('F')[1], func_2d(h, 0.)\n",
    "\n",
    "f1 = quan_on_grid(func_2d, d, 2, tau, eps, MODE_NP, \n",
    "                  grid='right corners', name='F', verb=False)\n",
    "f1_tt = quan_on_grid(func_2d_tt, d, 2, tau, eps, MODE_TT, \n",
    "                     grid='rc', name='F', verb=True)\n",
    "print f1[1], f1_tt.full().flatten('F')[1], func_2d(2*h, h)\n",
    "\n",
    "f1 = quan_on_grid(func_2d, d, 2, tau, eps, MODE_NP, \n",
    "                  grid='upper-x edge midpoints', name='F', verb=False)\n",
    "f1_tt = quan_on_grid(func_2d_tt, d, 2, tau, eps, MODE_TT, \n",
    "                     grid='uxe', name='F', verb=True)\n",
    "print f1[1], f1_tt.full().flatten('F')[1], func_2d(3.*h/2., h)\n",
    "\n",
    "f1 = quan_on_grid(func_2d, d, 2, tau, eps, MODE_NP, \n",
    "                  grid='upper-y edge midpoints', name='F', verb=False)\n",
    "f1_tt = quan_on_grid(func_2d_tt, d, 2, tau, eps, MODE_TT, \n",
    "                     grid='uye', name='F', verb=True)\n",
    "print f1[1], f1_tt.full().flatten('F')[1], func_2d(2.*h, h/2.)"
   ]
  },
  {
   "cell_type": "markdown",
   "metadata": {},
   "source": [
    "## Examples 3D"
   ]
  },
  {
   "cell_type": "code",
   "execution_count": 6,
   "metadata": {
    "collapsed": false
   },
   "outputs": [
    {
     "name": "stdout",
     "output_type": "stream",
     "text": [
      "  Construction of F\n",
      "=multifuncrs= sweep 1{2}, max_dy: 6.657e+00, erank: 5.19615\n",
      "=multifuncrs= sweep 2{1}, max_dy: 1.089e-06, erank: 7.34847\n",
      "=multifuncrs= sweep 2{2}, max_dy: 1.089e-06, erank: 7.61577\n",
      "=multifuncrs= sweep 3{1}, max_dy: 2.107e-09, erank: 7.34847\n",
      "0.0147087433759 0.0147087434099 0.0147087433759\n",
      "  Construction of F\n",
      "=multifuncrs= sweep 1{2}, max_dy: 2.163e+00, erank: 5.19615\n",
      "=multifuncrs= sweep 2{1}, max_dy: 4.554e-08, erank: 7.34847\n",
      "=multifuncrs= sweep 2{2}, max_dy: 4.554e-08, erank: 7.61577\n",
      "=multifuncrs= sweep 3{1}, max_dy: 2.688e-09, erank: 7.34847\n",
      "0.0 -2.77555756156e-17 0.0\n",
      "  Construction of F\n",
      "=multifuncrs= sweep 1{2}, max_dy: 2.169e+00, erank: 4.69042\n",
      "=multifuncrs= sweep 2{1}, max_dy: 6.115e-16, erank: 5.47723\n",
      "0.0286019461496 0.0299000459559 0.0286019461496\n",
      "  Construction of F\n",
      "=multifuncrs= sweep 1{2}, max_dy: 5.916e+00, erank: 5.19615\n",
      "=multifuncrs= sweep 2{1}, max_dy: 5.644e-09, erank: 7.34847\n",
      "0.02900839543 0.0290083954918 0.02900839543\n",
      "  Construction of F\n",
      "=multifuncrs= sweep 1{2}, max_dy: 6.448e+00, erank: 5.19615\n",
      "=multifuncrs= sweep 2{1}, max_dy: 2.895e-08, erank: 7.34847\n",
      "=multifuncrs= sweep 2{2}, max_dy: 2.895e-08, erank: 7.61577\n",
      "=multifuncrs= sweep 3{1}, max_dy: 1.853e-09, erank: 7.34847\n",
      "0.0290007660354 0.0290007660972 0.0290007660354\n",
      "  Construction of F\n",
      "=multifuncrs= sweep 1{2}, max_dy: 6.679e+00, erank: 5.19615\n",
      "=multifuncrs= sweep 2{1}, max_dy: 1.375e-08, erank: 7.34847\n",
      "=multifuncrs= sweep 2{2}, max_dy: 1.375e-08, erank: 7.61577\n",
      "=multifuncrs= sweep 3{1}, max_dy: 1.675e-09, erank: 7.34847\n",
      "0.0142933436802 0.0142933437082 0.0142933436802\n"
     ]
    }
   ],
   "source": [
    "f1 = quan_on_grid(func_3d, d, 3, tau, eps, MODE_NP, \n",
    "                  grid='cell centers', name='F', verb=False)\n",
    "f1_tt = quan_on_grid(func_3d_tt, d, 3, tau, eps, MODE_TT, \n",
    "                     grid='cc', name='F', verb=True)\n",
    "print f1[1], f1_tt.full().flatten('F')[1], func_3d(3.*h/2., h/2., h/2.)\n",
    "\n",
    "f1 = quan_on_grid(func_3d, d, 3, tau, eps, MODE_NP, \n",
    "                  grid='left corners', name='F', verb=False)\n",
    "f1_tt = quan_on_grid(func_3d_tt, d, 3, tau, eps, MODE_TT, \n",
    "                     grid='lc', name='F', verb=True)\n",
    "print f1[1], f1_tt.full().flatten('F')[1], func_3d(h, 0., 0.)\n",
    "\n",
    "f1 = quan_on_grid(func_3d, d, 3, tau, eps, MODE_NP, \n",
    "                  grid='right corners', name='F', verb=False)\n",
    "f1_tt = quan_on_grid(func_2d_tt, d, 2, tau, eps, MODE_TT, \n",
    "                     grid='rc', name='F', verb=True)\n",
    "print f1[1], f1_tt.full().flatten('F')[1], func_3d(2*h, h, h)\n",
    "\n",
    "f1 = quan_on_grid(func_3d, d, 3, tau, eps, MODE_NP, \n",
    "                  grid='upper-x edge midpoints', name='F', verb=False)\n",
    "f1_tt = quan_on_grid(func_3d_tt, d, 3, tau, eps, MODE_TT, \n",
    "                     grid='uxe', name='F', verb=True)\n",
    "print f1[1], f1_tt.full().flatten('F')[1], func_3d(3.*h/2., h, h)\n",
    "\n",
    "f1 = quan_on_grid(func_3d, d, 3, tau, eps, MODE_NP, \n",
    "                  grid='upper-y edge midpoints', name='F', verb=False)\n",
    "f1_tt = quan_on_grid(func_3d_tt, d, 3, tau, eps, MODE_TT, \n",
    "                     grid='uye', name='F', verb=True)\n",
    "print f1[1], f1_tt.full().flatten('F')[1], func_3d(2.*h, h/2., h)\n",
    "\n",
    "f1 = quan_on_grid(func_3d, d, 3, tau, eps, MODE_NP, \n",
    "                  grid='upper-z edge midpoints', name='F', verb=False)\n",
    "f1_tt = quan_on_grid(func_3d_tt, d, 3, tau, eps, MODE_TT, \n",
    "                     grid='uze', name='F', verb=True)\n",
    "print f1[1], f1_tt.full().flatten('F')[1], func_3d(2.*h, h, h/2.)"
   ]
  },
  {
   "cell_type": "code",
   "execution_count": 2,
   "metadata": {
    "collapsed": false
   },
   "outputs": [
    {
     "name": "stdout",
     "output_type": "stream",
     "text": [
      "[ 0.25  0.5   0.75  1.    1.25  1.5   1.75  2.  ] [-1.0] 0\n",
      "[ 0.25  0.5   0.75  1.    1.25  1.5   1.75  2.  ] [0.0] 0\n",
      "[ 0.25  0.5   0.75  1.    1.25  1.5   1.75  2.  ] [0.25] 0\n",
      "[ 0.25  0.5   0.75  1.    1.25  1.5   1.75  2.  ] [0.35] 0\n",
      "[ 0.25  0.5   0.75  1.    1.25  1.5   1.75  2.  ] [0.3775] 1\n",
      "[ 0.25  0.5   0.75  1.    1.25  1.5   1.75  2.  ] [0.4975] 1\n",
      "[ 0.25  0.5   0.75  1.    1.25  1.5   1.75  2.  ] [1.85] 6\n",
      "[ 0.25  0.5   0.75  1.    1.25  1.5   1.75  2.  ] [1.975] 7\n",
      "[ 0.25  0.5   0.75  1.    1.25  1.5   1.75  2.  ] [12.0] 7\n"
     ]
    }
   ],
   "source": [
    "# 1D coord2ind\n",
    "L = 2.\n",
    "d = 3\n",
    "n = 2**d\n",
    "h = L/n\n",
    "\n",
    "ind_exp = [0, 0, 0, 0, 1, 1, n-2, n-1, n-1]\n",
    "gx = h*(np.arange(n)+1.)\n",
    "for r in [[-1.], [0.], [h], [h*1.4], [h*1.51], [h*1.99], [h*n-h*0.6], [h*n-h*0.1], [h*n+10]]:\n",
    "    ind = coord2ind(r, d, L)\n",
    "    print gx, r, ind"
   ]
  },
  {
   "cell_type": "code",
   "execution_count": 3,
   "metadata": {
    "collapsed": false
   },
   "outputs": [
    {
     "name": "stdout",
     "output_type": "stream",
     "text": [
      "[ 0.25  0.5   0.75  1.    1.25  1.5   1.75  2.  ] [-1.0, -1.0] 0\n",
      "[ 0.25  0.5   0.75  1.    1.25  1.5   1.75  2.  ] [0.0, 0.0] 0\n",
      "[ 0.25  0.5   0.75  1.    1.25  1.5   1.75  2.  ] [0.25, 0.25] 0\n",
      "[ 0.25  0.5   0.75  1.    1.25  1.5   1.75  2.  ] [0.35, 0.35] 0\n",
      "[ 0.25  0.5   0.75  1.    1.25  1.5   1.75  2.  ] [0.3775, 0.3775] 9\n",
      "[ 0.25  0.5   0.75  1.    1.25  1.5   1.75  2.  ] [0.4975, 0.4975] 9\n",
      "[ 0.25  0.5   0.75  1.    1.25  1.5   1.75  2.  ] [1.85, 1.85] 54\n",
      "[ 0.25  0.5   0.75  1.    1.25  1.5   1.75  2.  ] [1.975, 1.975] 63\n",
      "[ 0.25  0.5   0.75  1.    1.25  1.5   1.75  2.  ] [12.0, 12.0] 63\n"
     ]
    }
   ],
   "source": [
    "# 2D coord2ind\n",
    "L = 2.\n",
    "d = 3\n",
    "n = 2**d\n",
    "h = L/n\n",
    "\n",
    "ind_exp = [0, 0, 0, 0, 9, 9, 54, 63, 63]\n",
    "gx = h*(np.arange(n)+1.)\n",
    "for r in [[-1., -1.], [0., 0.], [h, h], [h*1.4, h*1.4], [h*1.51, h*1.51], \n",
    "          [h*1.99, h*1.99], [h*n-h*0.6, h*n-h*0.6], [h*n-h*0.1, h*n-h*0.1], [h*n+10, h*n+10]]:\n",
    "    ind = coord2ind(r, d, L)\n",
    "    print gx, r, ind"
   ]
  },
  {
   "cell_type": "code",
   "execution_count": 4,
   "metadata": {
    "collapsed": false
   },
   "outputs": [
    {
     "name": "stdout",
     "output_type": "stream",
     "text": [
      "[ 0.5  1.   1.5  2. ] [-1.0, -1.0, -1.0] 0\n",
      "[ 0.5  1.   1.5  2. ] [0.0, 0.0, 0.0] 0\n",
      "[ 0.5  1.   1.5  2. ] [0.5, 0.5, 0.5] 0\n",
      "[ 0.5  1.   1.5  2. ] [0.7, 0.7, 0.7] 0\n",
      "[ 0.5  1.   1.5  2. ] [0.755, 0.755, 0.755] 21\n",
      "[ 0.5  1.   1.5  2. ] [0.995, 0.995, 0.995] 21\n",
      "[ 0.5  1.   1.5  2. ] [1.7, 1.7, 1.7] 42\n",
      "[ 0.5  1.   1.5  2. ] [1.95, 1.95, 1.95] 63\n",
      "[ 0.5  1.   1.5  2. ] [12.0, 12.0, 12.0] 63\n"
     ]
    }
   ],
   "source": [
    "# 3D coord2ind\n",
    "L = 2.\n",
    "d = 2\n",
    "n = 2**d\n",
    "h = L/n\n",
    "\n",
    "ind_exp = [0, 0, 0, 0, 21, 21, 42, 63, 63]\n",
    "gx = h*(np.arange(n)+1.)\n",
    "for r in [[-1.]*3, [0.]*3, [h]*3, [h*1.4]*3, [h*1.51]*3, \n",
    "          [h*1.99]*3, [h*n-h*0.6]*3, [h*n-h*0.1]*3, [h*n+10]*3]:\n",
    "    ind = coord2ind(r, d, L)\n",
    "    print gx, r, ind"
   ]
  },
  {
   "cell_type": "code",
   "execution_count": 2,
   "metadata": {
    "collapsed": false
   },
   "outputs": [
    {
     "name": "stdout",
     "output_type": "stream",
     "text": [
      "[  0.  24.   0.   0.   0.   0.   0.   0.] 24.0\n",
      "[  0.  24.   0.   0.   0.   0.   0.   0.]\n",
      "[  0.   0.  16.   0.   0.   0.   0.   0.] 16.0\n",
      "[  0.   0.  16.   0.   0.   0.   0.   0.]\n",
      "[   0.    0.    0.    0.    0.    0.    0.    0.    0.    0.    0.    0.\n",
      "    0.    0.    0.    0.    0.    0.  128.    0.    0.    0.    0.    0.\n",
      "    0.    0.    0.    0.    0.    0.    0.    0.    0.    0.    0.    0.\n",
      "    0.    0.    0.    0.    0.    0.    0.    0.    0.    0.    0.    0.\n",
      "    0.    0.    0.    0.    0.    0.    0.    0.    0.    0.    0.    0.\n",
      "    0.    0.    0.    0.] 128.0\n",
      "[   0.    0.    0.    0.    0.    0.    0.    0.    0.    0.    0.    0.\n",
      "    0.    0.    0.    0.    0.    0.  128.    0.    0.    0.    0.    0.\n",
      "    0.    0.    0.    0.    0.    0.    0.    0.    0.    0.    0.    0.\n",
      "    0.    0.    0.    0.    0.    0.    0.    0.    0.    0.    0.    0.\n",
      "    0.    0.    0.    0.    0.    0.    0.    0.    0.    0.    0.    0.\n",
      "    0.    0.    0.    0.]\n"
     ]
    }
   ],
   "source": [
    "L = 1.\n",
    "d = 3\n",
    "n = 2**d\n",
    "h = L/n\n",
    "r, val = [2*h+0.45*h], 3.\n",
    "print delta_on_grid(r, val, d, tau=1.E-8, mode=MODE_NP), val/h\n",
    "print delta_on_grid(r, val, d, tau=1.E-8, mode=MODE_TT).full().flatten('F')\n",
    "r, val = [2*h+0.51*h], 2.\n",
    "print delta_on_grid(r, val, d, tau=1.E-8, mode=MODE_NP), val/h\n",
    "print delta_on_grid(r, val, d, tau=1.E-8, mode=MODE_TT).full().flatten('F')\n",
    "r, val = [2*h+0.51*h, 2*h+0.51*h], 2.\n",
    "print delta_on_grid(r, val, d, tau=1.E-8, mode=MODE_NP), val/h/h\n",
    "print delta_on_grid(r, val, d, tau=1.E-8, mode=MODE_TT).full().flatten('F')"
   ]
  },
  {
   "cell_type": "code",
   "execution_count": 4,
   "metadata": {
    "collapsed": false
   },
   "outputs": [
    {
     "name": "stdout",
     "output_type": "stream",
     "text": [
      "[  0.  24.  16.   0.   0.   0.   0.   0.]\n"
     ]
    }
   ],
   "source": [
    "L = 1.\n",
    "d = 3\n",
    "n = 2**d\n",
    "h = L/n\n",
    "r_list = [[2*h+0.45*h], [3*h+0.45*h]]\n",
    "val_list = [3., 2.]\n",
    "print deltas_on_grid(r_list, val_list, d, tau=1.E-8, mode=MODE_NP)"
   ]
  }
 ],
 "metadata": {
  "kernelspec": {
   "display_name": "Python 2",
   "language": "python",
   "name": "python2"
  },
  "language_info": {
   "codemirror_mode": {
    "name": "ipython",
    "version": 2
   },
   "file_extension": ".py",
   "mimetype": "text/x-python",
   "name": "python",
   "nbconvert_exporter": "python",
   "pygments_lexer": "ipython2",
   "version": "2.7.11"
  }
 },
 "nbformat": 4,
 "nbformat_minor": 0
}
