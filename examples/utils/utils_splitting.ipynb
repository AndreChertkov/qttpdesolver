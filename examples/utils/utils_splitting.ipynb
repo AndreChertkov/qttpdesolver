{
 "cells": [
  {
   "cell_type": "markdown",
   "metadata": {},
   "source": [
    "# Examples for functions from utils.splitting."
   ]
  },
  {
   "cell_type": "code",
   "execution_count": 1,
   "metadata": {
    "collapsed": true
   },
   "outputs": [],
   "source": [
    "import numpy as np\n",
    "\n",
    "import tt\n",
    "\n",
    "from qttpdesolver.utils.general import MODE_NP, MODE_TT\n",
    "from qttpdesolver.utils.splitting import half_array, eo_sub_array, part_array"
   ]
  },
  {
   "cell_type": "markdown",
   "metadata": {},
   "source": [
    "## Vectors and matrices for examples\n",
    "\n",
    "The vectors and matrices are constructed here in numpy format and then are transformed to [quantized] tensor train format (the last ones are named according to mask *_tt)."
   ]
  },
  {
   "cell_type": "code",
   "execution_count": 2,
   "metadata": {
    "collapsed": false
   },
   "outputs": [
    {
     "name": "stdout",
     "output_type": "stream",
     "text": [
      "[  1.   2.   3.   4.   5.   6.   7.   8.   9.  10.  11.  12.  13.  14.  15.\n",
      "  16.  17.  18.  19.  20.  21.  22.  23.  24.  25.  26.  27.  28.  29.  30.\n",
      "  31.  32.  33.  34.  35.  36.  37.  38.  39.  40.  41.  42.  43.  44.  45.\n",
      "  46.  47.  48.  49.  50.  51.  52.  53.  54.  55.  56.  57.  58.  59.  60.\n",
      "  61.  62.  63.  64.]\n"
     ]
    }
   ],
   "source": [
    "d = 6\n",
    "n = 2**d\n",
    "tau = 1.E-8\n",
    "\n",
    "x = 1.*np.arange(n)+1\n",
    "print x\n",
    "\n",
    "x_tt = tt.tensor(x.reshape([2]*d, order='F'), tau)"
   ]
  },
  {
   "cell_type": "markdown",
   "metadata": {},
   "source": [
    "## Examples"
   ]
  },
  {
   "cell_type": "code",
   "execution_count": 3,
   "metadata": {
    "collapsed": false
   },
   "outputs": [
    {
     "name": "stdout",
     "output_type": "stream",
     "text": [
      "Help on function half_array in module qttpdesolver.utils.splitting:\n",
      "\n",
      "half_array(x, ind, tau=None)\n",
      "    Get a first (ind=0) or second (ind=1) half of array. In tt-case transform\n",
      "    d-dim array A to (d-1)-dim array.\n",
      "    ** For MODE_TT it is assumed that x is a QTT-tensor with standard\n",
      "    mode size 2. If it's wrong, and mode size is n!=2, then for ind=0 function\n",
      "    returns x[:len(x)/n] and so on.\n",
      "\n",
      "[  1.   2.   3.   4.   5.   6.   7.   8.   9.  10.  11.  12.  13.  14.  15.\n",
      "  16.  17.  18.  19.  20.  21.  22.  23.  24.  25.  26.  27.  28.  29.  30.\n",
      "  31.  32.]\n",
      "[  1.   2.   3.   4.   5.   6.   7.   8.   9.  10.  11.  12.  13.  14.  15.\n",
      "  16.  17.  18.  19.  20.  21.  22.  23.  24.  25.  26.  27.  28.  29.  30.\n",
      "  31.  32.]\n"
     ]
    }
   ],
   "source": [
    "help(half_array)\n",
    "print half_array(x, 0)\n",
    "print half_array(x_tt, 0, tau).full().flatten('F')"
   ]
  },
  {
   "cell_type": "code",
   "execution_count": 4,
   "metadata": {
    "collapsed": false
   },
   "outputs": [
    {
     "name": "stdout",
     "output_type": "stream",
     "text": [
      "[ 33.  34.  35.  36.  37.  38.  39.  40.  41.  42.  43.  44.  45.  46.  47.\n",
      "  48.  49.  50.  51.  52.  53.  54.  55.  56.  57.  58.  59.  60.  61.  62.\n",
      "  63.  64.]\n",
      "[ 33.  34.  35.  36.  37.  38.  39.  40.  41.  42.  43.  44.  45.  46.  47.\n",
      "  48.  49.  50.  51.  52.  53.  54.  55.  56.  57.  58.  59.  60.  61.  62.\n",
      "  63.  64.]\n"
     ]
    }
   ],
   "source": [
    "print half_array(x, 1, tau)\n",
    "print half_array(x_tt, 1, tau).full().flatten('F')"
   ]
  },
  {
   "cell_type": "code",
   "execution_count": 5,
   "metadata": {
    "collapsed": false
   },
   "outputs": [
    {
     "name": "stdout",
     "output_type": "stream",
     "text": [
      "Help on function eo_sub_array in module qttpdesolver.utils.splitting:\n",
      "\n",
      "eo_sub_array(x, ind, tau=None)\n",
      "    Get a subarray x[0::2] of even x elements (ind=0) or\n",
      "                   x[1::2] of odd  x elements (ind=1).\n",
      "    ** For MODE_TT it transforms d-dim array x to (d-1)-dim array.\n",
      "\n",
      "[  1.   3.   5.   7.   9.  11.  13.  15.  17.  19.  21.  23.  25.  27.  29.\n",
      "  31.  33.  35.  37.  39.  41.  43.  45.  47.  49.  51.  53.  55.  57.  59.\n",
      "  61.  63.]\n",
      "[  1.   3.   5.   7.   9.  11.  13.  15.  17.  19.  21.  23.  25.  27.  29.\n",
      "  31.  33.  35.  37.  39.  41.  43.  45.  47.  49.  51.  53.  55.  57.  59.\n",
      "  61.  63.]\n"
     ]
    }
   ],
   "source": [
    "help(eo_sub_array)\n",
    "print eo_sub_array(x, ind=0)\n",
    "print eo_sub_array(x_tt, ind=0, tau=tau).full().flatten('F')"
   ]
  },
  {
   "cell_type": "code",
   "execution_count": 6,
   "metadata": {
    "collapsed": false
   },
   "outputs": [
    {
     "name": "stdout",
     "output_type": "stream",
     "text": [
      "[  2.   4.   6.   8.  10.  12.  14.  16.  18.  20.  22.  24.  26.  28.  30.\n",
      "  32.  34.  36.  38.  40.  42.  44.  46.  48.  50.  52.  54.  56.  58.  60.\n",
      "  62.  64.]\n",
      "[  2.   4.   6.   8.  10.  12.  14.  16.  18.  20.  22.  24.  26.  28.  30.\n",
      "  32.  34.  36.  38.  40.  42.  44.  46.  48.  50.  52.  54.  56.  58.  60.\n",
      "  62.  64.]\n"
     ]
    }
   ],
   "source": [
    "print eo_sub_array(x, ind=1, tau=tau)\n",
    "print eo_sub_array(x_tt, ind=1, tau=tau).full().flatten('F')"
   ]
  },
  {
   "cell_type": "code",
   "execution_count": 7,
   "metadata": {
    "collapsed": false
   },
   "outputs": [
    {
     "name": "stdout",
     "output_type": "stream",
     "text": [
      "Help on function part_array in module qttpdesolver.utils.splitting:\n",
      "\n",
      "part_array(x, num, tau=None)\n",
      "    For an array of length 2^(2d) get a part (num = 0, 1, ..., 2**d - 1) \n",
      "    of length 2^d.\n",
      "    *** It works also for arrays of len 2^(2d+1) in that case\n",
      "        part has len 2^(d+1) and num 0, 1, ..., 2**d - 1.\n",
      "\n",
      "[ 1.  2.  3.  4.  5.  6.  7.  8.]\n",
      "[  9.  10.  11.  12.  13.  14.  15.  16.]\n",
      "[ 17.  18.  19.  20.  21.  22.  23.  24.]\n",
      "[ 25.  26.  27.  28.  29.  30.  31.  32.]\n",
      "[ 33.  34.  35.  36.  37.  38.  39.  40.]\n",
      "[ 41.  42.  43.  44.  45.  46.  47.  48.]\n",
      "[ 49.  50.  51.  52.  53.  54.  55.  56.]\n",
      "[ 57.  58.  59.  60.  61.  62.  63.  64.]\n",
      "[ 1.  2.  3.  4.  5.  6.  7.  8.]\n",
      "[  9.  10.  11.  12.  13.  14.  15.  16.]\n",
      "[ 17.  18.  19.  20.  21.  22.  23.  24.]\n",
      "[ 25.  26.  27.  28.  29.  30.  31.  32.]\n",
      "[ 33.  34.  35.  36.  37.  38.  39.  40.]\n",
      "[ 41.  42.  43.  44.  45.  46.  47.  48.]\n",
      "[ 49.  50.  51.  52.  53.  54.  55.  56.]\n",
      "[ 57.  58.  59.  60.  61.  62.  63.  64.]\n"
     ]
    }
   ],
   "source": [
    "help(part_array)\n",
    "for i in range(2**(d/2)):\n",
    "    print part_array(x, i)\n",
    "for i in range(2**(d/2)):\n",
    "    print part_array(x_tt, i, tau).full().flatten('F')"
   ]
  },
  {
   "cell_type": "code",
   "execution_count": 8,
   "metadata": {
    "collapsed": false
   },
   "outputs": [
    {
     "name": "stdout",
     "output_type": "stream",
     "text": [
      "[  1.   2.   3.   4.   5.   6.   7.   8.   9.  10.  11.  12.  13.  14.  15.\n",
      "  16.  17.  18.  19.  20.  21.  22.  23.  24.  25.  26.  27.  28.  29.  30.\n",
      "  31.  32.]\n",
      "[ 1.  2.  3.  4.  5.]\n",
      "[  6.   7.   8.   9.  10.]\n",
      "[ 11.  12.  13.  14.  15.]\n",
      "[ 16.  17.  18.  19.  20.]\n",
      "[ 1.  2.  3.  4.  5.  6.  7.  8.]\n",
      "[  9.  10.  11.  12.  13.  14.  15.  16.]\n",
      "[ 17.  18.  19.  20.  21.  22.  23.  24.]\n",
      "[ 25.  26.  27.  28.  29.  30.  31.  32.]\n"
     ]
    }
   ],
   "source": [
    "# numpy version is not correct for part_array for the case d%2 = 1 but tt one works correct!\n",
    "d = 5\n",
    "n = 2**d\n",
    "tau = 1.E-8\n",
    "\n",
    "x = 1.*np.arange(n)+1\n",
    "print x\n",
    "\n",
    "x_tt = tt.tensor(x.reshape([2]*d, order='F'), tau)\n",
    "\n",
    "for i in range(2**(d/2)):\n",
    "    print part_array(x, i, tau)\n",
    "for i in range(2**(d/2)):\n",
    "    print part_array(x_tt, i, tau).full().flatten('F')"
   ]
  }
 ],
 "metadata": {
  "kernelspec": {
   "display_name": "Python 2",
   "language": "python",
   "name": "python2"
  },
  "language_info": {
   "codemirror_mode": {
    "name": "ipython",
    "version": 2
   },
   "file_extension": ".py",
   "mimetype": "text/x-python",
   "name": "python",
   "nbconvert_exporter": "python",
   "pygments_lexer": "ipython2",
   "version": "2.7.11"
  }
 },
 "nbformat": 4,
 "nbformat_minor": 0
}
