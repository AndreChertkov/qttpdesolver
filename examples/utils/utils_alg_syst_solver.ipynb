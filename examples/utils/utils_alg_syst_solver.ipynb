{
 "cells": [
  {
   "cell_type": "markdown",
   "metadata": {},
   "source": [
    "# Examples for functions from utils.alg_syst_solver module."
   ]
  },
  {
   "cell_type": "code",
   "execution_count": 1,
   "metadata": {
    "collapsed": false
   },
   "outputs": [],
   "source": [
    "import numpy as np\n",
    "import time\n",
    "\n",
    "import tt\n",
    "\n",
    "from qttpdesolver.utils.general import MODE_NP, MODE_TT, MODE_SP, rel_err\n",
    "from qttpdesolver.utils.spec_matr import findif\n",
    "from qttpdesolver.utils.alg_syst_solver import Capture, alg_syst_solve"
   ]
  },
  {
   "cell_type": "markdown",
   "metadata": {},
   "source": [
    "## Vectors and matrices for examples\n",
    "\n",
    "The vectors and matrices are constructed here in numpy format and then are transformed to [quantized] tensor train format (the last ones are named according to mask *_tt)."
   ]
  },
  {
   "cell_type": "code",
   "execution_count": 2,
   "metadata": {
    "collapsed": false
   },
   "outputs": [],
   "source": [
    "d = 8\n",
    "n = 2**d\n",
    "h = 1./n\n",
    "tau = 1.E-8\n",
    "eps = 1.E-8\n",
    "\n",
    "u = np.arange(n)+1.\n",
    "u_tt = tt.tensor(u.reshape([2]*d, order='F'), tau)\n",
    "\n",
    "A    = findif(d, n, h, tau, mode=MODE_NP)\n",
    "A_tt = findif(d, n, h, tau, mode=MODE_TT)\n",
    "A_sp = findif(d, n, h, tau, mode=MODE_SP)\n",
    "\n",
    "rhs = A.dot(u)\n",
    "rhs_tt = tt.tensor(rhs.reshape([2]*d, order='F'), tau)"
   ]
  },
  {
   "cell_type": "markdown",
   "metadata": {},
   "source": [
    "## Examples"
   ]
  },
  {
   "cell_type": "code",
   "execution_count": 3,
   "metadata": {
    "collapsed": false
   },
   "outputs": [
    {
     "name": "stdout",
     "output_type": "stream",
     "text": [
      "Time: 0.107      Rel. err: 2.83e-14\n",
      "Parameters and additional results:\n",
      "iters                :  None\n",
      "solver               :  lstsq\n",
      "max_dx               :  None\n",
      "max_res              :  None\n",
      "max_rank             :  None\n"
     ]
    }
   ],
   "source": [
    "algss_par = {}\n",
    "\n",
    "_t = time.time()\n",
    "u_calc = alg_syst_solve(A, rhs, u0=None, eps=None, algss_par=algss_par, verb=False)\n",
    "print 'Time: %-6.3f    '%(time.time()-_t),\n",
    "print 'Rel. err: %-8.2e'%rel_err(u_calc, u)\n",
    "print 'Parameters and additional results:'\n",
    "for par_name in algss_par:\n",
    "    print '%-20s : '%par_name, algss_par[par_name]"
   ]
  },
  {
   "cell_type": "code",
   "execution_count": 4,
   "metadata": {
    "collapsed": false
   },
   "outputs": [
    {
     "name": "stdout",
     "output_type": "stream",
     "text": [
      "Time: 0.001      Rel. err: 0.00e+00\n",
      "Parameters and additional results:\n",
      "iters                :  None\n",
      "solver               :  spsolve\n",
      "max_dx               :  None\n",
      "max_res              :  None\n",
      "max_rank             :  None\n"
     ]
    }
   ],
   "source": [
    "algss_par = {}\n",
    "\n",
    "_t = time.time()\n",
    "u_calc = alg_syst_solve(A_sp, rhs, u0=None, eps=None, algss_par=algss_par, verb=False)\n",
    "print 'Time: %-6.3f    '%(time.time()-_t),\n",
    "print 'Rel. err: %-8.2e'%rel_err(u_calc, u)\n",
    "print 'Parameters and additional results:'\n",
    "for par_name in algss_par:\n",
    "    print '%-20s : '%par_name, algss_par[par_name]"
   ]
  },
  {
   "cell_type": "code",
   "execution_count": 5,
   "metadata": {
    "collapsed": false
   },
   "outputs": [
    {
     "name": "stdout",
     "output_type": "stream",
     "text": [
      "Time: 0.050      Rel. err: 1.44e-11\n",
      "Parameters and additional results:\n",
      "nswp                 :  20\n",
      "local_restart        :  40\n",
      "local_iters          :  2\n",
      "max_rank             :  6\n",
      "tau                  :  1e-08\n",
      "iters                :  6\n",
      "solver               :  amen\n",
      "max_dx               :  0.0\n",
      "kickrank             :  4\n",
      "max_res              :  1.223e-09\n",
      "max_full_size        :  50\n",
      "local_prec           :  n\n"
     ]
    }
   ],
   "source": [
    "algss_par = {}\n",
    "algss_par['nswp'] = 20\n",
    "algss_par['kickrank'] = 4\n",
    "algss_par['local_prec'] = 'n'\n",
    "algss_par['local_iters'] = 2\n",
    "algss_par['local_restart'] = 40\n",
    "algss_par['max_full_size'] = 50\n",
    "algss_par['tau'] = eps\n",
    "\n",
    "_t = time.time()\n",
    "u_calc_tt = alg_syst_solve(A_tt, rhs_tt, None, eps, algss_par)\n",
    "print 'Time: %-6.3f    '%(time.time()-_t),\n",
    "print 'Rel. err: %-8.2e'%rel_err(u_calc_tt, u_tt)\n",
    "print 'Parameters and additional results:'\n",
    "for par_name in algss_par:\n",
    "    print '%-20s : '%par_name, algss_par[par_name]"
   ]
  },
  {
   "cell_type": "code",
   "execution_count": 6,
   "metadata": {
    "collapsed": false
   },
   "outputs": [
    {
     "name": "stdout",
     "output_type": "stream",
     "text": [
      "['10\\n', '20\\n']\n",
      "2\n"
     ]
    }
   ],
   "source": [
    "import os\n",
    "c = Capture()\n",
    "c.start()\n",
    "os.system('echo 10')\n",
    "print('20')\n",
    "c.stop()\n",
    "print c.get_out()\n",
    "print c.get_out_len()\n",
    "# >>> ['10\\n', '20\\n']\n",
    "# >>> 2"
   ]
  },
  {
   "cell_type": "code",
   "execution_count": null,
   "metadata": {
    "collapsed": true
   },
   "outputs": [],
   "source": []
  }
 ],
 "metadata": {
  "kernelspec": {
   "display_name": "Python 2",
   "language": "python",
   "name": "python2"
  },
  "language_info": {
   "codemirror_mode": {
    "name": "ipython",
    "version": 2
   },
   "file_extension": ".py",
   "mimetype": "text/x-python",
   "name": "python",
   "nbconvert_exporter": "python",
   "pygments_lexer": "ipython2",
   "version": "2.7.11"
  }
 },
 "nbformat": 4,
 "nbformat_minor": 0
}
