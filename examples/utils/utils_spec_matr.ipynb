{
 "cells": [
  {
   "cell_type": "markdown",
   "metadata": {},
   "source": [
    "# Examples for functions from utils.spec_matr."
   ]
  },
  {
   "cell_type": "code",
   "execution_count": 1,
   "metadata": {
    "collapsed": true
   },
   "outputs": [],
   "source": [
    "import numpy as np\n",
    "\n",
    "import tt\n",
    "\n",
    "from qttpdesolver.utils.general import MODE_NP, MODE_TT, MODE_SP\n",
    "from qttpdesolver.utils.spec_matr import toeplitz, eye, volterra, findif, shift, interpol_1d, vzeros_except_one"
   ]
  },
  {
   "cell_type": "code",
   "execution_count": 2,
   "metadata": {
    "collapsed": false
   },
   "outputs": [
    {
     "name": "stdout",
     "output_type": "stream",
     "text": [
      "Help on CPUOverloaded in module qttpdesolver.utils.spec_matr:\n",
      "\n",
      "toeplitz(...)\n",
      "    Toepllitz matrix with c is the first column and\n",
      "    r[1:] is the first row (except the first element).\n",
      "\n",
      "[1 2 3 4] [ 0 -2 -4 -6]\n",
      "[[ 1. -2. -4. -6.]\n",
      " [ 2.  1. -2. -4.]\n",
      " [ 3.  2.  1. -2.]\n",
      " [ 4.  3.  2.  1.]]\n"
     ]
    }
   ],
   "source": [
    "help(toeplitz)\n",
    "\n",
    "c = np.arange(4)+1\n",
    "r =-np.arange(4)*2\n",
    "print c, r\n",
    "print toeplitz(c, r)"
   ]
  },
  {
   "cell_type": "code",
   "execution_count": 7,
   "metadata": {
    "collapsed": false
   },
   "outputs": [
    {
     "name": "stdout",
     "output_type": "stream",
     "text": [
      "Help on function eye in module qttpdesolver.utils.spec_matr:\n",
      "\n",
      "eye(d, n, mode=0)\n",
      "    Eye matrix: diag(1, 1,..., 1).\n",
      "\n",
      "[[ 1.  0.  0.  0.]\n",
      " [ 0.  1.  0.  0.]\n",
      " [ 0.  0.  1.  0.]\n",
      " [ 0.  0.  0.  1.]]\n",
      "[[ 1.  0.  0.  0.]\n",
      " [ 0.  1.  0.  0.]\n",
      " [ 0.  0.  1.  0.]\n",
      " [ 0.  0.  0.  1.]]\n",
      "[[ 1.  0.  0.  0.]\n",
      " [ 0.  1.  0.  0.]\n",
      " [ 0.  0.  1.  0.]\n",
      " [ 0.  0.  0.  1.]]\n"
     ]
    }
   ],
   "source": [
    "help(eye)\n",
    "\n",
    "print eye(2, 4, mode=MODE_NP)\n",
    "print eye(2, 4, mode=MODE_SP).toarray()\n",
    "print eye(2, 4, mode=MODE_TT).full()"
   ]
  },
  {
   "cell_type": "code",
   "execution_count": 3,
   "metadata": {
    "collapsed": false
   },
   "outputs": [
    {
     "name": "stdout",
     "output_type": "stream",
     "text": [
      "Help on function volterra in module qttpdesolver.utils.spec_matr:\n",
      "\n",
      "volterra(d, n, h, tau=None, mode=0)\n",
      "    Volterra integral 1D matrix\n",
      "    [i, j] = h if i>=j and = 0 otherwise.\n",
      "\n",
      "[[ 1.  0.  0.  0.]\n",
      " [ 1.  1.  0.  0.]\n",
      " [ 1.  1.  1.  0.]\n",
      " [ 1.  1.  1.  1.]]\n",
      "[[  1.00000000e+00  -5.55111512e-17   0.00000000e+00   0.00000000e+00]\n",
      " [  1.00000000e+00   1.00000000e+00   0.00000000e+00   0.00000000e+00]\n",
      " [  1.00000000e+00   1.00000000e+00   1.00000000e+00   2.22044605e-16]\n",
      " [  1.00000000e+00   1.00000000e+00   1.00000000e+00   1.00000000e+00]]\n"
     ]
    }
   ],
   "source": [
    "help(volterra)\n",
    "\n",
    "print volterra(2, 4, 1., mode=MODE_NP)\n",
    "print volterra(2, 4, 1., 1.E-8, mode=MODE_TT).full()"
   ]
  },
  {
   "cell_type": "code",
   "execution_count": 4,
   "metadata": {
    "collapsed": false
   },
   "outputs": [
    {
     "name": "stdout",
     "output_type": "stream",
     "text": [
      "Help on function findif in module qttpdesolver.utils.spec_matr:\n",
      "\n",
      "findif(d, n, h, tau=None, mode=0)\n",
      "    Finite difference 1D matrix\n",
      "    [i, j] = 1/h if i=j, [i, j] =-1/h if i=j+1 and = 0 otherwise.\n",
      "\n",
      "[[ 1.  0.  0.  0.]\n",
      " [-1.  1.  0.  0.]\n",
      " [ 0. -1.  1.  0.]\n",
      " [ 0.  0. -1.  1.]]\n",
      "[[ 1.  0.  0.  0.]\n",
      " [-1.  1.  0.  0.]\n",
      " [ 0. -1.  1.  0.]\n",
      " [ 0.  0. -1.  1.]]\n",
      "[[ 1.  0.  0.  0.]\n",
      " [-1.  1.  0.  0.]\n",
      " [ 0. -1.  1.  0.]\n",
      " [ 0.  0. -1.  1.]]\n"
     ]
    }
   ],
   "source": [
    "help(findif)\n",
    "\n",
    "print findif(2, 4, 1., mode=MODE_NP)\n",
    "print findif(2, 4, 1., mode=MODE_SP).toarray()\n",
    "print findif(2, 4, 1., 1.E-8, mode=MODE_TT).full()"
   ]
  },
  {
   "cell_type": "code",
   "execution_count": 5,
   "metadata": {
    "collapsed": false
   },
   "outputs": [
    {
     "name": "stdout",
     "output_type": "stream",
     "text": [
      "Help on function shift in module qttpdesolver.utils.spec_matr:\n",
      "\n",
      "shift(d, n, tau=None, mode=0)\n",
      "    Shift 1D matrix\n",
      "    [i, j] = 1 if i=j+1, [i, j] = 0 otherwise.\n",
      "\n",
      "[[ 0.  0.  0.  0.]\n",
      " [ 1.  0.  0.  0.]\n",
      " [ 0.  1.  0.  0.]\n",
      " [ 0.  0.  1.  0.]]\n",
      "[[ 0.  0.  0.  0.]\n",
      " [ 1.  0.  0.  0.]\n",
      " [ 0.  1.  0.  0.]\n",
      " [ 0.  0.  1.  0.]]\n",
      "[[  1.45918397e-15   0.00000000e+00   0.00000000e+00   0.00000000e+00]\n",
      " [  1.00000000e+00   1.01509476e-15   0.00000000e+00   0.00000000e+00]\n",
      " [  0.00000000e+00   1.00000000e+00   1.45918397e-15   0.00000000e+00]\n",
      " [  0.00000000e+00   0.00000000e+00   1.00000000e+00   1.01509476e-15]]\n"
     ]
    }
   ],
   "source": [
    "help(shift)\n",
    "\n",
    "print shift(2, 4, mode=MODE_NP)\n",
    "print shift(2, 4, tau=1.E-8, mode=MODE_SP).toarray()\n",
    "print shift(2, 4, tau=1.E-8, mode=MODE_TT).full()"
   ]
  },
  {
   "cell_type": "code",
   "execution_count": 6,
   "metadata": {
    "collapsed": false
   },
   "outputs": [
    {
     "name": "stdout",
     "output_type": "stream",
     "text": [
      "Help on function interpol_1d in module qttpdesolver.utils.spec_matr:\n",
      "\n",
      "interpol_1d(d, n, tau=None, mode=0)\n",
      "    1D interpolation matrix.\n",
      "    Is valid only for mesh x_j = h+hj, j=0,1,...,n-1.\n",
      "\n",
      "[[ 0.5  0.   0.   0.   0.   0.   0.   0. ]\n",
      " [ 1.   0.   0.   0.   0.   0.   0.   0. ]\n",
      " [ 0.5  0.   0.5  0.   0.   0.   0.   0. ]\n",
      " [ 0.   0.   1.   0.   0.   0.   0.   0. ]\n",
      " [ 0.   0.   0.5  0.   0.5  0.   0.   0. ]\n",
      " [ 0.   0.   0.   0.   1.   0.   0.   0. ]\n",
      " [ 0.   0.   0.   0.   0.5  0.   0.5  0. ]\n",
      " [ 0.   0.   0.   0.   0.   0.   1.   0. ]]\n",
      "[[  5.00000000e-01   0.00000000e+00   0.00000000e+00   0.00000000e+00\n",
      "    0.00000000e+00   0.00000000e+00   0.00000000e+00   0.00000000e+00]\n",
      " [  1.00000000e+00   0.00000000e+00   0.00000000e+00   0.00000000e+00\n",
      "    0.00000000e+00   0.00000000e+00   0.00000000e+00   0.00000000e+00]\n",
      " [  5.00000000e-01   0.00000000e+00   5.00000000e-01   0.00000000e+00\n",
      "    0.00000000e+00   0.00000000e+00   0.00000000e+00   0.00000000e+00]\n",
      " [  3.92523115e-17   0.00000000e+00   1.00000000e+00   0.00000000e+00\n",
      "    0.00000000e+00   0.00000000e+00   0.00000000e+00   0.00000000e+00]\n",
      " [  0.00000000e+00   0.00000000e+00   5.00000000e-01   0.00000000e+00\n",
      "    5.00000000e-01   0.00000000e+00   0.00000000e+00   0.00000000e+00]\n",
      " [  0.00000000e+00   0.00000000e+00   8.32667268e-17   0.00000000e+00\n",
      "    1.00000000e+00   0.00000000e+00   0.00000000e+00   0.00000000e+00]\n",
      " [  0.00000000e+00   0.00000000e+00   0.00000000e+00   0.00000000e+00\n",
      "    5.00000000e-01   0.00000000e+00   5.00000000e-01   0.00000000e+00]\n",
      " [  0.00000000e+00   0.00000000e+00   0.00000000e+00   0.00000000e+00\n",
      "    3.92523115e-17   0.00000000e+00   1.00000000e+00   0.00000000e+00]]\n"
     ]
    }
   ],
   "source": [
    "help(interpol_1d)\n",
    "\n",
    "print interpol_1d(2, 4, mode=MODE_NP)\n",
    "print interpol_1d(2, 4, 1.E-8, mode=MODE_TT).full()"
   ]
  },
  {
   "cell_type": "markdown",
   "metadata": {},
   "source": [
    "# OLD CODE BELOW!"
   ]
  },
  {
   "cell_type": "code",
   "execution_count": null,
   "metadata": {
    "collapsed": true
   },
   "outputs": [],
   "source": []
  },
  {
   "cell_type": "code",
   "execution_count": null,
   "metadata": {
    "collapsed": true
   },
   "outputs": [],
   "source": []
  },
  {
   "cell_type": "code",
   "execution_count": 10,
   "metadata": {
    "collapsed": false
   },
   "outputs": [
    {
     "name": "stdout",
     "output_type": "stream",
     "text": [
      "Help on function eye_first in module utils.spec_matr:\n",
      "\n",
      "eye_first(d, n, mode=0, use_csr=False)\n",
      "    Diagonal matrix: diag(1, 0,..., 0, 0).\n",
      "\n",
      "[[1 0 0 0]\n",
      " [0 0 0 0]\n",
      " [0 0 0 0]\n",
      " [0 0 0 0]]\n"
     ]
    }
   ],
   "source": [
    "help(eye_first)\n",
    "print eye_first(2, 4, MODE_NP, use_csr=False)\n",
    "\n",
    "res1 = eye_first(10, 2**10, MODE_NP)\n",
    "res2 = eye_first(10, 2**10, MODE_TT).full()\n",
    "\n",
    "assert norm(res1 - res2)/norm(res1) < 1.E-16"
   ]
  },
  {
   "cell_type": "code",
   "execution_count": 11,
   "metadata": {
    "collapsed": false
   },
   "outputs": [
    {
     "name": "stdout",
     "output_type": "stream",
     "text": [
      "Help on function eye_last in module utils.spec_matr:\n",
      "\n",
      "eye_last(d, n, mode=0, use_csr=False)\n",
      "    Diagonal matrix: diag(0, 0,..., 0, 1).\n",
      "\n",
      "[[0 0 0 0]\n",
      " [0 0 0 0]\n",
      " [0 0 0 0]\n",
      " [0 0 0 1]]\n"
     ]
    }
   ],
   "source": [
    "help(eye_last)\n",
    "print eye_last(2, 4, MODE_NP, use_csr=False)\n",
    "\n",
    "res1 = eye_last(10, 2**10, MODE_NP)\n",
    "res2 = eye_last(10, 2**10, MODE_TT).full()\n",
    "\n",
    "assert norm(res1 - res2)/norm(res1) < 1.E-16"
   ]
  },
  {
   "cell_type": "code",
   "execution_count": 12,
   "metadata": {
    "collapsed": false
   },
   "outputs": [
    {
     "name": "stdout",
     "output_type": "stream",
     "text": [
      "Help on function eye_except_first in module utils.spec_matr:\n",
      "\n",
      "eye_except_first(d, n, mode=0, use_csr=False)\n",
      "    Diagonal matrix: diag(0, 1,..., 1, 1).\n",
      "\n",
      "[[ 0.  0.  0.  0.]\n",
      " [ 0.  1.  0.  0.]\n",
      " [ 0.  0.  1.  0.]\n",
      " [ 0.  0.  0.  1.]]\n"
     ]
    }
   ],
   "source": [
    "help(eye_except_first)\n",
    "print eye_except_first(2, 4, MODE_NP, use_csr=False)\n",
    "\n",
    "res1 = eye_except_first(10, 2**10, MODE_NP)\n",
    "res2 = eye_except_first(10, 2**10, MODE_TT).full()\n",
    "\n",
    "assert norm(res1 - res2)/norm(res1) < 1.E-16"
   ]
  },
  {
   "cell_type": "code",
   "execution_count": 13,
   "metadata": {
    "collapsed": false
   },
   "outputs": [
    {
     "name": "stdout",
     "output_type": "stream",
     "text": [
      "Help on function eye_except_last in module utils.spec_matr:\n",
      "\n",
      "eye_except_last(d, n, mode=0, use_csr=False)\n",
      "    Diagonal matrix: diag(0, 1,..., 1, 1).\n",
      "\n",
      "[[ 1.  0.  0.  0.]\n",
      " [ 0.  1.  0.  0.]\n",
      " [ 0.  0.  1.  0.]\n",
      " [ 0.  0.  0.  0.]]\n"
     ]
    }
   ],
   "source": [
    "help(eye_except_last)\n",
    "print eye_except_last(2, 4, MODE_NP, use_csr=False)\n",
    "\n",
    "res1 = eye_except_last(10, 2**10, MODE_NP)\n",
    "res2 = eye_except_last(10, 2**10, MODE_TT).full()\n",
    "\n",
    "assert norm(res1 - res2)/norm(res1) < 1.E-16"
   ]
  },
  {
   "cell_type": "code",
   "execution_count": 14,
   "metadata": {
    "collapsed": false
   },
   "outputs": [
    {
     "name": "stdout",
     "output_type": "stream",
     "text": [
      "Help on function eye_p1_first in module utils.spec_matr:\n",
      "\n",
      "eye_p1_first(d, n, mode=0, use_csr=False)\n",
      "    Matrix: A[i, j] = 0, A[0, 1] = 1.\n",
      "\n",
      "[[0 1 0 0]\n",
      " [0 0 0 0]\n",
      " [0 0 0 0]\n",
      " [0 0 0 0]]\n"
     ]
    }
   ],
   "source": [
    "help(eye_p1_first)\n",
    "print eye_p1_first(2, 4, MODE_NP, use_csr=False)\n",
    "\n",
    "res1 = eye_p1_first(10, 2**10, MODE_NP)\n",
    "res2 = eye_p1_first(10, 2**10, MODE_TT).full()\n",
    "\n",
    "assert norm(res1 - res2)/norm(res1) < 1.E-15"
   ]
  },
  {
   "cell_type": "code",
   "execution_count": 15,
   "metadata": {
    "collapsed": false
   },
   "outputs": [
    {
     "name": "stdout",
     "output_type": "stream",
     "text": [
      "Help on function eye_p1_last in module utils.spec_matr:\n",
      "\n",
      "eye_p1_last(d, n, mode=0, use_csr=False)\n",
      "    Matrix: A[i, j] = 0, A[-1, -2] = 1.\n",
      "\n",
      "[[0 0 0 0]\n",
      " [0 0 0 0]\n",
      " [0 0 0 1]\n",
      " [0 0 0 0]]\n"
     ]
    }
   ],
   "source": [
    "help(eye_p1_last)\n",
    "print eye_p1_last(2, 4, MODE_NP, use_csr=False)\n",
    "\n",
    "res1 = eye_p1_last(10, 2**10, MODE_NP)\n",
    "res2 = eye_p1_last(10, 2**10, MODE_TT).full()\n",
    "\n",
    "assert norm(res1 - res2)/norm(res1) < 1.E-15"
   ]
  },
  {
   "cell_type": "code",
   "execution_count": 17,
   "metadata": {
    "collapsed": false
   },
   "outputs": [
    {
     "name": "stdout",
     "output_type": "stream",
     "text": [
      "Help on function ones_first in module utils.spec_matr:\n",
      "\n",
      "ones_first(d, n, mode=0, use_csr=False)\n",
      "    Vector: [1, 0,..., 0, 0] (shape=(n, ) or qtt-tensor)\n",
      "\n",
      "[ 1.  0.  0.  0.]\n"
     ]
    }
   ],
   "source": [
    "help(ones_first)\n",
    "print ones_first(2, 4, MODE_NP)\n",
    "\n",
    "res1 = ones_first(10, 2**10, MODE_NP)\n",
    "res2 = ones_first(10, 2**10, MODE_TT).full().flatten('F')\n",
    "\n",
    "assert norm(res1 - res2)/norm(res1) < 1.E-15"
   ]
  },
  {
   "cell_type": "code",
   "execution_count": 18,
   "metadata": {
    "collapsed": false
   },
   "outputs": [
    {
     "name": "stdout",
     "output_type": "stream",
     "text": [
      "Help on function ones_last in module utils.spec_matr:\n",
      "\n",
      "ones_last(d, n, mode=0)\n",
      "    Vector: [0, 0,..., 0, 1] (shape=(n, ) or qtt-tensor)\n",
      "\n",
      "[ 0.  0.  0.  1.]\n"
     ]
    }
   ],
   "source": [
    "help(ones_last)\n",
    "print ones_last(2, 4, MODE_NP)\n",
    "\n",
    "res1 = ones_last(10, 2**10, MODE_NP)\n",
    "res2 = ones_last(10, 2**10, MODE_TT).full().flatten('F')\n",
    "\n",
    "assert norm(res1 - res2)/norm(res1) < 1.E-15"
   ]
  },
  {
   "cell_type": "code",
   "execution_count": 19,
   "metadata": {
    "collapsed": false
   },
   "outputs": [
    {
     "name": "stdout",
     "output_type": "stream",
     "text": [
      "Help on function ones_except_first in module utils.spec_matr:\n",
      "\n",
      "ones_except_first(d, n, mode=0)\n",
      "    Vector: [0, 1,..., 1, 1] (shape=(n, ) or qtt-tensor)\n",
      "\n",
      "[ 0.  1.  1.  1.]\n"
     ]
    }
   ],
   "source": [
    "help(ones_except_first)\n",
    "print ones_except_first(2, 4, MODE_NP)\n",
    "\n",
    "res1 = ones_except_first(10, 2**10, MODE_NP)\n",
    "res2 = ones_except_first(10, 2**10, MODE_TT).full().flatten('F')\n",
    "\n",
    "assert norm(res1 - res2)/norm(res1) < 1.E-15"
   ]
  },
  {
   "cell_type": "code",
   "execution_count": 20,
   "metadata": {
    "collapsed": false
   },
   "outputs": [
    {
     "name": "stdout",
     "output_type": "stream",
     "text": [
      "Help on function ones_except_last in module utils.spec_matr:\n",
      "\n",
      "ones_except_last(d, n, mode=0)\n",
      "    Vector: [1, 1,..., 1, 0] (shape=(n, ) or qtt-tensor)\n",
      "\n",
      "[ 1.  1.  1.  0.]\n"
     ]
    }
   ],
   "source": [
    "help(ones_except_last)\n",
    "print ones_except_last(2, 4, MODE_NP)\n",
    "\n",
    "res1 = ones_except_last(10, 2**10, MODE_NP)\n",
    "res2 = ones_except_last(10, 2**10, MODE_TT).full().flatten('F')\n",
    "\n",
    "assert norm(res1 - res2)/norm(res1) < 1.E-15"
   ]
  },
  {
   "cell_type": "code",
   "execution_count": 6,
   "metadata": {
    "collapsed": false
   },
   "outputs": [
    {
     "name": "stdout",
     "output_type": "stream",
     "text": [
      "Help on function zeros_except_one in module utils.spec_matr:\n",
      "\n",
      "zeros_except_one(d, n, i, j=None, mode=0, value=1.0)\n",
      "    Construct a vector (if j is None) or matrix (if is not None)\n",
      "    with only one nonzero element in position [i, j] with given value.\n",
      "\n",
      "[[ 0.  0.  0.  0.]\n",
      " [ 0.  0.  0.  0.]\n",
      " [ 0.  1.  0.  0.]\n",
      " [ 0.  0.  0.  0.]]\n"
     ]
    }
   ],
   "source": [
    "help(zeros_except_one)\n",
    "\n",
    "print zeros_except_one(2, 2**2, 2, 1, MODE_NP, value=2.)\n",
    "\n",
    "res1 = zeros_except_one(10, 2**10, 4, 5, MODE_NP, value=1.)\n",
    "res2 = zeros_except_one(10, 2**10, 4, 5, MODE_TT, value=1.).full()#.flatten('F')\n",
    "\n",
    "assert norm(res1 - res2)/norm(res1) < 1.E-15"
   ]
  },
  {
   "cell_type": "code",
   "execution_count": 8,
   "metadata": {
    "collapsed": false
   },
   "outputs": [
    {
     "name": "stdout",
     "output_type": "stream",
     "text": [
      "Help on function zeros_except_one in module utils.spec_matr:\n",
      "\n",
      "zeros_except_one(d, n, i, j=None, mode=0, value=1.0)\n",
      "    Construct a vector (if j is None) or matrix (if is not None)\n",
      "    with only one nonzero element in position [i, j] with given value.\n",
      "\n",
      "[ 0.  0.  1.  0.]\n"
     ]
    }
   ],
   "source": [
    "help(zeros_except_one)\n",
    "\n",
    "print zeros_except_one(2, 2**2, 2, None, MODE_NP, value=2.)\n",
    "\n",
    "res1 = zeros_except_one(10, 2**10, 4, None, MODE_NP, value=1.)\n",
    "res2 = zeros_except_one(10, 2**10, 4, None, MODE_TT, value=1.).full().flatten('F')\n",
    "\n",
    "assert norm(res1 - res2)/norm(res1) < 1.E-15"
   ]
  },
  {
   "cell_type": "code",
   "execution_count": null,
   "metadata": {
    "collapsed": true
   },
   "outputs": [],
   "source": []
  },
  {
   "cell_type": "markdown",
   "metadata": {},
   "source": [
    "$$\n",
    "B = h\n",
    "\\begin{bmatrix}\n",
    "    1 &  &  &  \\\\\n",
    "    1 & 1 &  & \\\\\n",
    "\t\\vdots &    &\\ddots  & \\\\\n",
    "  \t1 &  \\dots &\\dots\t& 1 \n",
    "\\end{bmatrix}, \\;\\;\n",
    "$$"
   ]
  },
  {
   "cell_type": "markdown",
   "metadata": {
    "collapsed": true
   },
   "source": [
    "Let introduce Volterra matrix $B^{n \\times n}$, vector $w_i^{n \\times 1}$, $q_i^{n \\times 1}$ and a vector of ones $e^{n \\times 1}$:\n",
    "$$\n",
    "B = h\n",
    "\\begin{bmatrix}\n",
    "    1 &  &  &  \\\\\n",
    "    1 & 1 &  & \\\\\n",
    "\t\\vdots &    &\\ddots  & \\\\\n",
    "  \t1 &  \\dots &\\dots\t& 1 \n",
    "\\end{bmatrix}, \\;\\;\n",
    "w_i [k] = \\begin{cases}\n",
    "0, \\;\\; k != i, \\\\\n",
    "1, \\;\\; k = i\n",
    "\\end{cases}, \\;\\;\n",
    "q_i [k] = \\begin{cases}\n",
    "0, \\;\\; k < i, \\\\\n",
    "1, \\;\\; k \\geq i\n",
    "\\end{cases}\n",
    "$$\n",
    "\n",
    "then we have:\n",
    "$$\n",
    "B w_i = q_i, \\;\\; B^T w_i = \n",
    "$$\n",
    "\n",
    "Sherman-Morrison formula:\n",
    "$$\n",
    "(S+uv^T)^{-1} = S^{-1} - \\frac{S^{-1} u v^T S^{-1}}{1 + v^T S^{-1} u}.\n",
    "$$\n",
    "\n",
    "Let $S^{n \\times n}=B^{-1} B^{-T}$, $u v^T = k_i w_i w_i^T$ where $k_i$ is a constant, then:\n",
    "$$\n",
    "(B^{-1} B^{-T} + k_i w_i w_i^T)^{-1} =\n",
    "B^T B - k_i \\frac{B^T B w_i w_i^T B^T B}{1 + k_i w_i^T B^T B w_i} = \n",
    "B^T B - k_i \\frac{B^T (B w_i) (B w_i)^T B}{1 + k_i (B w_i)^T (B w_i)} = \n",
    "B^T B - k_i \\frac{B^T q_i q_i^T B}{1 + k_i q_i^T q_i} = \n",
    "B^T B - \\frac{B^T q_i q_i^T B}{1/k_i  + (n-i)}.\n",
    "$$\n",
    "\n",
    "And then:\n",
    "$$\n",
    "(B^{-1} B^{-T} + k_i w_i w_i^T+ k_j w_j w_j^T)^{-1} =\n",
    "B^T B - \\frac{B^T q_i q_i^T B}{1/k_i  + (n-i)} - \n",
    "k_j \\frac{B^T B w_j w_j^T B^T B - \\frac{B^T q_i q_i^T B}{1/k_i  + (n-i)} w_j w_j^T B^T B - \\frac{B^T q_i q_i^T B}{1/k_i  + (n-i)}}{1 + k_j w_j^T B^T B - \\frac{B^T q_i q_i^T B}{1/k_i  + (n-i)} w_j}\n",
    "$$"
   ]
  },
  {
   "cell_type": "code",
   "execution_count": 98,
   "metadata": {
    "collapsed": false
   },
   "outputs": [
    {
     "name": "stdout",
     "output_type": "stream",
     "text": [
      "2.80822622271e-16\n"
     ]
    }
   ],
   "source": [
    "d = 2\n",
    "n = 2**d\n",
    "B = m_volterra(d, n, 1., mode=MODE_NP)\n",
    "iB = m_findif(d, n, 1., mode=MODE_NP)\n",
    "\n",
    "i = 2\n",
    "ki = 222.\n",
    "wi = np.zeros((n, 1)); wi[i, 0] = 1.\n",
    "qi = np.zeros((n, 1))\n",
    "for k in range(i, n):\n",
    "    qi[k, 0] = 1.\n",
    "    \n",
    "X = iB.dot(iB.T) + ki*wi.dot(wi.T)\n",
    "X = np.linalg.inv(X)\n",
    "\n",
    "Y = B.T.dot(B) - B.T.dot(qi).dot(qi.T).dot(B)/(1./ki+(n-i))\n",
    "\n",
    "print np.linalg.norm(X-Y)/np.linalg.norm(X)"
   ]
  },
  {
   "cell_type": "code",
   "execution_count": 103,
   "metadata": {
    "collapsed": false
   },
   "outputs": [
    {
     "name": "stdout",
     "output_type": "stream",
     "text": [
      "[[ 2. -1.  0.  0.]\n",
      " [-1.  2. -1.  0.]\n",
      " [ 0. -1.  2. -1.]\n",
      " [ 0.  0. -1.  1.]]\n"
     ]
    }
   ],
   "source": [
    "print iB.T.dot(iB) #!!!"
   ]
  },
  {
   "cell_type": "code",
   "execution_count": 94,
   "metadata": {
    "collapsed": false
   },
   "outputs": [
    {
     "name": "stdout",
     "output_type": "stream",
     "text": [
      "[[ 1.  0.  0.  0.]\n",
      " [ 1.  1.  0.  0.]\n",
      " [ 1.  1.  1.  0.]\n",
      " [ 1.  1.  1.  1.]]\n",
      "[[ 0.  0.  0.  0.]\n",
      " [ 0.  0.  0.  0.]\n",
      " [ 0.  0.  0.  0.]\n",
      " [ 0.  0.  1.  0.]]\n"
     ]
    }
   ],
   "source": [
    "d = 2\n",
    "n = 2**d\n",
    "B = m_volterra(d, n, 1., mode=MODE_NP)\n",
    "print B\n",
    "\n",
    "i = 3\n",
    "j = 2\n",
    "wi = np.zeros((n, 1))\n",
    "wi[i, 0] = 1.\n",
    "wj = np.zeros((n, 1))\n",
    "wj[j, 0] = 1.\n",
    "qi = np.zeros((n, 1))\n",
    "for k in range(i, n):\n",
    "    qi[k, 0] = 1.\n",
    "qj = np.zeros((n, 1))\n",
    "for k in range(j, n):\n",
    "    qj[k, 0] = 1.\n",
    "\n",
    "print wi.dot(wj.T)"
   ]
  },
  {
   "cell_type": "code",
   "execution_count": 2,
   "metadata": {
    "collapsed": false
   },
   "outputs": [
    {
     "name": "stdout",
     "output_type": "stream",
     "text": [
      "Help on function vzeros_except_one in module qttpdesolver.utils.spec_matr:\n",
      "\n",
      "vzeros_except_one(d, ind, mode=0, value=1.0)\n",
      "    Construct a vector in the given mode of length 2**d with only one\n",
      "    nonzero element in position ind, that is equal to a given value.\n",
      "\n",
      "[ 2.  0.  0.  0.  0.  0.  0.  0.]\n",
      "[ 0.  0.  2.  0.  0.  0.  0.  0.]\n",
      "[ 0.  0.  2.  0.  0.  0.  0.  0.]\n",
      "[ 0.  0.  0.  0.  0.  0.  0.  2.]\n"
     ]
    }
   ],
   "source": [
    "help(vzeros_except_one)\n",
    "\n",
    "d = 3\n",
    "n = 2**d\n",
    "value = 2.\n",
    "\n",
    "print vzeros_except_one(d, ind=0, mode=MODE_NP, value=value)\n",
    "print vzeros_except_one(d, ind=2, mode=MODE_NP, value=value)\n",
    "print vzeros_except_one(d, ind=2, mode=MODE_TT, value=value).full().flatten('F')\n",
    "print vzeros_except_one(d, ind=n-1, mode=MODE_NP, value=value)"
   ]
  },
  {
   "cell_type": "code",
   "execution_count": null,
   "metadata": {
    "collapsed": true
   },
   "outputs": [],
   "source": []
  }
 ],
 "metadata": {
  "kernelspec": {
   "display_name": "Python 2",
   "language": "python",
   "name": "python2"
  },
  "language_info": {
   "codemirror_mode": {
    "name": "ipython",
    "version": 2
   },
   "file_extension": ".py",
   "mimetype": "text/x-python",
   "name": "python",
   "nbconvert_exporter": "python",
   "pygments_lexer": "ipython2",
   "version": "2.7.11"
  }
 },
 "nbformat": 4,
 "nbformat_minor": 0
}
