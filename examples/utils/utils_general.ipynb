{
 "cells": [
  {
   "cell_type": "markdown",
   "metadata": {},
   "source": [
    "# Examples for functions from utils.general module.\n",
    "\n",
    "Some functions have optional parameter mode (=MODE_NP by default). If mode is MODE_NP (=0) then numpy format is used for all calculations, if mode is MODE_TT (=1) then tensor train (TT) format is used, if mode is MODE_SP (=2) then scipy sparse format is used."
   ]
  },
  {
   "cell_type": "code",
   "execution_count": 1,
   "metadata": {
    "collapsed": false
   },
   "outputs": [],
   "source": [
    "import numpy as np\n",
    "from scipy.sparse import diags as sp_diag\n",
    "\n",
    "import tt\n",
    "\n",
    "from qttpdesolver.utils.general import MODE_NP, MODE_TT, MODE_SP\n",
    "from qttpdesolver.utils.general import is_mode_np, is_mode_tt, is_mode_sp\n",
    "from qttpdesolver.utils.general import define_mode, define_mode_list\n",
    "from qttpdesolver.utils.general import rel_err, norm, ttround, vdiag, msum, vsum, mprod, vprod, mvec, vinv"
   ]
  },
  {
   "cell_type": "markdown",
   "metadata": {},
   "source": [
    "## Vectors and matrices for examples\n",
    "\n",
    "The vectors and matrices are constructed here in numpy format and then are transformed to [quantized] tensor train format (the last ones are named according to mask *_tt)."
   ]
  },
  {
   "cell_type": "code",
   "execution_count": 2,
   "metadata": {
    "collapsed": false
   },
   "outputs": [],
   "source": [
    "d = 5\n",
    "n = 2**d\n",
    "tau = 1.E-8\n",
    "x = np.arange(n)+1.\n",
    "y =-2.*x\n",
    "z = x*y\n",
    "\n",
    "x_tt = tt.tensor(x.reshape([2]*d, order='F'), tau)\n",
    "y_tt = tt.tensor(y.reshape([2]*d, order='F'), tau)\n",
    "z_tt = tt.tensor(z.reshape([2]*d, order='F'), tau)\n",
    "\n",
    "A_tt = tt.Toeplitz(x_tt, d, kind='U')\n",
    "A = A_tt.full()\n",
    "\n",
    "B_tt = tt.Toeplitz(y_tt, d, kind='L')\n",
    "B = B_tt.full()\n",
    "\n",
    "C_tt = tt.Toeplitz(z_tt, d, kind='L')\n",
    "C = C_tt.full()\n",
    "\n",
    "I = np.eye(n)\n",
    "I_sp = sp_diag([np.ones(n)], [0], format='csr')"
   ]
  },
  {
   "cell_type": "markdown",
   "metadata": {},
   "source": [
    "## Examples"
   ]
  },
  {
   "cell_type": "code",
   "execution_count": 3,
   "metadata": {
    "collapsed": false
   },
   "outputs": [
    {
     "name": "stdout",
     "output_type": "stream",
     "text": [
      "Help on function is_mode_np in module qttpdesolver.utils.general:\n",
      "\n",
      "is_mode_np(x)\n",
      "    Return True if x is in MODE_NP and False otherwise.\n",
      "\n",
      "Help on function define_mode in module qttpdesolver.utils.general:\n",
      "\n",
      "define_mode(x)\n",
      "    Return MODE_NP / MODE_TT / MODE_SP or None according to the type of x.\n",
      "\n",
      "Help on function define_mode_list in module qttpdesolver.utils.general:\n",
      "\n",
      "define_mode_list(lst, num_as_none=False)\n",
      "    Return MODE_NP / MODE_TT / MODE_SP or None according to the type of\n",
      "    the first non-None list element.\n",
      "    If num_as_none==True, then elements of int/float will be passed (as None).\n",
      "\n",
      "True True True False\n",
      "False True True\n",
      "True\n",
      "0 0 1 1 2 None None\n",
      "0 1 2\n"
     ]
    }
   ],
   "source": [
    "help(is_mode_np)\n",
    "help(define_mode)\n",
    "help(define_mode_list)\n",
    "\n",
    "print is_mode_np(1),\n",
    "print is_mode_np(x),\n",
    "print is_mode_np(A),\n",
    "print is_mode_np(x_tt)\n",
    "\n",
    "print is_mode_tt(x),\n",
    "print is_mode_tt(x_tt),\n",
    "print is_mode_tt(A_tt)\n",
    "\n",
    "print is_mode_sp(I_sp)\n",
    "\n",
    "print define_mode(x),\n",
    "print define_mode(A),\n",
    "print define_mode(x_tt),\n",
    "print define_mode(A_tt),\n",
    "print define_mode(I_sp),\n",
    "print define_mode('abc'),\n",
    "print define_mode([1, 2, 3])\n",
    "\n",
    "print define_mode_list([[None, z, x]]),\n",
    "print define_mode_list([[None, None, None], [None, z_tt, z]]),\n",
    "print define_mode_list([[None, I_sp, None], [None, z, z_tt]])"
   ]
  },
  {
   "cell_type": "code",
   "execution_count": 4,
   "metadata": {
    "collapsed": false
   },
   "outputs": [
    {
     "name": "stdout",
     "output_type": "stream",
     "text": [
      "Help on function norm in module qttpdesolver.utils.general:\n",
      "\n",
      "norm(x)\n",
      "    Return ||x|| if x != None or return None otherwise.\n",
      "\n",
      "10.0 200.0 106.957935657 106.957935657 5.65685424949 None\n"
     ]
    }
   ],
   "source": [
    "help(norm)\n",
    "print norm(np.ones(100)),\n",
    "print norm(np.ones((100, 100))*2.),\n",
    "print norm(x),\n",
    "print norm(x_tt),\n",
    "print norm(I_sp),\n",
    "print norm(None)"
   ]
  },
  {
   "cell_type": "code",
   "execution_count": 5,
   "metadata": {
    "collapsed": false
   },
   "outputs": [
    {
     "name": "stdout",
     "output_type": "stream",
     "text": [
      "Help on function rel_err in module qttpdesolver.utils.general:\n",
      "\n",
      "rel_err(x1, x2)\n",
      "    Return ||x1-x2||/||x1|| if x1 and x2 != None or return None otherwise.\n",
      "\n",
      "1.0 1.0 0.5 0.5 1.0 0.5 0.5 3.0 None None\n"
     ]
    }
   ],
   "source": [
    "help(rel_err)\n",
    "print rel_err(x, 2.*x),\n",
    "print rel_err(x_tt, 2.*x_tt),\n",
    "print rel_err(2.*x, x),\n",
    "print rel_err(2.*x_tt, x_tt),\n",
    "print rel_err(A_tt, 2.*A_tt),\n",
    "print rel_err(2.*A_tt, A_tt),\n",
    "print rel_err(2.*I_sp, I_sp),\n",
    "print rel_err(x, y),\n",
    "print rel_err(x, None),\n",
    "print rel_err(None, None)"
   ]
  },
  {
   "cell_type": "code",
   "execution_count": 6,
   "metadata": {
    "collapsed": false
   },
   "outputs": [
    {
     "name": "stdout",
     "output_type": "stream",
     "text": [
      "Help on function ttround in module qttpdesolver.utils.general:\n",
      "\n",
      "ttround(x=None, tau=None)\n",
      "    Round tt-vector or matrix to accuracy tau,\n",
      "    or return x if it is None or mode is MODE_NP or MODE_SP or if tau is None.\n",
      "\n",
      "[1 2 2 2 2 1]\n",
      "[1 1 1 2 2 1]\n"
     ]
    }
   ],
   "source": [
    "help(ttround)\n",
    "print ttround(x_tt, tau=1.E-8).r\n",
    "print ttround(x_tt, tau=1.E-1).r"
   ]
  },
  {
   "cell_type": "code",
   "execution_count": 7,
   "metadata": {
    "collapsed": false
   },
   "outputs": [
    {
     "name": "stdout",
     "output_type": "stream",
     "text": [
      "Help on function vdiag in module qttpdesolver.utils.general:\n",
      "\n",
      "vdiag(x, tau=None, to_sp=False)\n",
      "    Construct a diagonal matrix from a vector (if x is a vector) or\n",
      "    construct matrix diagonal (if x is a matrix).\n",
      "    If x is a vector in MODE_NP and result is needed in MODE_SP, then\n",
      "    to_sp should be set to True.\n",
      "\n",
      "[[  1.   0.   0. ...,   0.   0.   0.]\n",
      " [  0.   2.   0. ...,   0.   0.   0.]\n",
      " [  0.   0.   3. ...,   0.   0.   0.]\n",
      " ..., \n",
      " [  0.   0.   0. ...,  30.   0.   0.]\n",
      " [  0.   0.   0. ...,   0.  31.   0.]\n",
      " [  0.   0.   0. ...,   0.   0.  32.]]\n",
      "[[  1.   0.   0. ...,   0.   0.   0.]\n",
      " [  0.   2.   0. ...,   0.   0.   0.]\n",
      " [  0.   0.   3. ...,   0.   0.   0.]\n",
      " ..., \n",
      " [  0.   0.   0. ...,  30.   0.   0.]\n",
      " [  0.   0.   0. ...,   0.  31.   0.]\n",
      " [  0.   0.   0. ...,   0.   0.  32.]]\n",
      "[-2. -2. -2. -2. -2. -2. -2. -2. -2. -2. -2. -2. -2. -2. -2. -2. -2. -2.\n",
      " -2. -2. -2. -2. -2. -2. -2. -2. -2. -2. -2. -2. -2. -2.]\n",
      "[-2. -2. -2. -2. -2. -2. -2. -2. -2. -2. -2. -2. -2. -2. -2. -2. -2. -2.\n",
      " -2. -2. -2. -2. -2. -2. -2. -2. -2. -2. -2. -2. -2. -2.]\n",
      "  (0, 0)\t1.0\n",
      "  (1, 1)\t2.0\n",
      "  (2, 2)\t3.0\n",
      "  (3, 3)\t4.0\n",
      "  (4, 4)\t5.0\n",
      "  (5, 5)\t6.0\n",
      "  (6, 6)\t7.0\n",
      "  (7, 7)\t8.0\n",
      "  (8, 8)\t9.0\n",
      "  (9, 9)\t10.0\n",
      "  (10, 10)\t11.0\n",
      "  (11, 11)\t12.0\n",
      "  (12, 12)\t13.0\n",
      "  (13, 13)\t14.0\n",
      "  (14, 14)\t15.0\n",
      "  (15, 15)\t16.0\n",
      "  (16, 16)\t17.0\n",
      "  (17, 17)\t18.0\n",
      "  (18, 18)\t19.0\n",
      "  (19, 19)\t20.0\n",
      "  (20, 20)\t21.0\n",
      "  (21, 21)\t22.0\n",
      "  (22, 22)\t23.0\n",
      "  (23, 23)\t24.0\n",
      "  (24, 24)\t25.0\n",
      "  (25, 25)\t26.0\n",
      "  (26, 26)\t27.0\n",
      "  (27, 27)\t28.0\n",
      "  (28, 28)\t29.0\n",
      "  (29, 29)\t30.0\n",
      "  (30, 30)\t31.0\n",
      "  (31, 31)\t32.0\n",
      "[ 1.  1.  1.  1.  1.  1.  1.  1.  1.  1.  1.  1.  1.  1.  1.  1.  1.  1.\n",
      "  1.  1.  1.  1.  1.  1.  1.  1.  1.  1.  1.  1.  1.  1.]\n"
     ]
    }
   ],
   "source": [
    "help(vdiag)\n",
    "print vdiag(x, tau)\n",
    "print vdiag(x_tt, tau).full()\n",
    "print vdiag(B, tau)\n",
    "print vdiag(B_tt, tau).full().flatten('F')\n",
    "print vdiag(x, to_sp=True)\n",
    "print vdiag(I_sp)"
   ]
  },
  {
   "cell_type": "code",
   "execution_count": 8,
   "metadata": {
    "collapsed": false
   },
   "outputs": [
    {
     "name": "stdout",
     "output_type": "stream",
     "text": [
      "Help on function msum in module qttpdesolver.utils.general:\n",
      "\n",
      "msum(lst, tau=None)\n",
      "    Calculate a sum of a list of vectors or matrices.\n",
      "\n",
      "[   -3.   -10.   -21.   -36.   -55.   -78.  -105.  -136.  -171.  -210.\n",
      "  -253.  -300.  -351.  -406.  -465.  -528.  -595.  -666.  -741.  -820.\n",
      "  -903.  -990. -1081. -1176. -1275. -1378. -1485. -1596. -1711. -1830.\n",
      " -1953. -2080.]\n",
      "[   -3.   -10.   -21.   -36.   -55.   -78.  -105.  -136.  -171.  -210.\n",
      "  -253.  -300.  -351.  -406.  -465.  -528.  -595.  -666.  -741.  -820.\n",
      "  -903.  -990. -1081. -1176. -1275. -1378. -1485. -1596. -1711. -1830.\n",
      " -1953. -2080.]\n",
      "[[ -4.00000000e+00  -1.20000000e+01  -2.40000000e+01 ...,  -1.86000000e+03\n",
      "   -1.98400000e+03  -2.11200000e+03]\n",
      " [  3.20000000e+01  -4.00000000e+00  -1.20000000e+01 ...,  -1.74000000e+03\n",
      "   -1.86000000e+03  -1.98400000e+03]\n",
      " [  3.10000000e+01   3.20000000e+01  -4.00000000e+00 ...,  -1.62400000e+03\n",
      "   -1.74000000e+03  -1.86000000e+03]\n",
      " ..., \n",
      " [  4.00000000e+00   5.00000000e+00   6.00000000e+00 ...,  -4.00000000e+00\n",
      "   -1.20000000e+01  -2.40000000e+01]\n",
      " [  3.00000000e+00   4.00000000e+00   5.00000000e+00 ...,   3.20000000e+01\n",
      "   -4.00000000e+00  -1.20000000e+01]\n",
      " [  2.00000000e+00   3.00000000e+00   4.00000000e+00 ...,   3.10000000e+01\n",
      "    3.20000000e+01  -4.00000000e+00]]\n",
      "[[ -4.00000000e+00  -1.20000000e+01  -2.40000000e+01 ...,  -1.86000000e+03\n",
      "   -1.98400000e+03  -2.11200000e+03]\n",
      " [  3.20000000e+01  -4.00000000e+00  -1.20000000e+01 ...,  -1.74000000e+03\n",
      "   -1.86000000e+03  -1.98400000e+03]\n",
      " [  3.10000000e+01   3.20000000e+01  -4.00000000e+00 ...,  -1.62400000e+03\n",
      "   -1.74000000e+03  -1.86000000e+03]\n",
      " ..., \n",
      " [  4.00000000e+00   5.00000000e+00   6.00000000e+00 ...,  -4.00000000e+00\n",
      "   -1.20000000e+01  -2.40000000e+01]\n",
      " [  3.00000000e+00   4.00000000e+00   5.00000000e+00 ...,   3.20000000e+01\n",
      "   -4.00000000e+00  -1.20000000e+01]\n",
      " [  2.00000000e+00   3.00000000e+00   4.00000000e+00 ...,   3.10000000e+01\n",
      "    3.20000000e+01  -4.00000000e+00]]\n",
      "[ 4.  4.  4.  4.  4.  4.  4.  4.  4.  4.  4.  4.  4.  4.  4.  4.  4.  4.\n",
      "  4.  4.  4.  4.  4.  4.  4.  4.  4.  4.  4.  4.  4.  4.]\n"
     ]
    }
   ],
   "source": [
    "help(msum)\n",
    "print msum([x, y, z], tau)\n",
    "print msum([x_tt, y_tt, z_tt], tau).full().flatten('F')\n",
    "print msum([A, B, C], tau)\n",
    "print msum([A_tt, B_tt, C_tt], tau).full()\n",
    "print vdiag(msum([I_sp]*4, tau))"
   ]
  },
  {
   "cell_type": "code",
   "execution_count": 9,
   "metadata": {
    "collapsed": false
   },
   "outputs": [
    {
     "name": "stdout",
     "output_type": "stream",
     "text": [
      "Help on function vsum in module qttpdesolver.utils.general:\n",
      "\n",
      "vsum(x, tau=None)\n",
      "    Calculate a sum of vector's elements.\n",
      "\n",
      "528.0\n",
      "528.0\n"
     ]
    }
   ],
   "source": [
    "help(vsum)\n",
    "print vsum(x, tau)\n",
    "print vsum(x_tt, tau)"
   ]
  },
  {
   "cell_type": "code",
   "execution_count": 10,
   "metadata": {
    "collapsed": false
   },
   "outputs": [
    {
     "name": "stdout",
     "output_type": "stream",
     "text": [
      "Help on function mprod in module qttpdesolver.utils.general:\n",
      "\n",
      "mprod(lst, tau=None)\n",
      "    Calculate matrix-dot product for a list of matrices m.\n",
      "\n",
      "[[  0.00000000e+00   0.00000000e+00   0.00000000e+00 ...,   0.00000000e+00\n",
      "    0.00000000e+00   0.00000000e+00]\n",
      " [  1.28000000e+02   7.68000000e+02   2.56000000e+03 ...,   9.84064000e+06\n",
      "    1.11738880e+07   1.26382080e+07]\n",
      " [  1.24000000e+02   8.72000000e+02   3.24800000e+03 ...,   1.81635200e+07\n",
      "    2.06653440e+07   2.34171520e+07]\n",
      " ..., \n",
      " [  1.60000000e+01   1.16000000e+02   4.64000000e+02 ...,   1.80592280e+07\n",
      "    2.15175360e+07   2.55061960e+07]\n",
      " [  1.20000000e+01   8.80000000e+01   3.56000000e+02 ...,   1.59969920e+07\n",
      "    1.91067800e+07   2.27023680e+07]\n",
      " [  8.00000000e+00   6.00000000e+01   2.48000000e+02 ...,   1.39346240e+07\n",
      "    1.66953600e+07   1.98966680e+07]]\n",
      "[[ -1.39396434e-07   1.62286597e-07  -6.98928488e-08 ...,   7.91535740e-07\n",
      "    3.94844392e-07   7.00880264e-07]\n",
      " [  1.28000000e+02   7.68000000e+02   2.56000000e+03 ...,   9.84064000e+06\n",
      "    1.11738880e+07   1.26382080e+07]\n",
      " [  1.24000000e+02   8.72000000e+02   3.24800000e+03 ...,   1.81635200e+07\n",
      "    2.06653440e+07   2.34171520e+07]\n",
      " ..., \n",
      " [  1.59999982e+01   1.16000002e+02   4.63999998e+02 ...,   1.80592280e+07\n",
      "    2.15175360e+07   2.55061960e+07]\n",
      " [  1.20000014e+01   8.79999984e+01   3.56000002e+02 ...,   1.59969920e+07\n",
      "    1.91067800e+07   2.27023680e+07]\n",
      " [  7.99999971e+00   6.00000004e+01   2.47999999e+02 ...,   1.39346240e+07\n",
      "    1.66953600e+07   1.98966680e+07]]\n",
      "[-1. -1. -1. -1. -1. -1. -1. -1. -1. -1. -1. -1. -1. -1. -1. -1. -1. -1.\n",
      " -1. -1. -1. -1. -1. -1. -1. -1. -1. -1. -1. -1. -1. -1.]\n"
     ]
    }
   ],
   "source": [
    "help(mprod)\n",
    "print mprod([A, B, C])\n",
    "print mprod([A_tt, B_tt, C_tt], tau).full()\n",
    "print vdiag(mprod([I_sp]*3+[-1.*I_sp], tau))"
   ]
  },
  {
   "cell_type": "code",
   "execution_count": 11,
   "metadata": {
    "collapsed": false
   },
   "outputs": [
    {
     "name": "stdout",
     "output_type": "stream",
     "text": [
      "Help on function vprod in module qttpdesolver.utils.general:\n",
      "\n",
      "vprod(lst, tau=None)\n",
      "    Calculate elemenwise product for a list of vectors v.\n",
      "\n",
      "[  4.00000000e+00   6.40000000e+01   3.24000000e+02   1.02400000e+03\n",
      "   2.50000000e+03   5.18400000e+03   9.60400000e+03   1.63840000e+04\n",
      "   2.62440000e+04   4.00000000e+04   5.85640000e+04   8.29440000e+04\n",
      "   1.14244000e+05   1.53664000e+05   2.02500000e+05   2.62144000e+05\n",
      "   3.34084000e+05   4.19904000e+05   5.21284000e+05   6.40000000e+05\n",
      "   7.77924000e+05   9.37024000e+05   1.11936400e+06   1.32710400e+06\n",
      "   1.56250000e+06   1.82790400e+06   2.12576400e+06   2.45862400e+06\n",
      "   2.82912400e+06   3.24000000e+06   3.69408400e+06   4.19430400e+06]\n",
      "[  4.00000000e+00   6.40000000e+01   3.24000000e+02   1.02400000e+03\n",
      "   2.50000000e+03   5.18400000e+03   9.60400000e+03   1.63840000e+04\n",
      "   2.62440000e+04   4.00000000e+04   5.85640000e+04   8.29440000e+04\n",
      "   1.14244000e+05   1.53664000e+05   2.02500000e+05   2.62144000e+05\n",
      "   3.34084000e+05   4.19904000e+05   5.21284000e+05   6.40000000e+05\n",
      "   7.77924000e+05   9.37024000e+05   1.11936400e+06   1.32710400e+06\n",
      "   1.56250000e+06   1.82790400e+06   2.12576400e+06   2.45862400e+06\n",
      "   2.82912400e+06   3.24000000e+06   3.69408400e+06   4.19430400e+06]\n"
     ]
    }
   ],
   "source": [
    "help(vprod)\n",
    "print vprod([x, y, z], tau)\n",
    "print vprod([x_tt, y_tt, z_tt], tau).full().flatten('F')"
   ]
  },
  {
   "cell_type": "code",
   "execution_count": 12,
   "metadata": {
    "collapsed": false
   },
   "outputs": [
    {
     "name": "stdout",
     "output_type": "stream",
     "text": [
      "Help on function mvec in module qttpdesolver.utils.general:\n",
      "\n",
      "mvec(A, x, tau=None)\n",
      "    Calculate a matrix-vector product for matrix A and vector x.\n",
      "\n",
      "[     0.     32.     95.    188.    310.    460.    637.    840.   1068.\n",
      "   1320.   1595.   1892.   2210.   2548.   2905.   3280.   3672.   4080.\n",
      "   4503.   4940.   5390.   5852.   6325.   6808.   7300.   7800.   8307.\n",
      "   8820.   9338.   9860.  10385.  10912.]\n",
      "[ -7.84439180e-12   3.20000000e+01   9.50000000e+01   1.88000000e+02\n",
      "   3.10000000e+02   4.60000000e+02   6.37000000e+02   8.40000000e+02\n",
      "   1.06800000e+03   1.32000000e+03   1.59500000e+03   1.89200000e+03\n",
      "   2.21000000e+03   2.54800000e+03   2.90500000e+03   3.28000000e+03\n",
      "   3.67200000e+03   4.08000000e+03   4.50300000e+03   4.94000000e+03\n",
      "   5.39000000e+03   5.85200000e+03   6.32500000e+03   6.80800000e+03\n",
      "   7.30000000e+03   7.80000000e+03   8.30700000e+03   8.82000000e+03\n",
      "   9.33800000e+03   9.86000000e+03   1.03850000e+04   1.09120000e+04]\n",
      "[  1.   2.   3.   4.   5.   6.   7.   8.   9.  10.  11.  12.  13.  14.  15.\n",
      "  16.  17.  18.  19.  20.  21.  22.  23.  24.  25.  26.  27.  28.  29.  30.\n",
      "  31.  32.]\n"
     ]
    }
   ],
   "source": [
    "help(mvec)\n",
    "print mvec(A, x, tau)\n",
    "print mvec(A_tt, x_tt, tau).full().flatten('F')\n",
    "print mvec(I_sp, x)"
   ]
  },
  {
   "cell_type": "code",
   "execution_count": 13,
   "metadata": {
    "collapsed": false
   },
   "outputs": [
    {
     "name": "stdout",
     "output_type": "stream",
     "text": [
      "Help on function vinv in module qttpdesolver.utils.general:\n",
      "\n",
      "vinv(x, eps=1e-08, tau=None, x0=None, abs_val=False, name='Unknown vector', verb=False)\n",
      "    For a given vector x calculate 1/x or 1/|x|.\n",
      "\n",
      "[ 1.          0.5         0.33333333  0.25        0.2         0.16666667\n",
      "  0.14285714  0.125       0.11111111  0.1         0.09090909  0.08333333\n",
      "  0.07692308  0.07142857  0.06666667  0.0625      0.05882353  0.05555556\n",
      "  0.05263158  0.05        0.04761905  0.04545455  0.04347826  0.04166667\n",
      "  0.04        0.03846154  0.03703704  0.03571429  0.03448276  0.03333333\n",
      "  0.03225806  0.03125   ]\n",
      "[ 1.          0.5         0.33333333  0.25        0.2         0.16666667\n",
      "  0.14285714  0.125       0.11111111  0.1         0.09090909  0.08333333\n",
      "  0.07692308  0.07142857  0.06666667  0.0625      0.05882353  0.05555556\n",
      "  0.05263158  0.05        0.04761905  0.04545455  0.04347826  0.04166667\n",
      "  0.04        0.03846154  0.03703704  0.03571429  0.03448276  0.03333333\n",
      "  0.03225806  0.03125   ]\n",
      "  Construction of inverse for Unknown vector\n",
      "=multifuncrs= sweep 1{2}, max_dy: 4.387e+01, erank: 3.4641\n",
      "=multifuncrs= sweep 2{1}, max_dy: 5.519e-16, erank: 3.87298\n",
      "[ 1.          0.5         0.33333333  0.25        0.2         0.16666667\n",
      "  0.14285714  0.125       0.11111111  0.1         0.09090909  0.08333333\n",
      "  0.07692308  0.07142857  0.06666667  0.0625      0.05882353  0.05555556\n",
      "  0.05263158  0.05        0.04761905  0.04545455  0.04347826  0.04166667\n",
      "  0.04        0.03846154  0.03703704  0.03571429  0.03448276  0.03333333\n",
      "  0.03225806  0.03125   ]\n",
      "  Construction of inverse for My vector\n",
      "=multifuncrs= sweep 1{2}, max_dy: 4.387e+01, erank: 3.4641\n",
      "=multifuncrs= sweep 2{1}, max_dy: 5.950e-16, erank: 3.87298\n",
      "[ 1.          0.5         0.33333333  0.25        0.2         0.16666667\n",
      "  0.14285714  0.125       0.11111111  0.1         0.09090909  0.08333333\n",
      "  0.07692308  0.07142857  0.06666667  0.0625      0.05882353  0.05555556\n",
      "  0.05263158  0.05        0.04761905  0.04545455  0.04347826  0.04166667\n",
      "  0.04        0.03846154  0.03703704  0.03571429  0.03448276  0.03333333\n",
      "  0.03225806  0.03125   ]\n"
     ]
    }
   ],
   "source": [
    "help(vinv)\n",
    "eps = tau\n",
    "print vinv(x, eps, tau)\n",
    "print vinv(-x, abs_val=True)\n",
    "print vinv(x_tt, eps, tau, verb=True).full().flatten('F')\n",
    "print vinv(x_tt, eps, tau, x0=x_tt, verb=True, name='My vector').full().flatten('F')"
   ]
  },
  {
   "cell_type": "code",
   "execution_count": null,
   "metadata": {
    "collapsed": true
   },
   "outputs": [],
   "source": []
  }
 ],
 "metadata": {
  "kernelspec": {
   "display_name": "Python 2",
   "language": "python",
   "name": "python2"
  },
  "language_info": {
   "codemirror_mode": {
    "name": "ipython",
    "version": 2
   },
   "file_extension": ".py",
   "mimetype": "text/x-python",
   "name": "python",
   "nbconvert_exporter": "python",
   "pygments_lexer": "ipython2",
   "version": "2.7.11"
  }
 },
 "nbformat": 4,
 "nbformat_minor": 0
}
