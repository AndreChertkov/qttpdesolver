{
 "cells": [
  {
   "cell_type": "markdown",
   "metadata": {},
   "source": [
    "# Examples for functions from utils.transform2mesh module."
   ]
  },
  {
   "cell_type": "code",
   "execution_count": 1,
   "metadata": {
    "collapsed": false
   },
   "outputs": [],
   "source": [
    "import numpy as np\n",
    "from numpy.linalg import norm\n",
    "import time\n",
    "\n",
    "import tt\n",
    "\n",
    "from qttpdesolver.utils.transform2mesh import transform2finer\n",
    "from qttpdesolver.utils.transform2mesh import transform2coarser"
   ]
  },
  {
   "cell_type": "markdown",
   "metadata": {},
   "source": [
    "# 1D case: finer"
   ]
  },
  {
   "cell_type": "code",
   "execution_count": 2,
   "metadata": {
    "collapsed": false
   },
   "outputs": [
    {
     "name": "stdout",
     "output_type": "stream",
     "text": [
      "Help on function transform2finer in module qttpdesolver.utils.transform2mesh:\n",
      "\n",
      "transform2finer(x, dim, tau=None, reps=1)\n",
      "    Transform a given vector x of size N=2^{d*dim}, that is assumed to be\n",
      "    defined on appropriate spatial grid, to a finer grid with\n",
      "    N1=2^{(d+1)*dim} nodes. The transformation is repeated reps-times.\n",
      "\n",
      "[   5.    2.    3.   18.    5.    6.    7.  100.]\n",
      "[   2.5    5.     3.5    2.     2.5    3.    10.5   18.    11.5    5.\n",
      "    5.5    6.     6.5    7.    53.5  100. ]\n",
      "[  2.5   5.    3.5   2.    2.5   3.   10.5  18.   11.5   5.    5.5   6.\n",
      "   6.5   7.   53.5 100. ]\n",
      "[   1.25    2.5     3.75    5.      4.25    3.5     2.75    2.      2.25\n",
      "    2.5     2.75    3.      6.75   10.5    14.25   18.     14.75   11.5\n",
      "    8.25    5.      5.25    5.5     5.75    6.      6.25    6.5     6.75\n",
      "    7.     30.25   53.5    76.75  100.  ]\n"
     ]
    }
   ],
   "source": [
    "d = 3; n = 2**d; dim = 1; tau = 1.E-8\n",
    "x = np.arange(n)+1.; x[0] = 5.; x[3] = 18.; x[7] = 100.\n",
    "x_tt = tt.tensor(x.reshape([2]*(d*dim), order='F'), tau)\n",
    "\n",
    "help(transform2finer)\n",
    "print x\n",
    "print transform2finer(x, 1, tau, reps=1)\n",
    "print transform2finer(x_tt, 1, tau).full().flatten('F')\n",
    "\n",
    "print transform2finer(x, 1, reps=2)"
   ]
  },
  {
   "cell_type": "code",
   "execution_count": 3,
   "metadata": {
    "collapsed": false
   },
   "outputs": [
    {
     "name": "stdout",
     "output_type": "stream",
     "text": [
      "Total time for d=30: 0.0163  \n"
     ]
    }
   ],
   "source": [
    "d = 30; n = 2**d; dim = 1; tau = 1.E-8\n",
    "\n",
    "x_tt = tt.xfun(2, d)\n",
    "\n",
    "_t = time.time()\n",
    "res = transform2finer(x_tt, dim, tau)\n",
    "print 'Total time for d=%-2d: %-8.4f'%(d, time.time()-_t)"
   ]
  },
  {
   "cell_type": "markdown",
   "metadata": {},
   "source": [
    "# 1D case: coarser"
   ]
  },
  {
   "cell_type": "code",
   "execution_count": 4,
   "metadata": {
    "collapsed": false
   },
   "outputs": [
    {
     "name": "stdout",
     "output_type": "stream",
     "text": [
      "Help on function transform2coarser in module qttpdesolver.utils.transform2mesh:\n",
      "\n",
      "transform2coarser(x, dim, tau=None, reps=1)\n",
      "    Transform a given vector x of size N=2^{d*dim}, that is assumed to be\n",
      "    defined on appropriate spatial grid, to a coarser grid with\n",
      "    N1=2^{(d-1)*dim} nodes. The transformation is repeated reps-times.\n",
      "\n",
      "[   5.    2.    3.   18.    5.    6.    7.  100.    9.   10.   11.   12.\n",
      "   13.   14.   15.   16.]\n",
      "[   2.   18.    6.  100.   10.   12.   14.   16.]\n",
      "[   2.   18.    6.  100.   10.   12.   14.   16.]\n",
      "[  18.  100.   12.   16.]\n"
     ]
    }
   ],
   "source": [
    "d = 4; n = 2**d; dim = 1; tau = 1.E-8\n",
    "x = np.arange(n)+1.; x[0] = 5.; x[3] = 18.; x[7] = 100.\n",
    "x_tt = tt.tensor(x.reshape([2]*(d*dim), order='F'), tau)\n",
    "\n",
    "help(transform2coarser)\n",
    "print x\n",
    "print transform2coarser(x, 1, tau, reps=1)\n",
    "print transform2coarser(x_tt, 1, tau).full().flatten('F')\n",
    "\n",
    "print transform2coarser(x, 1, reps=2)"
   ]
  },
  {
   "cell_type": "code",
   "execution_count": 5,
   "metadata": {
    "collapsed": false
   },
   "outputs": [
    {
     "name": "stdout",
     "output_type": "stream",
     "text": [
      "Total time for d=30: 0.0020  \n"
     ]
    }
   ],
   "source": [
    "d = 30; n = 2**d; dim = 1; tau = 1.E-8\n",
    "\n",
    "x_tt = tt.xfun(2, d)\n",
    "\n",
    "_t = time.time()\n",
    "res = transform2coarser(x_tt, dim, tau)\n",
    "print 'Total time for d=%-2d: %-8.4f'%(d, time.time()-_t)"
   ]
  },
  {
   "cell_type": "markdown",
   "metadata": {},
   "source": [
    "# 2D case: finer"
   ]
  },
  {
   "cell_type": "code",
   "execution_count": 9,
   "metadata": {
    "collapsed": false
   },
   "outputs": [
    {
     "name": "stdout",
     "output_type": "stream",
     "text": [
      "Help on function transform2finer in module qttpdesolver.utils.transform2mesh:\n",
      "\n",
      "transform2finer(x, dim, tau=None, reps=1)\n",
      "    Transform a given vector x of size N=2^{d*dim}, that is assumed to be\n",
      "    defined on appropriate spatial grid, to a finer grid with\n",
      "    N1=2^{(d+1)*dim} nodes. The transformation is repeated reps-times.\n",
      "\n",
      "[   5.    2.    3.   18.    5.    6.    7.  100.    9.   10.   11.   12.\n",
      "   13.   14.   15.   16.]\n",
      "[   1.25    2.5     1.75    1.      1.25    1.5     5.25    9.      2.5\n",
      "    5.      3.5     2.      2.5     3.     10.5    18.      2.5     5.\n",
      "    4.5     4.      4.5     5.     32.     59.      2.5     5.      5.5\n",
      "    6.      6.5     7.     53.5   100.      3.5     7.      7.5     8.\n",
      "    8.5     9.     32.5    56.      4.5     9.      9.5    10.     10.5\n",
      "   11.     11.5    12.      5.5    11.     11.5    12.     12.5    13.\n",
      "   13.5    14.      6.5    13.     13.5    14.     14.5    15.     15.5\n",
      "   16.  ]\n",
      "[[  13.   14.   15.   16.]\n",
      " [   9.   10.   11.   12.]\n",
      " [   5.    6.    7.  100.]\n",
      " [   5.    2.    3.   18.]]\n",
      "[[   6.5    13.     13.5    14.     14.5    15.     15.5    16.  ]\n",
      " [   5.5    11.     11.5    12.     12.5    13.     13.5    14.  ]\n",
      " [   4.5     9.      9.5    10.     10.5    11.     11.5    12.  ]\n",
      " [   3.5     7.      7.5     8.      8.5     9.     32.5    56.  ]\n",
      " [   2.5     5.      5.5     6.      6.5     7.     53.5   100.  ]\n",
      " [   2.5     5.      4.5     4.      4.5     5.     32.     59.  ]\n",
      " [   2.5     5.      3.5     2.      2.5     3.     10.5    18.  ]\n",
      " [   1.25    2.5     1.75    1.      1.25    1.5     5.25    9.  ]]\n",
      "[[   6.5    13.     13.5    14.     14.5    15.     15.5    16.  ]\n",
      " [   5.5    11.     11.5    12.     12.5    13.     13.5    14.  ]\n",
      " [   4.5     9.      9.5    10.     10.5    11.     11.5    12.  ]\n",
      " [   3.5     7.      7.5     8.      8.5     9.     32.5    56.  ]\n",
      " [   2.5     5.      5.5     6.      6.5     7.     53.5   100.  ]\n",
      " [   2.5     5.      4.5     4.      4.5     5.     32.     59.  ]\n",
      " [   2.5     5.      3.5     2.      2.5     3.     10.5    18.  ]\n",
      " [   1.25    2.5     1.75    1.      1.25    1.5     5.25    9.  ]]\n",
      "[[   3.25      6.5       9.75     13.       13.25     13.5      13.75     14.\n",
      "    14.25     14.5      14.75     15.       15.25     15.5      15.75     16.    ]\n",
      " [   3.        6.        9.       12.       12.25     12.5      12.75     13.\n",
      "    13.25     13.5      13.75     14.       14.25     14.5      14.75     15.    ]\n",
      " [   2.75      5.5       8.25     11.       11.25     11.5      11.75     12.\n",
      "    12.25     12.5      12.75     13.       13.25     13.5      13.75     14.    ]\n",
      " [   2.5       5.        7.5      10.       10.25     10.5      10.75     11.\n",
      "    11.25     11.5      11.75     12.       12.25     12.5      12.75     13.    ]\n",
      " [   2.25      4.5       6.75      9.        9.25      9.5       9.75     10.\n",
      "    10.25     10.5      10.75     11.       11.25     11.5      11.75     12.    ]\n",
      " [   2.        4.        6.        8.        8.25      8.5       8.75      9.\n",
      "     9.25      9.5       9.75     10.       16.       22.       28.       34.    ]\n",
      " [   1.75      3.5       5.25      7.        7.25      7.5       7.75      8.\n",
      "     8.25      8.5       8.75      9.       20.75     32.5      44.25     56.    ]\n",
      " [   1.5       3.        4.5       6.        6.25      6.5       6.75      7.\n",
      "     7.25      7.5       7.75      8.       25.5      43.       60.5      78.    ]\n",
      " [   1.25      2.5       3.75      5.        5.25      5.5       5.75      6.\n",
      "     6.25      6.5       6.75      7.       30.25     53.5      76.75    100.    ]\n",
      " [   1.25      2.5       3.75      5.        5.        5.        5.        5.\n",
      "     5.25      5.5       5.75      6.       24.375    42.75     61.125\n",
      "    79.5   ]\n",
      " [   1.25      2.5       3.75      5.        4.75      4.5       4.25      4.\n",
      "     4.25      4.5       4.75      5.       18.5      32.       45.5      59.    ]\n",
      " [   1.25      2.5       3.75      5.        4.5       4.        3.5       3.\n",
      "     3.25      3.5       3.75      4.       12.625    21.25     29.875\n",
      "    38.5   ]\n",
      " [   1.25      2.5       3.75      5.        4.25      3.5       2.75      2.\n",
      "     2.25      2.5       2.75      3.        6.75     10.5      14.25     18.    ]\n",
      " [   0.9375    1.875     2.8125    3.75      3.1875    2.625     2.0625\n",
      "     1.5       1.6875    1.875     2.0625    2.25      5.0625    7.875\n",
      "    10.6875   13.5   ]\n",
      " [   0.625     1.25      1.875     2.5       2.125     1.75      1.375\n",
      "     1.        1.125     1.25      1.375     1.5       3.375     5.25\n",
      "     7.125     9.    ]\n",
      " [   0.3125    0.625     0.9375    1.25      1.0625    0.875     0.6875\n",
      "     0.5       0.5625    0.625     0.6875    0.75      1.6875    2.625\n",
      "     3.5625    4.5   ]]\n"
     ]
    }
   ],
   "source": [
    "d = 2; n = 2**d; dim = 2; tau = 1.E-8\n",
    "x = np.arange(n*n)+1.; x[0] = 5.; x[3] = 18.; x[7] = 100.\n",
    "x_tt = tt.tensor(x.reshape([2]*(d*dim), order='F'), tau)\n",
    "\n",
    "help(transform2finer)\n",
    "print x\n",
    "print transform2finer(x, 2, reps=1)\n",
    "\n",
    "print x.reshape((n, n), order='F').T[::-1, :]\n",
    "print transform2finer(x, 2, tau, reps=1).reshape((2*n, 2*n), order='F').T[::-1, :]\n",
    "print transform2finer(x_tt, 2, tau).full().flatten('F').reshape((2*n, 2*n), order='F').T[::-1, :]\n",
    "\n",
    "print transform2finer(x, 2, reps=2).reshape((4*n, 4*n), order='F').T[::-1, :]"
   ]
  },
  {
   "cell_type": "code",
   "execution_count": 10,
   "metadata": {
    "collapsed": false
   },
   "outputs": [
    {
     "name": "stdout",
     "output_type": "stream",
     "text": [
      "Total time for d=30: 0.0326  \n"
     ]
    }
   ],
   "source": [
    "d = 30; n = 2**d; dim = 2; tau = 1.E-8\n",
    "\n",
    "x_tt = tt.xfun(2, 2*d)\n",
    "\n",
    "_t = time.time()\n",
    "res = transform2finer(x_tt, dim, tau)\n",
    "print 'Total time for d=%-2d: %-8.4f'%(d, time.time()-_t)"
   ]
  },
  {
   "cell_type": "markdown",
   "metadata": {
    "collapsed": true
   },
   "source": [
    "# 2D case: coarser"
   ]
  },
  {
   "cell_type": "code",
   "execution_count": 14,
   "metadata": {
    "collapsed": false
   },
   "outputs": [
    {
     "name": "stdout",
     "output_type": "stream",
     "text": [
      "Help on function transform2coarser in module qttpdesolver.utils.transform2mesh:\n",
      "\n",
      "transform2coarser(x, dim, tau=None, reps=1)\n",
      "    Transform a given vector x of size N=2^{d*dim}, that is assumed to be\n",
      "    defined on appropriate spatial grid, to a coarser grid with\n",
      "    N1=2^{(d-1)*dim} nodes. The transformation is repeated reps-times.\n",
      "\n",
      "[[  57.   58.   59.   60.   61.   62.   63.   64.]\n",
      " [  49.   50.   51.   52.   53.   54.   55.   56.]\n",
      " [  41.   42.   43.   44.   45.   46.   47.   48.]\n",
      " [  33.   34.   35.   36.   37.   38.   39.   40.]\n",
      " [  25.   26.   27.   28.   29.   30.   31.   32.]\n",
      " [  17.   18.   19.   20.   21.   22.   23.   24.]\n",
      " [   9.   10.   11.   12.   13.   14.   15.   16.]\n",
      " [   5.    2.    3.   18.    5.    6.    7.  100.]]\n",
      "[[ 58.  60.  62.  64.]\n",
      " [ 42.  44.  46.  48.]\n",
      " [ 26.  28.  30.  32.]\n",
      " [ 10.  12.  14.  16.]]\n",
      "[[ 58.  60.  62.  64.]\n",
      " [ 42.  44.  46.  48.]\n",
      " [ 26.  28.  30.  32.]\n",
      " [ 10.  12.  14.  16.]]\n",
      "[[ 60.  64.]\n",
      " [ 28.  32.]]\n",
      "[[ 64.]]\n"
     ]
    }
   ],
   "source": [
    "d = 3; n = 2**d; dim = 2; tau = 1.E-8\n",
    "x = np.arange(n*n)+1.; x[0] = 5.; x[3] = 18.; x[7] = 100.\n",
    "x_tt = tt.tensor(x.reshape([2]*(d*dim), order='F'), tau)\n",
    "\n",
    "help(transform2coarser)\n",
    "print x.reshape((n, n), order='F').T[::-1, :]\n",
    "print transform2coarser(x, 2, tau, reps=1).reshape((n/2, n/2), order='F').T[::-1, :]\n",
    "print transform2coarser(x_tt, 2, tau).full().flatten('F').reshape((n/2, n/2), order='F').T[::-1, :]\n",
    "\n",
    "print transform2coarser(x, 2, reps=2).reshape((n/4, n/4), order='F').T[::-1, :]\n",
    "\n",
    "print transform2coarser(x, 2, reps=3).reshape((n/8, n/8), order='F').T[::-1, :]"
   ]
  },
  {
   "cell_type": "code",
   "execution_count": 15,
   "metadata": {
    "collapsed": false
   },
   "outputs": [
    {
     "name": "stdout",
     "output_type": "stream",
     "text": [
      "Total time for d=30: 0.0028  \n"
     ]
    }
   ],
   "source": [
    "d = 30; n = 2**d; dim = 2; tau = 1.E-8\n",
    "\n",
    "x_tt = tt.xfun(2, 2*d)\n",
    "\n",
    "_t = time.time()\n",
    "res = transform2coarser(x_tt, dim, tau)\n",
    "print 'Total time for d=%-2d: %-8.4f'%(d, time.time()-_t)"
   ]
  },
  {
   "cell_type": "markdown",
   "metadata": {
    "collapsed": true
   },
   "source": [
    "# Composition:"
   ]
  },
  {
   "cell_type": "code",
   "execution_count": 16,
   "metadata": {
    "collapsed": false
   },
   "outputs": [
    {
     "name": "stdout",
     "output_type": "stream",
     "text": [
      "[[  57.   58.   59.   60.   61.   62.   63.   64.]\n",
      " [  49.   50.   51.   52.   53.   54.   55.   56.]\n",
      " [  41.   42.   43.   44.   45.   46.   47.   48.]\n",
      " [  33.   34.   35.   36.   37.   38.   39.   40.]\n",
      " [  25.   26.   27.   28.   29.   30.   31.   32.]\n",
      " [  17.   18.   19.   20.   21.   22.   23.   24.]\n",
      " [   9.   10.   11.   12.   13.   14.   15.   16.]\n",
      " [   5.    2.    3.   18.    5.    6.    7.  100.]]\n",
      "[[ 58.  60.  62.  64.]\n",
      " [ 42.  44.  46.  48.]\n",
      " [ 26.  28.  30.  32.]\n",
      " [ 10.  12.  14.  16.]]\n",
      "[[ 29.   58.   59.   60.   61.   62.   63.   64. ]\n",
      " [ 25.   50.   51.   52.   53.   54.   55.   56. ]\n",
      " [ 21.   42.   43.   44.   45.   46.   47.   48. ]\n",
      " [ 17.   34.   35.   36.   37.   38.   39.   40. ]\n",
      " [ 13.   26.   27.   28.   29.   30.   31.   32. ]\n",
      " [  9.   18.   19.   20.   21.   22.   23.   24. ]\n",
      " [  5.   10.   11.   12.   13.   14.   15.   16. ]\n",
      " [  2.5   5.    5.5   6.    6.5   7.    7.5   8. ]]\n"
     ]
    }
   ],
   "source": [
    "d = 3; n = 2**d; dim = 2; tau = 1.E-8\n",
    "x = np.arange(n*n)+1.; x[0] = 5.; x[3] = 18.; x[7] = 100.\n",
    "\n",
    "print x.reshape((n, n), order='F').T[::-1, :]\n",
    "xc = transform2coarser(x, 2, tau, reps=1)\n",
    "print xc.reshape((n/2, n/2), order='F').T[::-1, :]\n",
    "xf = transform2finer(xc, 2, tau, reps=1)\n",
    "print xf.reshape((n, n), order='F').T[::-1, :]"
   ]
  }
 ],
 "metadata": {
  "kernelspec": {
   "display_name": "Python 2",
   "language": "python",
   "name": "python2"
  },
  "language_info": {
   "codemirror_mode": {
    "name": "ipython",
    "version": 2
   },
   "file_extension": ".py",
   "mimetype": "text/x-python",
   "name": "python",
   "nbconvert_exporter": "python",
   "pygments_lexer": "ipython2",
   "version": "2.7.11"
  }
 },
 "nbformat": 4,
 "nbformat_minor": 0
}
