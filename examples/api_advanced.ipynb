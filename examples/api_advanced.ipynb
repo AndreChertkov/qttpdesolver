{
 "cells": [
  {
   "cell_type": "markdown",
   "metadata": {},
   "source": [
    "# Advanced API for qttpdesolver package.\n",
    "\n",
    "We consider various examples of qttpdesolver usage (see api_basic.ipynb first)."
   ]
  },
  {
   "cell_type": "code",
   "execution_count": 1,
   "metadata": {
    "collapsed": true
   },
   "outputs": [],
   "source": [
    "%matplotlib inline\n",
    "import numpy as np\n",
    "\n",
    "from qttpdesolver import Pde, auto_solve, MODE_NP, MODE_TT, MODE_SP"
   ]
  },
  {
   "cell_type": "markdown",
   "metadata": {},
   "source": [
    "### 1D Solvers and modes comparison:\n",
    "\n",
    "we solve 1D stationary diffusion PDE with known analytical solution with different combinations of solvers and modes."
   ]
  },
  {
   "cell_type": "code",
   "execution_count": 2,
   "metadata": {
    "collapsed": false
   },
   "outputs": [
    {
     "name": "stdout",
     "output_type": "stream",
     "text": [
      "d=4 |fs-np|er=1.3e-02 |erdx=6.7e-03 |ere=1.3e-02 |T=0.443  \n",
      "d=4 |fs-tt|er=1.3e-02 |erdx=6.7e-03 |ere=1.3e-02 |T=0.045  |R=2.7  \n",
      "\n",
      "d=4 |fd-np|er=1.3e-02 |erdx=6.7e-03 |ere=1.3e-02 |T=0.004  \n",
      "d=4 |fd-tt|er=1.3e-02 |erdx=6.7e-03 |ere=1.3e-02 |T=0.061  |R=2.7  |It=2 \n",
      "d=4 |fd-sp|er=1.3e-02 |erdx=6.7e-03 |ere=1.3e-02 |T=0.007  \n",
      "\n",
      "d=9 |fs-np|er=1.3e-05 |erdx=6.5e-06 |ere=1.3e-05 |T=0.011  \n",
      "d=9 |fs-tt|er=1.3e-05 |erdx=6.5e-06 |ere=1.3e-05 |T=0.115  |R=3.1  \n",
      "\n",
      "d=9 |fd-np|er=1.3e-05 |erdx=6.5e-06 |ere=1.3e-05 |T=0.804  \n",
      "d=9 |fd-tt|er=1.3e-05 |erdx=6.7e-06 |ere=1.2e-05 |T=0.134  |R=2.0  |It=2 \n",
      "d=9 |fd-sp|er=1.3e-05 |erdx=6.5e-06 |ere=1.3e-05 |T=0.008  \n",
      "\n",
      "d=12|fs-tt|er=2.0e-07 |erdx=1.0e-07 |ere=2.0e-07 |T=0.188  |R=2.4  \n",
      "\n",
      "d=12|fd-tt|er=2.0e-07 |erdx=3.4e-07 |ere=1.8e-07 |T=0.171  |R=1.9  |It=2 \n",
      "\n",
      "d=20|fs-tt|er=3.1e-12 |erdx=4.6e-11 |ere=1.6e-12 |T=0.271  |R=2.0  \n",
      "\n",
      "d=20|fd-tt|er=4.5e-05 |erdx=1.4e-04 |ere=8.1e-05 |T=8.462  |R=2.1  |It=20\n",
      "\n"
     ]
    }
   ],
   "source": [
    "PDE = Pde()\n",
    "PDE.set_model('Simple. Analyt 1D diffusion PDE')\n",
    "PDE.set_params([np.pi*2])\n",
    "\n",
    "PDE.set_with_en(True)       \n",
    "PDE.set_tau(tau_round=1.E-10,\n",
    "            tau_cross=1.E-10,\n",
    "            tau_amens=1.E-6)\n",
    "PDE.set_algss_par(nswp=20, kickrank=4, local_prec='n', local_iters=2,\n",
    "                  local_restart=20, trunc_norm=1, max_full_size=100,\n",
    "                  tau_u_calc_from_algss=True)\n",
    "PDE.set_verb(False, False, False)\n",
    "\n",
    "for d in [4, 9, 12, 20]:\n",
    "    for solver in ['fs', 'fd']:\n",
    "        for mode in [MODE_NP, MODE_TT, MODE_SP]:\n",
    "            if d>10 and mode!=MODE_TT:\n",
    "                continue\n",
    "            if solver=='fs' and mode==MODE_SP:\n",
    "                continue\n",
    "            PDE.set_solver_txt(solver) \n",
    "            PDE.set_mode(mode) \n",
    "            PDE.update_d(d)\n",
    "            PDESolver = auto_solve(PDE, return_solver=True)\n",
    "        print"
   ]
  },
  {
   "cell_type": "markdown",
   "metadata": {},
   "source": [
    "### 2D Solvers and modes comparison:\n",
    "\n",
    "we solve 2D stationary diffusion PDE with known analytical solution with different combinations of solvers and modes."
   ]
  },
  {
   "cell_type": "code",
   "execution_count": 5,
   "metadata": {
    "collapsed": false
   },
   "outputs": [
    {
     "name": "stdout",
     "output_type": "stream",
     "text": [
      "d=3 |fs-np|er=4.4e-02 |erdx=3.9e-01 |erdy=2.8e-01 |ere=1.7e-02 |T=0.006  \n",
      "d=3 |fs-tt|er=4.4e-02 |erdx=3.9e-01 |erdy=2.8e-01 |ere=1.7e-02 |T=0.200  |R=3.4  |It=2 \n",
      "\n",
      "d=3 |fd-np|er=4.4e-02 |erdx=3.9e-01 |erdy=2.8e-01 |ere=1.7e-02 |T=0.021  \n",
      "d=3 |fd-tt|er=4.4e-02 |erdx=3.9e-01 |erdy=2.8e-01 |ere=1.7e-02 |T=0.138  |R=3.4  |It=2 \n",
      "d=3 |fd-sp|er=4.4e-02 |erdx=3.9e-01 |erdy=2.8e-01 |ere=1.7e-02 |T=0.042  \n",
      "\n",
      "d=8 |fs-tt|er=4.2e-05 |erdx=1.2e-02 |erdy=8.0e-03 |ere=7.1e-04 |T=2.109  |R=4.2  |It=2 \n",
      "\n",
      "d=8 |fd-tt|er=4.2e-05 |erdx=1.2e-02 |erdy=8.0e-03 |ere=7.1e-04 |T=0.652  |R=3.3  |It=7 \n",
      "\n",
      "d=12|fs-tt|er=3.1e-07 |erdx=7.7e-04 |erdy=5.0e-04 |ere=4.7e-05 |T=3.512  |R=4.0  |It=2 \n",
      "\n",
      "d=12|fd-tt|er=4.9e-04 |erdx=1.3e-02 |erdy=1.6e-02 |ere=2.4e-04 |T=5.346  |R=4.6  |It=20\n",
      "\n",
      "d=14|fs-tt|er=2.5e-07 |erdx=1.9e-04 |erdy=1.2e-04 |ere=1.2e-05 |T=4.200  |R=4.2  |It=2 \n",
      "\n",
      "\n"
     ]
    }
   ],
   "source": [
    "PDE = Pde()\n",
    "PDE.set_model('Simple. Analyt 2D diffusion PDE')\n",
    "PDE.set_params([np.pi, np.pi*2])\n",
    "\n",
    "PDE.set_with_en(True)       \n",
    "PDE.set_tau(tau_round=1.E-10,\n",
    "            tau_cross=1.E-10,\n",
    "            tau_amens=1.E-6)\n",
    "PDE.set_algss_par(nswp=20, kickrank=4, local_prec='n', local_iters=2,\n",
    "                  local_restart=20, trunc_norm=1, max_full_size=100,\n",
    "                  tau_u_calc_from_algss=True)\n",
    "PDE.set_verb(False, False, False)\n",
    "\n",
    "for d in [3, 8, 12, 14]:\n",
    "    for solver in ['fs', 'fd']:\n",
    "        for mode in [MODE_NP, MODE_TT, MODE_SP]:\n",
    "            if d>3 and mode!=MODE_TT:\n",
    "                continue\n",
    "            if d>12 and solver!='fs':\n",
    "                continue\n",
    "            if solver=='fs' and mode==MODE_SP:\n",
    "                continue\n",
    "            PDE.set_solver_txt(solver) \n",
    "            PDE.set_mode(mode) \n",
    "            PDE.update_d(d)\n",
    "            PDESolver = auto_solve(PDE, return_solver=True)\n",
    "        print"
   ]
  },
  {
   "cell_type": "markdown",
   "metadata": {},
   "source": [
    "### 3D Solvers and modes comparison:\n",
    "\n",
    "we solve 2D stationary diffusion PDE with known analytical solution with different combinations of solvers and modes.\n",
    "\n",
    "# Solvers for 3D case are under development now !!"
   ]
  },
  {
   "cell_type": "code",
   "execution_count": 4,
   "metadata": {
    "collapsed": false
   },
   "outputs": [
    {
     "name": "stdout",
     "output_type": "stream",
     "text": [
      "d=3 |fs-np|er=1.1e-01 |erdx=7.9e-01 |erdy=7.0e-01 |erdz=6.5e-01 |ere=6.1e-02 |T=4.337  \n",
      "d=3 |fs-tt|er=1.1e-01 |erdx=7.9e-01 |erdy=7.0e-01 |erdz=6.5e-01 |ere=6.1e-02 |T=1.391  |R=7.5  |It=4 \n",
      "\n",
      "d=3 |fd-np|er=1.1e-01 |erdx=7.9e-01 |erdy=7.0e-01 |erdz=6.5e-01 |ere=6.1e-02 |T=1.436  \n",
      "d=3 |fd-tt|er=1.1e-01 |erdx=7.9e-01 |erdy=7.0e-01 |erdz=6.5e-01 |ere=6.1e-02 |T=0.352  |R=6.6  |It=3 \n",
      "d=3 |fd-sp|er=1.1e-01 |erdx=7.9e-01 |erdy=7.0e-01 |erdz=6.5e-01 |ere=6.1e-02 |T=0.053  \n",
      "\n",
      "d=5 |fs-tt|er=6.5e-03 |erdx=1.9e-01 |erdy=1.7e-01 |erdz=1.5e-01 |ere=1.2e-03 |T=17.028 |R=11.3 |It=5 \n",
      "\n",
      "d=5 |fd-tt|er=6.5e-03 |erdx=1.9e-01 |erdy=1.7e-01 |erdz=1.5e-01 |ere=1.2e-03 |T=0.742  |R=7.6  |It=4 \n",
      "\n",
      "d=7 |fs-tt|er=4.1e-04 |erdx=4.8e-02 |erdy=4.3e-02 |erdz=3.8e-02 |ere=1.5e-03 |T=76.404 |R=13.7 |It=5 \n",
      "\n",
      "d=7 |fd-tt|er=4.1e-04 |erdx=4.8e-02 |erdy=4.3e-02 |erdz=3.8e-02 |ere=1.5e-03 |T=1.286  |R=5.3  |It=4 \n",
      "\n"
     ]
    }
   ],
   "source": [
    "PDE = Pde()\n",
    "PDE.set_model('Simple. Analyt 3D diffusion PDE')\n",
    "PDE.set_params([np.pi, np.pi*2, np.pi*3])\n",
    "\n",
    "PDE.set_with_en(True)       \n",
    "PDE.set_tau(tau_round=1.E-10,\n",
    "            tau_cross=1.E-10,\n",
    "            tau_amens=1.E-6)\n",
    "PDE.set_algss_par(nswp=20, kickrank=4, local_prec='n', local_iters=2,\n",
    "                  local_restart=20, trunc_norm=1, max_full_size=100,\n",
    "                  tau_u_calc_from_algss=True)\n",
    "PDE.set_verb(False, False, False)\n",
    "\n",
    "for d in [3, 5, 7]:\n",
    "    for solver in ['fs', 'fd']:\n",
    "        for mode in [MODE_NP, MODE_TT, MODE_SP]:\n",
    "            if d>3 and mode!=MODE_TT:\n",
    "                continue\n",
    "            if solver=='fs' and mode==MODE_SP:\n",
    "                continue\n",
    "            PDE.set_solver_txt(solver) \n",
    "            PDE.set_mode(mode) \n",
    "            PDE.update_d(d)\n",
    "            PDESolver = auto_solve(PDE, return_solver=True)\n",
    "        print"
   ]
  },
  {
   "cell_type": "code",
   "execution_count": null,
   "metadata": {
    "collapsed": true
   },
   "outputs": [],
   "source": []
  }
 ],
 "metadata": {
  "kernelspec": {
   "display_name": "Python 2",
   "language": "python",
   "name": "python2"
  },
  "language_info": {
   "codemirror_mode": {
    "name": "ipython",
    "version": 2
   },
   "file_extension": ".py",
   "mimetype": "text/x-python",
   "name": "python",
   "nbconvert_exporter": "python",
   "pygments_lexer": "ipython2",
   "version": "2.7.11"
  }
 },
 "nbformat": 4,
 "nbformat_minor": 0
}
