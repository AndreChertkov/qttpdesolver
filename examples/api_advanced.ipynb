{
 "cells": [
  {
   "cell_type": "markdown",
   "metadata": {},
   "source": [
    "# Advanced API for qttpdesolver package.\n",
    "\n",
    "We consider various examples of qttpdesolver usage (see api_basic_1d.ipynb, api_basic_2d.ipynb and api_basic_3d.ipynb first)."
   ]
  },
  {
   "cell_type": "code",
   "execution_count": 1,
   "metadata": {
    "collapsed": false
   },
   "outputs": [],
   "source": [
    "%matplotlib inline\n",
    "import numpy as np\n",
    "\n",
    "from qttpdesolver import Pde, create_solver, auto_solve\n",
    "from qttpdesolver import MODE_NP, MODE_TT, MODE_SP, SOLVER_FS, SOLVER_FD"
   ]
  },
  {
   "cell_type": "markdown",
   "metadata": {},
   "source": [
    "### 1D Solvers and modes comparison:\n",
    "\n",
    "we solve 1D stationary diffusion PDE with known analytical solution with different combinations of solvers and modes."
   ]
  },
  {
   "cell_type": "code",
   "execution_count": 2,
   "metadata": {
    "collapsed": false
   },
   "outputs": [
    {
     "name": "stdout",
     "output_type": "stream",
     "text": [
      "------ <  MODE: tt  >  <  Solver: fs  >\n",
      "d= 8|fs-tt|er=5.1e-05 |erdx=2.6e-05 |T=   0.071|R=   4.3\n",
      "d=10|fs-tt|er=3.2e-06 |erdx=1.6e-06 |T=   0.044|R=   3.9\n",
      "d=12|fs-tt|er=2.0e-07 |erdx=1.0e-07 |T=   0.091|R=   3.6\n",
      "d=14|fs-tt|er=1.3e-08 |erdx=6.3e-09 |T=   0.062|R=   3.0\n",
      "d=16|fs-tt|er=7.8e-10 |erdx=4.0e-10 |T=   0.068|R=   2.7\n",
      "d=18|fs-tt|er=4.9e-11 |erdx=2.5e-11 |T=   0.077|R=   2.4\n",
      "d=20|fs-tt|er=3.1e-12 |erdx=1.5e-12 |T=   0.100|R=   2.2\n",
      "d=22|fs-tt|er=1.9e-13 |erdx=9.3e-14 |T=   0.094|R=   2.0\n",
      "------ <  MODE: tt  >  <  Solver: fd  >\n",
      "d= 8|fd-tt|er=5.1e-05 |erdx=2.6e-05 |T=   0.107|R=   4.8|It=20\n",
      "d=10|fd-tt|er=3.2e-06 |erdx=1.6e-06 |T=   0.161|R=   4.6|It=20\n",
      "d=12|fd-tt|er=2.0e-07 |erdx=1.3e-06 |T=   0.248|R=   4.4|It=20\n",
      "d=14|fd-tt|er=5.9e-08 |erdx=2.0e-06 |T=   0.456|R=   5.2|It=20\n",
      "d=16|fd-tt|er=4.2e-07 |erdx=9.0e-04 |T=   0.703|R=   8.1|It=20\n",
      "d=18|fd-tt|er=3.1e-06 |erdx=9.8e-02 |T=   1.691|R=   9.8|It=20\n",
      "d=20|fd-tt|er=3.9e-06 |erdx=7.6e-02 |T=   1.752|R=  14.2|It=20\n",
      "------ <  MODE: sp  >  <  Solver: fd  >\n",
      "d= 8|fd-sp|er=5.1e-05 |erdx=2.6e-05 |T=   0.004\n",
      "d=10|fd-sp|er=3.2e-06 |erdx=1.6e-06 |T=   0.004\n",
      "d=12|fd-sp|er=2.0e-07 |erdx=1.0e-07 |T=   0.006\n",
      "d=14|fd-sp|er=1.3e-08 |erdx=6.3e-09 |T=   0.022\n",
      "d=16|fd-sp|er=8.1e-10 |erdx=4.2e-10 |T=   0.090\n",
      "d=18|fd-sp|er=8.7e-10 |erdx=6.8e-10 |T=   0.639\n",
      "d=20|fd-sp|er=1.7e-08 |erdx=1.3e-08 |T=   1.977\n",
      "------ <  MODE: np  >  <  Solver: fs  >\n",
      "d= 8|fs-np|er=5.1e-05 |erdx=2.6e-05 |T=   0.536\n",
      "d=10|fs-np|er=3.2e-06 |erdx=1.6e-06 |T=   0.009\n",
      "d=12|fs-np|er=2.0e-07 |erdx=1.0e-07 |T=   0.203\n",
      "------ <  MODE: np  >  <  Solver: fd  >\n",
      "d= 8|fd-np|er=5.1e-05 |erdx=2.6e-05 |T=   0.057\n",
      "d=10|fd-np|er=3.2e-06 |erdx=1.6e-06 |T=   0.737\n"
     ]
    }
   ],
   "source": [
    "PDE = Pde()\n",
    "PDE.set_model('Simple. Analyt 1D diffusion PDE')\n",
    "PDE.set_params([np.pi*2])\n",
    "     \n",
    "PDE.set_tau(tau=1.E-14, eps_lss=1.E-14, tau_lss=1.E-14)\n",
    "PDE.set_lss_params(nswp=20, kickrank=4, local_prec='n', local_iters=2,\n",
    "                   local_restart=20, trunc_norm=1, max_full_size=100)\n",
    "PDE.set_verb(False, False, False)\n",
    "\n",
    "d_list = {}\n",
    "d_list[SOLVER_FS] = {MODE_NP: range(8, 13, 2),\n",
    "                     MODE_TT: range(8, 23, 2)}\n",
    "d_list[SOLVER_FD] = {MODE_NP: range(8, 11, 2),\n",
    "                     MODE_TT: range(8, 21, 2),\n",
    "                     MODE_SP: range(8, 21, 2)}\n",
    "for mode in [MODE_TT, MODE_SP, MODE_NP]:\n",
    "    for solver in [SOLVER_FS, SOLVER_FD]:\n",
    "        if solver==SOLVER_FS and mode==MODE_SP:\n",
    "            continue\n",
    "        print '------ <  MODE: %s  >  <  Solver: %s  >'%(mode, solver)\n",
    "        for d in d_list[solver][mode]:\n",
    "            PDE.set_solver_txt(solver) \n",
    "            PDE.set_mode(mode) \n",
    "            PDE.update_d(d)\n",
    "            PDESolver = auto_solve(PDE, return_solver=True)  "
   ]
  },
  {
   "cell_type": "markdown",
   "metadata": {},
   "source": [
    "### 2D Solvers and modes comparison:\n",
    "\n",
    "we solve 2D stationary diffusion PDE with known analytical solution with different combinations of solvers and modes."
   ]
  },
  {
   "cell_type": "code",
   "execution_count": 2,
   "metadata": {
    "collapsed": false
   },
   "outputs": [
    {
     "name": "stdout",
     "output_type": "stream",
     "text": [
      "------ <  MODE: tt  >  <  Solver: fs  >\n",
      "d= 3|fs-tt|er=4.4e-02 |erdx=3.2e-02 |erdy=1.8e-02 |T=   0.128|R=   4.1|It= 2\n",
      "d= 4|fs-tt|er=1.1e-02 |erdx=7.9e-03 |erdy=4.5e-03 |T=   0.174|R=   5.6|It= 3\n",
      "d= 5|fs-tt|er=2.7e-03 |erdx=2.0e-03 |erdy=1.1e-03 |T=   0.281|R=   6.5|It= 3\n",
      "d= 6|fs-tt|er=6.8e-04 |erdx=4.9e-04 |erdy=2.8e-04 |T=   0.458|R=   6.9|It= 3\n",
      "d= 7|fs-tt|er=1.7e-04 |erdx=1.2e-04 |erdy=7.0e-05 |T=   0.781|R=   7.1|It= 4\n",
      "d= 8|fs-tt|er=4.2e-05 |erdx=3.1e-05 |erdy=1.8e-05 |T=   1.029|R=   7.0|It= 3\n",
      "d= 9|fs-tt|er=1.1e-05 |erdx=7.7e-06 |erdy=4.4e-06 |T=   1.333|R=   7.2|It= 3\n",
      "d=10|fs-tt|er=2.6e-06 |erdx=1.9e-06 |erdy=1.1e-06 |T=   1.776|R=   7.1|It= 3\n",
      "d=11|fs-tt|er=6.6e-07 |erdx=4.8e-07 |erdy=2.8e-07 |T=   2.091|R=   6.6|It= 3\n",
      "d=12|fs-tt|er=1.7e-07 |erdx=1.2e-07 |erdy=6.9e-08 |T=   1.951|R=   7.4|It= 3\n",
      "d=13|fs-tt|er=4.1e-08 |erdx=3.0e-08 |erdy=1.7e-08 |T=   1.940|R=   7.3|It= 3\n",
      "d=14|fs-tt|er=1.0e-08 |erdx=8.5e-09 |erdy=5.3e-09 |T=   2.184|R=   7.7|It= 3\n",
      "------ <  MODE: tt  >  <  Solver: fd  >\n",
      "d= 3|fd-tt|er=4.4e-02 |erdx=3.2e-02 |erdy=1.8e-02 |T=   0.042|R=   4.1|It= 3\n",
      "d= 4|fd-tt|er=1.1e-02 |erdx=7.9e-03 |erdy=4.5e-03 |T=   0.072|R=   5.6|It= 4\n",
      "d= 5|fd-tt|er=2.7e-03 |erdx=2.0e-03 |erdy=1.1e-03 |T=   0.114|R=   6.7|It= 4\n",
      "d= 6|fd-tt|er=6.8e-04 |erdx=4.9e-04 |erdy=2.8e-04 |T=   0.135|R=   6.8|It= 6\n",
      "d= 7|fd-tt|er=1.7e-04 |erdx=1.2e-04 |erdy=7.0e-05 |T=   0.263|R=   6.9|It=12\n",
      "d= 8|fd-tt|er=4.2e-05 |erdx=3.1e-05 |erdy=1.8e-05 |T=   0.527|R=   6.5|It=19\n",
      "d= 9|fd-tt|er=1.1e-05 |erdx=7.7e-06 |erdy=4.4e-06 |T=   0.709|R=   6.2|It=20\n",
      "d=10|fd-tt|er=3.8e-06 |erdx=1.1e-05 |erdy=3.1e-06 |T=   0.719|R=  10.3|It=20\n",
      "d=11|fd-tt|er=6.0e-05 |erdx=1.9e-04 |erdy=6.0e-05 |T=   0.947|R=  15.7|It=20\n",
      "d=12|fd-tt|er=9.9e-04 |erdx=2.5e-03 |erdy=1.2e-03 |T=   1.225|R=  19.8|It=20\n",
      "------ <  MODE: sp  >  <  Solver: fd  >\n",
      "d= 3|fd-sp|er=4.4e-02 |erdx=3.2e-02 |erdy=1.8e-02 |T=   0.008\n",
      "d= 4|fd-sp|er=1.1e-02 |erdx=7.9e-03 |erdy=4.5e-03 |T=   0.007\n",
      "d= 5|fd-sp|er=2.7e-03 |erdx=2.0e-03 |erdy=1.1e-03 |T=   0.009\n",
      "d= 6|fd-sp|er=6.8e-04 |erdx=4.9e-04 |erdy=2.8e-04 |T=   0.022\n",
      "d= 7|fd-sp|er=1.7e-04 |erdx=1.2e-04 |erdy=7.0e-05 |T=   0.099\n",
      "d= 8|fd-sp|er=4.2e-05 |erdx=3.1e-05 |erdy=1.8e-05 |T=   0.576\n",
      "d= 9|fd-sp|er=1.1e-05 |erdx=7.7e-06 |erdy=4.4e-06 |T=   4.054\n",
      "------ <  MODE: np  >  <  Solver: fs  >\n",
      "d= 3|fs-np|er=4.4e-02 |erdx=3.2e-02 |erdy=1.8e-02 |T=   0.202\n",
      "d= 4|fs-np|er=1.1e-02 |erdx=7.9e-03 |erdy=4.5e-03 |T=   0.018\n",
      "d= 5|fs-np|er=2.7e-03 |erdx=2.0e-03 |erdy=1.1e-03 |T=   0.971\n",
      "------ <  MODE: np  >  <  Solver: fd  >\n",
      "d= 3|fd-np|er=4.4e-02 |erdx=3.2e-02 |erdy=1.8e-02 |T=   0.003\n",
      "d= 4|fd-np|er=1.1e-02 |erdx=7.9e-03 |erdy=4.5e-03 |T=   0.018\n",
      "d= 5|fd-np|er=2.7e-03 |erdx=2.0e-03 |erdy=1.1e-03 |T=   0.727\n"
     ]
    }
   ],
   "source": [
    "PDE = Pde()\n",
    "PDE.set_model('Simple. Analyt 2D diffusion PDE')\n",
    "PDE.set_params([np.pi, np.pi*2])\n",
    "     \n",
    "PDE.set_tau(tau=1.E-10, eps_lss=1.E-10, tau_lss=1.E-10)\n",
    "PDE.set_lss_params(nswp=20, kickrank=4, local_prec='n', local_iters=2,\n",
    "                   local_restart=20, trunc_norm=1, max_full_size=100)\n",
    "PDE.set_verb(False, False, False)\n",
    "\n",
    "d_list = {}\n",
    "d_list[SOLVER_FS] = {MODE_NP: range(3,  6, 1),\n",
    "                     MODE_TT: range(3, 15, 1)}\n",
    "d_list[SOLVER_FD] = {MODE_NP: range(3,  6, 1),\n",
    "                     MODE_TT: range(3, 13, 1),\n",
    "                     MODE_SP: range(3, 10, 1)}\n",
    "for mode in [MODE_TT, MODE_SP, MODE_NP]:\n",
    "    for solver in [SOLVER_FS, SOLVER_FD]:\n",
    "        if solver==SOLVER_FS and mode==MODE_SP:\n",
    "            continue\n",
    "        print '------ <  MODE: %s  >  <  Solver: %s  >'%(mode, solver)\n",
    "        for d in d_list[solver][mode]:\n",
    "            PDE.set_solver_txt(solver) \n",
    "            PDE.set_mode(mode) \n",
    "            PDE.update_d(d)\n",
    "            PDESolver = auto_solve(PDE, return_solver=True)     "
   ]
  },
  {
   "cell_type": "markdown",
   "metadata": {},
   "source": [
    "### 3D Solvers and modes comparison:\n",
    "\n",
    "we solve 3D stationary diffusion PDE with known analytical solution with different combinations of solvers and modes.\n",
    "\n",
    "# Note, solvers for 3D case are under development now !!"
   ]
  },
  {
   "cell_type": "code",
   "execution_count": 2,
   "metadata": {
    "collapsed": false
   },
   "outputs": [
    {
     "name": "stdout",
     "output_type": "stream",
     "text": [
      "------ <  MODE: tt  >  <  Solver: fs  >\n",
      "d= 3|fs-tt|er=1.1e-01 |erdx=8.6e-02 |erdy=5.3e-02 |erdz=4.7e-02 |T=   0.399|R=   6.6|It= 4\n",
      "d= 4|fs-tt|er=2.6e-02 |erdx=2.1e-02 |erdy=1.4e-02 |erdz=1.2e-02 |T=   0.691|R=   9.2|It= 5\n",
      "d= 5|fs-tt|er=6.5e-03 |erdx=5.2e-03 |erdy=3.5e-03 |erdz=3.1e-03 |T=   1.740|R=  11.6|It= 5\n",
      "d= 6|fs-tt|er=1.6e-03 |erdx=1.3e-03 |erdy=8.8e-04 |erdz=7.8e-04 |T=   2.935|R=  13.9|It= 6\n",
      "------ <  MODE: tt  >  <  Solver: fd  >\n",
      "d= 3|fd-tt|er=1.1e-01 |erdx=8.6e-02 |erdy=5.3e-02 |erdz=4.7e-02 |T=   0.306|R=   6.6|It= 3\n",
      "d= 4|fd-tt|er=2.6e-02 |erdx=2.1e-02 |erdy=1.4e-02 |erdz=1.2e-02 |T=   0.174|R=   7.8|It= 4\n",
      "d= 5|fd-tt|er=6.5e-03 |erdx=5.2e-03 |erdy=3.5e-03 |erdz=3.1e-03 |T=   0.245|R=   7.6|It= 4\n",
      "d= 6|fd-tt|er=1.6e-03 |erdx=1.3e-03 |erdy=8.8e-04 |erdz=7.8e-04 |T=   0.447|R=   7.0|It= 4\n",
      "d= 7|fd-tt|er=4.1e-04 |erdx=3.3e-04 |erdy=2.2e-04 |erdz=2.0e-04 |T=   0.411|R=   6.3|It= 4\n",
      "------ <  MODE: sp  >  <  Solver: fd  >\n",
      "d= 3|fd-sp|er=1.1e-01 |erdx=8.6e-02 |erdy=5.3e-02 |erdz=4.7e-02 |T=   0.017\n",
      "------ <  MODE: np  >  <  Solver: fs  >\n",
      "d= 3|fs-np|er=1.1e-01 |erdx=8.6e-02 |erdy=5.3e-02 |erdz=4.7e-02 |T=   0.888\n",
      "------ <  MODE: np  >  <  Solver: fd  >\n",
      "d= 3|fd-np|er=1.1e-01 |erdx=8.6e-02 |erdy=5.3e-02 |erdz=4.7e-02 |T=   0.111\n"
     ]
    }
   ],
   "source": [
    "PDE = Pde()\n",
    "PDE.set_model('Simple. Analyt 3D diffusion PDE')\n",
    "PDE.set_params([np.pi, np.pi*2, np.pi*3])\n",
    "     \n",
    "PDE.set_tau(tau=1.E-6, eps_lss=1.E-6, tau_lss=1.E-6)\n",
    "PDE.set_lss_params(nswp=20, kickrank=4, local_prec='n', local_iters=2,\n",
    "                   local_restart=20, trunc_norm=1, max_full_size=100)\n",
    "PDE.set_verb(False, False, False)\n",
    "\n",
    "d_list = {}\n",
    "d_list[SOLVER_FS] = {MODE_NP: range(3,  4, 1),\n",
    "                     MODE_TT: range(3,  7, 1)}\n",
    "d_list[SOLVER_FD] = {MODE_NP: range(3,  4, 1),\n",
    "                     MODE_TT: range(3,  8, 1),\n",
    "                     MODE_SP: range(3,  4, 1)}\n",
    "for mode in [MODE_TT, MODE_SP, MODE_NP]:\n",
    "    for solver in [SOLVER_FS, SOLVER_FD]:\n",
    "        if solver==SOLVER_FS and mode==MODE_SP:\n",
    "            continue\n",
    "        print '------ <  MODE: %s  >  <  Solver: %s  >'%(mode, solver)\n",
    "        for d in d_list[solver][mode]:\n",
    "            PDE.set_solver_txt(solver) \n",
    "            PDE.set_mode(mode) \n",
    "            PDE.update_d(d)\n",
    "            PDESolver = auto_solve(PDE, return_solver=True)"
   ]
  },
  {
   "cell_type": "code",
   "execution_count": 2,
   "metadata": {
    "collapsed": false
   },
   "outputs": [
    {
     "name": "stdout",
     "output_type": "stream",
     "text": [
      "(64,)\n",
      "(64,)\n",
      "(64,)\n",
      "8 3\n",
      "(512, 512)\n",
      "(512, 512)\n",
      "(512, 512)\n",
      "d= 3|fs-np|er=1.1e-01 |erdx=8.6e-02 |erdy=5.3e-02 |erdz=4.7e-02 |T=   0.826\n",
      "d= 3|fd-np|er=1.1e-01 |erdx=8.6e-02 |erdy=5.3e-02 |erdz=4.7e-02 |T=   0.130\n"
     ]
    }
   ],
   "source": [
    "PDE = Pde()\n",
    "PDE.set_model('Simple. Analyt 3D diffusion PDE')\n",
    "PDE.set_params([np.pi, np.pi*2, np.pi*3])\n",
    "     \n",
    "PDE.set_tau(tau=1.E-10, eps_lss=1.E-10, tau_lss=1.E-10)\n",
    "PDE.set_lss_params(nswp=20, kickrank=4, local_prec='n', local_iters=2,\n",
    "                   local_restart=20, trunc_norm=1, max_full_size=100)\n",
    "PDE.set_verb(False, False, False)\n",
    "PDE.update_d(3)\n",
    "\n",
    "PDE.set_solver_txt(SOLVER_FS) \n",
    "PDE.set_mode(MODE_NP) \n",
    "FS = auto_solve(PDE, return_solver=True)    \n",
    "PDE.set_solver_txt(SOLVER_FD) \n",
    "PDE.set_mode(MODE_NP) \n",
    "FD = auto_solve(PDE, return_solver=True)     "
   ]
  },
  {
   "cell_type": "code",
   "execution_count": 3,
   "metadata": {
    "collapsed": false
   },
   "outputs": [
    {
     "name": "stdout",
     "output_type": "stream",
     "text": [
      "6.70073221165e-16\n",
      "7.23840011256e-16\n",
      "7.6732291436e-16\n"
     ]
    }
   ],
   "source": [
    "from qttpdesolver import Vector, Matrix\n",
    "I = Matrix.eye(PDE.d, PDE.mode, PDE.tau)\n",
    "Z = Matrix.unit(PDE.d, PDE.mode, PDE.tau, -1, -1)\n",
    "J = I - Z\n",
    "\n",
    "Ax = FD.Sx.dot(FD.iBx.T).dot(FD.Kx).dot(FD.iBx).dot(FD.Sx) + FD.Zx\n",
    "X1 = Ax.dot(FS.Hx)\n",
    "print (I.kron(I).kron(J)).rel_err(X1)\n",
    "\n",
    "Ay = FD.Sy.dot(FD.iBy.T).dot(FD.Ky).dot(FD.iBy).dot(FD.Sy) + FD.Zy\n",
    "X1 = Ay.dot(FS.Hy)\n",
    "print (I.kron(J).kron(I)).rel_err(X1)\n",
    "\n",
    "Az = FD.Sz.dot(FD.iBz.T).dot(FD.Kz).dot(FD.iBz).dot(FD.Sz) + FD.Zz\n",
    "X1 = Az.dot(FS.Hz)\n",
    "print (J.kron(I).kron(I)).rel_err(X1)"
   ]
  },
  {
   "cell_type": "code",
   "execution_count": 4,
   "metadata": {
    "collapsed": false
   },
   "outputs": [
    {
     "ename": "NameError",
     "evalue": "name 'FS' is not defined",
     "output_type": "error",
     "traceback": [
      "\u001b[0;31m---------------------------------------------------------------------------\u001b[0m",
      "\u001b[0;31mNameError\u001b[0m                                 Traceback (most recent call last)",
      "\u001b[0;32m<ipython-input-4-37e0fe9529e1>\u001b[0m in \u001b[0;36m<module>\u001b[0;34m()\u001b[0m\n\u001b[0;32m----> 1\u001b[0;31m \u001b[0mFS\u001b[0m\u001b[0;34m.\u001b[0m\u001b[0mWx\u001b[0m\u001b[0;34m.\u001b[0m\u001b[0mx\u001b[0m\u001b[0;34m\u001b[0m\u001b[0m\n\u001b[0m",
      "\u001b[0;31mNameError\u001b[0m: name 'FS' is not defined"
     ]
    }
   ],
   "source": [
    "FS.Wx.x"
   ]
  },
  {
   "cell_type": "code",
   "execution_count": null,
   "metadata": {
    "collapsed": true
   },
   "outputs": [],
   "source": []
  },
  {
   "cell_type": "code",
   "execution_count": 15,
   "metadata": {
    "collapsed": false
   },
   "outputs": [
    {
     "name": "stdout",
     "output_type": "stream",
     "text": [
      "1.31147605429\n",
      "0.810978545591\n",
      "0.0\n",
      "4.3080906683e-17\n",
      "0.0\n",
      "0.0\n"
     ]
    }
   ],
   "source": [
    "print np.linalg.norm(FS.A.x[:PDE.n**3, :PDE.n**3] - FS.Hx.x-FS.Hz.x)\n",
    "print np.linalg.norm(FS.A.x[PDE.n**3:, :PDE.n**3] -FS.Hz.x)\n",
    "print np.linalg.norm(FS.A.x[:PDE.n**3, PDE.n**3:] -FS.Hz.x)\n",
    "print np.linalg.norm(FS.A.x[PDE.n**3:, PDE.n**3:] - FS.Hy.x-FS.Hz.x)\n",
    "print np.linalg.norm(FS.rhs.x[PDE.n**3:] - FS.Hz.dot(FS.f).x)\n",
    "print np.linalg.norm(FS.rhs.x[:PDE.n**3] - FS.Hz.dot(FS.f).x)"
   ]
  },
  {
   "cell_type": "code",
   "execution_count": 38,
   "metadata": {
    "collapsed": false
   },
   "outputs": [
    {
     "name": "stdout",
     "output_type": "stream",
     "text": [
      "0\n",
      "0\n",
      "1\n",
      "[[ 0.  1.]\n",
      " [ 0.  0.]]\n",
      "[[ 11.  12.]\n",
      " [ 13.  14.]]\n",
      "[[ 11.  12.  11.  12.]\n",
      " [ 13.  14.  13.  14.]\n",
      " [  0.   0.   0.   0.]\n",
      " [  0.   0.   0.   0.]]\n",
      "\n",
      "1\n",
      "0\n",
      "1\n",
      "[[ 0.  0.]\n",
      " [ 0.  1.]]\n",
      "[[ 41.  42.]\n",
      " [ 43.  44.]]\n",
      "[[ 11.  12.  11.  12.]\n",
      " [ 13.  14.  13.  14.]\n",
      " [ 31.  32.  41.  42.]\n",
      " [ 33.  34.  43.  44.]]\n",
      "\n",
      "[[ 11.  12.  11.  12.]\n",
      " [ 13.  14.  13.  14.]\n",
      " [ 31.  32.  41.  42.]\n",
      " [ 33.  34.  43.  44.]]\n"
     ]
    }
   ],
   "source": [
    "def _n2d(n):\n",
    "    d = int(np.log2(n))\n",
    "    if 2**d != n:\n",
    "        raise ValueError('Incorrect size.')\n",
    "    return d\n",
    "\n",
    "def block(mlist, name='df'):\n",
    "    '''\n",
    "    Construct square block matrix from list of lists, that contains matrices\n",
    "    of equal shape and maybe some (not all!) None/int/float entries.\n",
    "    For None/int/float entries elements in the corresponding block\n",
    "    will be filled by zeros.\n",
    "    '''\n",
    "    res = None\n",
    "    if not isinstance(mlist, list):\n",
    "        raise ValueError('This should be a list.')\n",
    "    d0 = _n2d(len(mlist)) \n",
    "    n0 = 2**d0\n",
    "    for i, mrow in enumerate(mlist):\n",
    "        print i\n",
    "        if not isinstance(mrow, list):\n",
    "            raise ValueError('List of lists should contain only lists.')\n",
    "        if not n0 == len(mrow):\n",
    "            raise ValueError('The length of the list and sub-lists should be equal.')  \n",
    "        for j, m in enumerate(mrow):\n",
    "            print j\n",
    "            if (m is None or isinstance(m, (int, float))) or \\\n",
    "               (isinstance(m, Matrix) and m.isnone):\n",
    "                print 'heh'\n",
    "                continue\n",
    "            e = Matrix.unit(d0, m.mode, m.tau, i, j)\n",
    "            if res is None:\n",
    "                res = e.kron(m)\n",
    "            else:\n",
    "                res+= e.kron(m)\n",
    "        print e.x\n",
    "        print m.x\n",
    "        print res.x\n",
    "        print\n",
    "    res.name = name\n",
    "    return res\n",
    "    \n",
    "a = np.array([[1., 2.], [3., 4.]])\n",
    "b = np.array([[11., 12.], [13., 14.]])\n",
    "c = np.array([[31., 32.], [33., 34.]])\n",
    "d = np.array([[41., 42.], [43., 44.]])\n",
    "x = block([[Matrix(b), Matrix(b)], [Matrix(c), Matrix(d)]])\n",
    "print x.to_np"
   ]
  },
  {
   "cell_type": "code",
   "execution_count": 23,
   "metadata": {
    "collapsed": false
   },
   "outputs": [
    {
     "name": "stdout",
     "output_type": "stream",
     "text": [
      "[[ 0.  0.  0.  0.]\n",
      " [ 0.  0.  1.  0.]\n",
      " [ 0.  0.  0.  0.]\n",
      " [ 0.  0.  0.  0.]]\n"
     ]
    }
   ],
   "source": [
    "print Matrix.unit(2, MODE_NP, 1.E-8, 1, 2).to_np"
   ]
  },
  {
   "cell_type": "code",
   "execution_count": null,
   "metadata": {
    "collapsed": true
   },
   "outputs": [],
   "source": []
  },
  {
   "cell_type": "code",
   "execution_count": 3,
   "metadata": {
    "collapsed": false
   },
   "outputs": [
    {
     "name": "stdout",
     "output_type": "stream",
     "text": [
      "------ <  MODE: tt  >  <  Solver: fd  >\n",
      "d= 3|fd-tt|er=1.1e-01 |erdx=8.6e-02 |erdy=5.3e-02 |erdz=4.7e-02 |T=   0.139|R=   8.0|It= 4\n",
      "d= 4|fd-tt|er=2.6e-02 |erdx=2.1e-02 |erdy=1.4e-02 |erdz=1.2e-02 |T=   0.229|R=  13.6|It= 7\n",
      "d= 5|fd-tt|er=6.5e-03 |erdx=5.2e-03 |erdy=3.5e-03 |erdz=3.1e-03 |T=   0.370|R=  16.3|It= 8\n",
      "d= 6|fd-tt|er=1.6e-03 |erdx=1.3e-03 |erdy=8.8e-04 |erdz=7.8e-04 |T=   0.577|R=  17.2|It= 8\n",
      "d= 7|fd-tt|er=4.1e-04 |erdx=3.3e-04 |erdy=2.2e-04 |erdz=2.0e-04 |T=   0.834|R=  15.8|It= 9\n",
      "------ <  MODE: sp  >  <  Solver: fd  >\n",
      "d= 3|fd-sp|er=1.1e-01 |erdx=8.6e-02 |erdy=5.3e-02 |erdz=4.7e-02 |T=   0.014\n",
      "------ <  MODE: np  >  <  Solver: fd  >\n",
      "d= 3|fd-np|er=1.1e-01 |erdx=8.6e-02 |erdy=5.3e-02 |erdz=4.7e-02 |T=   0.122\n"
     ]
    }
   ],
   "source": [
    "PDE = Pde()\n",
    "PDE.set_model('Simple. Analyt 3D diffusion PDE')\n",
    "PDE.set_params([np.pi, np.pi*2, np.pi*3])\n",
    "     \n",
    "PDE.set_tau(tau=1.E-10, eps_lss=1.E-10, tau_lss=1.E-10)\n",
    "PDE.set_lss_params(nswp=20, kickrank=4, local_prec='n', local_iters=2,\n",
    "                   local_restart=20, trunc_norm=1, max_full_size=100)\n",
    "PDE.set_verb(False, False, False)\n",
    "\n",
    "d_list = {}\n",
    "d_list[SOLVER_FS] = {MODE_NP: range(3,  4, 1),\n",
    "                     MODE_TT: range(3,  8, 1)}\n",
    "d_list[SOLVER_FD] = {MODE_NP: range(3,  4, 1),\n",
    "                     MODE_TT: range(3,  8, 1),\n",
    "                     MODE_SP: range(3,  4, 1)}\n",
    "for mode in [MODE_TT, MODE_SP, MODE_NP]:\n",
    "    for solver in [SOLVER_FD]: # SOLVER_FS is not ready now\n",
    "        if solver==SOLVER_FS and mode==MODE_SP:\n",
    "            continue\n",
    "        print '------ <  MODE: %s  >  <  Solver: %s  >'%(mode, solver)\n",
    "        for d in d_list[solver][mode]:\n",
    "            PDE.set_solver_txt(solver) \n",
    "            PDE.set_mode(mode) \n",
    "            PDE.update_d(d)\n",
    "            PDESolver = auto_solve(PDE, return_solver=True)     "
   ]
  },
  {
   "cell_type": "code",
   "execution_count": null,
   "metadata": {
    "collapsed": true
   },
   "outputs": [],
   "source": []
  }
 ],
 "metadata": {
  "anaconda-cloud": {},
  "kernelspec": {
   "display_name": "Python [default]",
   "language": "python",
   "name": "python2"
  },
  "language_info": {
   "codemirror_mode": {
    "name": "ipython",
    "version": 2
   },
   "file_extension": ".py",
   "mimetype": "text/x-python",
   "name": "python",
   "nbconvert_exporter": "python",
   "pygments_lexer": "ipython2",
   "version": "2.7.12"
  }
 },
 "nbformat": 4,
 "nbformat_minor": 0
}
