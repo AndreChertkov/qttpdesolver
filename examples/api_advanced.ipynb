{
 "cells": [
  {
   "cell_type": "markdown",
   "metadata": {},
   "source": [
    "# Advanced API for qttpdesolver package.\n",
    "\n",
    "We consider various examples of qttpdesolver usage (see api_basic_1d.ipynb, api_basic_2d.ipynb and api_basic_3d.ipynb first)."
   ]
  },
  {
   "cell_type": "code",
   "execution_count": 1,
   "metadata": {
    "collapsed": false
   },
   "outputs": [],
   "source": [
    "%matplotlib inline\n",
    "import numpy as np\n",
    "\n",
    "from qttpdesolver import Pde, create_solver, auto_solve\n",
    "from qttpdesolver import MODE_NP, MODE_TT, MODE_SP, SOLVER_FS, SOLVER_FD"
   ]
  },
  {
   "cell_type": "markdown",
   "metadata": {},
   "source": [
    "### 1D Solvers and modes comparison:\n",
    "\n",
    "we solve 1D stationary diffusion PDE with known analytical solution with different combinations of solvers and modes."
   ]
  },
  {
   "cell_type": "code",
   "execution_count": 2,
   "metadata": {
    "collapsed": false
   },
   "outputs": [
    {
     "name": "stdout",
     "output_type": "stream",
     "text": [
      "------ <  MODE: tt  >  <  Solver: fs  >\n",
      "d= 8|fs-tt|er=5.1e-05 |erdx=2.6e-05 |T=0.176  |R=4.3  |It=0 \n",
      "d=10|fs-tt|er=3.2e-06 |erdx=1.6e-06 |T=0.123  |R=3.9  |It=0 \n",
      "d=12|fs-tt|er=2.0e-07 |erdx=1.0e-07 |T=0.122  |R=3.6  |It=0 \n",
      "d=14|fs-tt|er=1.3e-08 |erdx=6.3e-09 |T=0.140  |R=3.0  |It=0 \n",
      "d=16|fs-tt|er=7.8e-10 |erdx=4.0e-10 |T=0.160  |R=2.7  |It=0 \n",
      "d=18|fs-tt|er=4.9e-11 |erdx=2.5e-11 |T=0.187  |R=2.4  |It=0 \n",
      "d=20|fs-tt|er=3.1e-12 |erdx=1.5e-12 |T=0.247  |R=2.2  |It=0 \n",
      "d=22|fs-tt|er=1.9e-13 |erdx=9.6e-14 |T=0.257  |R=2.0  |It=0 \n",
      "------ <  MODE: tt  >  <  Solver: fd  >\n",
      "d= 8|fd-tt|er=5.1e-05 |erdx=2.6e-05 |T=0.264  |R=4.8  |It=20\n",
      "d=10|fd-tt|er=3.2e-06 |erdx=1.6e-06 |T=0.545  |R=4.6  |It=20\n",
      "d=12|fd-tt|er=2.0e-07 |erdx=1.1e-06 |T=1.753  |R=4.8  |It=20\n",
      "d=14|fd-tt|er=6.0e-08 |erdx=5.2e-06 |T=1.882  |R=4.8  |It=20\n",
      "d=16|fd-tt|er=2.5e-07 |erdx=6.3e-06 |T=3.218  |R=6.8  |It=20\n",
      "d=18|fd-tt|er=1.5e-06 |erdx=5.5e-02 |T=4.329  |R=9.4  |It=20\n",
      "d=20|fd-tt|er=3.6e-05 |erdx=8.2e-02 |T=7.258  |R=18.5 |It=20\n",
      "------ <  MODE: sp  >  <  Solver: fd  >\n",
      "d= 8|fd-sp|er=5.1e-05 |erdx=2.6e-05 |T=0.078  |It=0 \n",
      "d=10|fd-sp|er=3.2e-06 |erdx=1.6e-06 |T=0.010  |It=0 \n",
      "d=12|fd-sp|er=2.0e-07 |erdx=1.0e-07 |T=0.015  |It=0 \n",
      "d=14|fd-sp|er=1.3e-08 |erdx=6.3e-09 |T=0.050  |It=0 \n",
      "d=16|fd-sp|er=8.1e-10 |erdx=4.2e-10 |T=0.249  |It=0 \n",
      "d=18|fd-sp|er=8.7e-10 |erdx=6.8e-10 |T=0.951  |It=0 \n",
      "d=20|fd-sp|er=1.7e-08 |erdx=1.3e-08 |T=4.387  |It=0 \n",
      "------ <  MODE: np  >  <  Solver: fs  >\n",
      "d= 8|fs-np|er=5.1e-05 |erdx=2.6e-05 |T=1.519  |It=0 \n",
      "d=10|fs-np|er=3.2e-06 |erdx=1.6e-06 |T=0.015  |It=0 \n",
      "d=12|fs-np|er=2.0e-07 |erdx=1.0e-07 |T=0.630  |It=0 \n",
      "------ <  MODE: np  >  <  Solver: fd  >\n",
      "d= 8|fd-np|er=5.1e-05 |erdx=2.6e-05 |T=0.144  |It=0 \n",
      "d=10|fd-np|er=3.2e-06 |erdx=1.6e-06 |T=2.376  |It=0 \n"
     ]
    }
   ],
   "source": [
    "PDE = Pde()\n",
    "PDE.set_model('Simple. Analyt 1D diffusion PDE')\n",
    "PDE.set_params([np.pi*2])\n",
    "     \n",
    "PDE.set_tau(tau=1.E-14, eps_lss=1.E-14, tau_lss=1.E-14)\n",
    "PDE.set_lss_params(nswp=20, kickrank=4, local_prec='n', local_iters=2,\n",
    "                   local_restart=20, trunc_norm=1, max_full_size=100)\n",
    "PDE.set_verb(False, False, False)\n",
    "\n",
    "d_list = {}\n",
    "d_list[SOLVER_FS] = {MODE_NP: range(8, 13, 2),\n",
    "                     MODE_TT: range(8, 23, 2)}\n",
    "d_list[SOLVER_FD] = {MODE_NP: range(8, 11, 2),\n",
    "                     MODE_TT: range(8, 21, 2),\n",
    "                     MODE_SP: range(8, 21, 2)}\n",
    "for mode in [MODE_TT, MODE_SP, MODE_NP]:\n",
    "    for solver in [SOLVER_FS, SOLVER_FD]:\n",
    "        if solver==SOLVER_FS and mode==MODE_SP:\n",
    "            continue\n",
    "        print '------ <  MODE: %s  >  <  Solver: %s  >'%(mode, solver)\n",
    "        for d in d_list[solver][mode]:\n",
    "            PDE.set_solver_txt(solver) \n",
    "            PDE.set_mode(mode) \n",
    "            PDE.update_d(d)\n",
    "            PDESolver = auto_solve(PDE, return_solver=True)  "
   ]
  },
  {
   "cell_type": "markdown",
   "metadata": {},
   "source": [
    "### 2D Solvers and modes comparison:\n",
    "\n",
    "we solve 2D stationary diffusion PDE with known analytical solution with different combinations of solvers and modes."
   ]
  },
  {
   "cell_type": "code",
   "execution_count": 3,
   "metadata": {
    "collapsed": false
   },
   "outputs": [
    {
     "name": "stdout",
     "output_type": "stream",
     "text": [
      "------ <  MODE: tt  >  <  Solver: fs  >\n",
      "d= 3|fs-tt|er=4.4e-02 |erdx=3.2e-02 |erdy=1.8e-02 |T=0.183  |R=4.1  |It=2 \n",
      "d= 4|fs-tt|er=1.1e-02 |erdx=7.9e-03 |erdy=4.5e-03 |T=0.419  |R=5.6  |It=3 \n",
      "d= 5|fs-tt|er=2.7e-03 |erdx=2.0e-03 |erdy=1.1e-03 |T=0.763  |R=6.7  |It=3 \n",
      "d= 6|fs-tt|er=6.8e-04 |erdx=4.9e-04 |erdy=2.8e-04 |T=1.396  |R=6.9  |It=3 \n",
      "d= 7|fs-tt|er=1.7e-04 |erdx=1.2e-04 |erdy=7.0e-05 |T=2.328  |R=7.1  |It=4 \n",
      "d= 8|fs-tt|er=4.2e-05 |erdx=3.1e-05 |erdy=1.8e-05 |T=3.016  |R=7.0  |It=3 \n",
      "d= 9|fs-tt|er=1.1e-05 |erdx=7.7e-06 |erdy=4.4e-06 |T=3.422  |R=7.2  |It=3 \n",
      "d=10|fs-tt|er=2.6e-06 |erdx=1.9e-06 |erdy=1.1e-06 |T=4.692  |R=7.4  |It=3 \n",
      "d=11|fs-tt|er=6.6e-07 |erdx=4.8e-07 |erdy=2.8e-07 |T=6.053  |R=6.9  |It=3 \n",
      "d=12|fs-tt|er=1.7e-07 |erdx=1.2e-07 |erdy=6.9e-08 |T=6.038  |R=7.4  |It=3 \n",
      "d=13|fs-tt|er=4.1e-08 |erdx=3.0e-08 |erdy=1.7e-08 |T=7.189  |R=7.3  |It=3 \n",
      "d=14|fs-tt|er=1.0e-08 |erdx=8.5e-09 |erdy=5.3e-09 |T=9.411  |R=7.6  |It=3 \n",
      "------ <  MODE: tt  >  <  Solver: fd  >\n",
      "d= 3|fd-tt|er=4.4e-02 |erdx=3.2e-02 |erdy=1.8e-02 |T=0.134  |R=4.1  |It=3 \n",
      "d= 4|fd-tt|er=1.1e-02 |erdx=7.9e-03 |erdy=4.5e-03 |T=0.330  |R=5.6  |It=4 \n",
      "d= 5|fd-tt|er=2.7e-03 |erdx=2.0e-03 |erdy=1.1e-03 |T=0.456  |R=6.9  |It=4 \n",
      "d= 6|fd-tt|er=6.8e-04 |erdx=4.9e-04 |erdy=2.8e-04 |T=0.630  |R=6.8  |It=6 \n",
      "d= 7|fd-tt|er=1.7e-04 |erdx=1.2e-04 |erdy=7.0e-05 |T=1.691  |R=6.9  |It=12\n",
      "d= 8|fd-tt|er=4.2e-05 |erdx=3.1e-05 |erdy=1.8e-05 |T=1.875  |R=6.5  |It=15\n",
      "d= 9|fd-tt|er=1.1e-05 |erdx=7.7e-06 |erdy=4.4e-06 |T=3.676  |R=6.2  |It=20\n",
      "d=10|fd-tt|er=4.2e-06 |erdx=7.2e-06 |erdy=2.3e-05 |T=3.424  |R=15.1 |It=20\n",
      "d=11|fd-tt|er=9.9e-06 |erdx=4.2e-05 |erdy=1.0e-05 |T=5.570  |R=11.9 |It=20\n",
      "d=12|fd-tt|er=3.6e-03 |erdx=7.4e-03 |erdy=3.7e-03 |T=7.689  |R=20.2 |It=20\n",
      "------ <  MODE: sp  >  <  Solver: fd  >\n",
      "d= 3|fd-sp|er=4.4e-02 |erdx=3.2e-02 |erdy=1.8e-02 |T=0.014  |It=0 \n",
      "d= 4|fd-sp|er=1.1e-02 |erdx=7.9e-03 |erdy=4.5e-03 |T=0.016  |It=0 \n",
      "d= 5|fd-sp|er=2.7e-03 |erdx=2.0e-03 |erdy=1.1e-03 |T=0.022  |It=0 \n",
      "d= 6|fd-sp|er=6.8e-04 |erdx=4.9e-04 |erdy=2.8e-04 |T=0.060  |It=0 \n",
      "d= 7|fd-sp|er=1.7e-04 |erdx=1.2e-04 |erdy=7.0e-05 |T=0.390  |It=0 \n",
      "d= 8|fd-sp|er=4.2e-05 |erdx=3.1e-05 |erdy=1.8e-05 |T=1.741  |It=0 \n",
      "d= 9|fd-sp|er=1.1e-05 |erdx=7.7e-06 |erdy=4.4e-06 |T=10.480 |It=0 \n",
      "------ <  MODE: np  >  <  Solver: fs  >\n",
      "d= 3|fs-np|er=4.4e-02 |erdx=3.2e-02 |erdy=1.8e-02 |T=0.040  |It=0 \n",
      "d= 4|fs-np|er=1.1e-02 |erdx=7.9e-03 |erdy=4.5e-03 |T=0.063  |It=0 \n",
      "d= 5|fs-np|er=2.7e-03 |erdx=2.0e-03 |erdy=1.1e-03 |T=2.361  |It=0 \n",
      "------ <  MODE: np  >  <  Solver: fd  >\n",
      "d= 3|fd-np|er=4.4e-02 |erdx=3.2e-02 |erdy=1.8e-02 |T=0.007  |It=0 \n",
      "d= 4|fd-np|er=1.1e-02 |erdx=7.9e-03 |erdy=4.5e-03 |T=0.069  |It=0 \n",
      "d= 5|fd-np|er=2.7e-03 |erdx=2.0e-03 |erdy=1.1e-03 |T=2.480  |It=0 \n"
     ]
    }
   ],
   "source": [
    "PDE = Pde()\n",
    "PDE.set_model('Simple. Analyt 2D diffusion PDE')\n",
    "PDE.set_params([np.pi, np.pi*2])\n",
    "     \n",
    "PDE.set_tau(tau=1.E-10, eps_lss=1.E-10, tau_lss=1.E-10)\n",
    "PDE.set_lss_params(nswp=20, kickrank=4, local_prec='n', local_iters=2,\n",
    "                   local_restart=20, trunc_norm=1, max_full_size=100)\n",
    "PDE.set_verb(False, False, False)\n",
    "\n",
    "d_list = {}\n",
    "d_list[SOLVER_FS] = {MODE_NP: range(3,  6, 1),\n",
    "                     MODE_TT: range(3, 15, 1)}\n",
    "d_list[SOLVER_FD] = {MODE_NP: range(3,  6, 1),\n",
    "                     MODE_TT: range(3, 13, 1),\n",
    "                     MODE_SP: range(3, 10, 1)}\n",
    "for mode in [MODE_TT, MODE_SP, MODE_NP]:\n",
    "    for solver in [SOLVER_FS, SOLVER_FD]:\n",
    "        if solver==SOLVER_FS and mode==MODE_SP:\n",
    "            continue\n",
    "        print '------ <  MODE: %s  >  <  Solver: %s  >'%(mode, solver)\n",
    "        for d in d_list[solver][mode]:\n",
    "            PDE.set_solver_txt(solver) \n",
    "            PDE.set_mode(mode) \n",
    "            PDE.update_d(d)\n",
    "            PDESolver = auto_solve(PDE, return_solver=True)     "
   ]
  },
  {
   "cell_type": "markdown",
   "metadata": {},
   "source": [
    "### 3D Solvers and modes comparison:\n",
    "\n",
    "we solve 3D stationary diffusion PDE with known analytical solution with different combinations of solvers and modes.\n",
    "\n",
    "# Note, solvers for 3D case are under development now !!"
   ]
  },
  {
   "cell_type": "code",
   "execution_count": 2,
   "metadata": {
    "collapsed": false
   },
   "outputs": [
    {
     "name": "stdout",
     "output_type": "stream",
     "text": [
      "------ <  MODE: tt  >  <  Solver: fd  >\n",
      "d= 3|fd-tt|er=1.1e-01 |erdx=8.6e-02 |erdy=5.3e-02 |erdz=4.7e-02 |T=0.450  |R=8.0  |It=4 \n",
      "d= 4|fd-tt|er=2.6e-02 |erdx=2.1e-02 |erdy=1.4e-02 |erdz=1.2e-02 |T=0.664  |R=13.6 |It=6 \n",
      "d= 5|fd-tt|er=6.5e-03 |erdx=5.2e-03 |erdy=3.5e-03 |erdz=3.1e-03 |T=1.253  |R=16.3 |It=8 \n",
      "d= 6|fd-tt|er=1.6e-03 |erdx=1.3e-03 |erdy=8.8e-04 |erdz=7.8e-04 |T=1.978  |R=17.2 |It=8 \n",
      "d= 7|fd-tt|er=4.1e-04 |erdx=3.3e-04 |erdy=2.2e-04 |erdz=2.0e-04 |T=2.649  |R=15.8 |It=8 \n",
      "------ <  MODE: sp  >  <  Solver: fd  >\n",
      "d= 3|fd-sp|er=1.1e-01 |erdx=8.6e-02 |erdy=5.3e-02 |erdz=4.7e-02 |T=0.036  |It=0 \n",
      "------ <  MODE: np  >  <  Solver: fd  >\n",
      "d= 3|fd-np|er=1.1e-01 |erdx=8.6e-02 |erdy=5.3e-02 |erdz=4.7e-02 |T=0.463  |It=0 \n"
     ]
    }
   ],
   "source": [
    "PDE = Pde()\n",
    "PDE.set_model('Simple. Analyt 3D diffusion PDE')\n",
    "PDE.set_params([np.pi, np.pi*2, np.pi*3])\n",
    "     \n",
    "PDE.set_tau(tau=1.E-10, eps_lss=1.E-10, tau_lss=1.E-10)\n",
    "PDE.set_lss_params(nswp=20, kickrank=4, local_prec='n', local_iters=2,\n",
    "                   local_restart=20, trunc_norm=1, max_full_size=100)\n",
    "PDE.set_verb(False, False, False)\n",
    "\n",
    "d_list = {}\n",
    "d_list[SOLVER_FS] = {MODE_NP: range(3,  4, 1),\n",
    "                     MODE_TT: range(3,  8, 1)}\n",
    "d_list[SOLVER_FD] = {MODE_NP: range(3,  4, 1),\n",
    "                     MODE_TT: range(3,  8, 1),\n",
    "                     MODE_SP: range(3,  4, 1)}\n",
    "for mode in [MODE_TT, MODE_SP, MODE_NP]:\n",
    "    for solver in [SOLVER_FD]: # SOLVER_FS is not ready now\n",
    "        if solver==SOLVER_FS and mode==MODE_SP:\n",
    "            continue\n",
    "        print '------ <  MODE: %s  >  <  Solver: %s  >'%(mode, solver)\n",
    "        for d in d_list[solver][mode]:\n",
    "            PDE.set_solver_txt(solver) \n",
    "            PDE.set_mode(mode) \n",
    "            PDE.update_d(d)\n",
    "            PDESolver = auto_solve(PDE, return_solver=True)     "
   ]
  },
  {
   "cell_type": "code",
   "execution_count": null,
   "metadata": {
    "collapsed": true
   },
   "outputs": [],
   "source": []
  }
 ],
 "metadata": {
  "anaconda-cloud": {},
  "kernelspec": {
   "display_name": "Python [default]",
   "language": "python",
   "name": "python2"
  },
  "language_info": {
   "codemirror_mode": {
    "name": "ipython",
    "version": 2
   },
   "file_extension": ".py",
   "mimetype": "text/x-python",
   "name": "python",
   "nbconvert_exporter": "python",
   "pygments_lexer": "ipython2",
   "version": "2.7.12"
  }
 },
 "nbformat": 4,
 "nbformat_minor": 0
}
